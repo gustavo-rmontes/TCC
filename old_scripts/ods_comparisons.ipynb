{
 "cells": [
  {
   "cell_type": "markdown",
   "metadata": {},
   "source": [
    "# Comparação entre diferentes ODs\n",
    "Análise de comparação da representatividade dos diferentes meios de transporte entre versões da pesquisa Origem Destino\n",
    "\n",
    "Dataset: [Pesquisa Origem e Destino](https://transparencia.metrosp.com.br/dataset/pesquisa-origem-e-destino)"
   ]
  },
  {
   "cell_type": "markdown",
   "metadata": {},
   "source": [
    "---"
   ]
  },
  {
   "cell_type": "code",
   "execution_count": null,
   "metadata": {},
   "outputs": [],
   "source": [
    "import pandas as pd\n",
    "import matplotlib.pyplot as plt\n",
    "from dbfread import DBF\n",
    "from simpledbf import Dbf5"
   ]
  },
  {
   "cell_type": "code",
   "execution_count": 4,
   "metadata": {},
   "outputs": [],
   "source": [
    "# Datasets path\n",
    "od77_path = '../data/OD/OD-1977/Banco de Dados/od77_CD.dbf'\n",
    "od87_path = '../data/OD/OD-1987/Banco de Dados/OD_1987.dbf'\n",
    "od97_path = '../data/OD/OD-1997/Banco de Dados/Domiciliar/OD97Zona.dbf'\n",
    "od07_path = '../data/OD/OD-2007/Banco de Dados-OD2007/OD_2007_v2d.dbf'\n",
    "od17_path = '../data/OD/OD-2017/Banco de Dados-OD2017/od_2017.csv'\n"
   ]
  },
  {
   "cell_type": "markdown",
   "metadata": {},
   "source": [
    "## OD-17"
   ]
  },
  {
   "cell_type": "code",
   "execution_count": 73,
   "metadata": {},
   "outputs": [],
   "source": [
    "df_17 = pd.read_csv(od17_path)"
   ]
  },
  {
   "cell_type": "code",
   "execution_count": 74,
   "metadata": {},
   "outputs": [],
   "source": [
    "df_17 = df_17[['MODOPRIN', 'FE_VIA']]\n",
    "df_17 = df_17.dropna(subset='MODOPRIN')"
   ]
  },
  {
   "cell_type": "code",
   "execution_count": 75,
   "metadata": {},
   "outputs": [],
   "source": [
    "sum_fe_via = df_17['FE_VIA'].sum()"
   ]
  },
  {
   "cell_type": "code",
   "execution_count": 76,
   "metadata": {},
   "outputs": [
    {
     "data": {
      "text/plain": [
       "31.78"
      ]
     },
     "execution_count": 76,
     "metadata": {},
     "output_type": "execute_result"
    }
   ],
   "source": [
    "df_17 = df_17.query('MODOPRIN == 16') # filtra viagens a pé\n",
    "walk_17 = (df_17['FE_VIA'].sum() / sum_fe_via * 100).round(2) # calcula a rep de viagens a pé\n",
    "walk_17"
   ]
  },
  {
   "cell_type": "markdown",
   "metadata": {},
   "source": [
    "---"
   ]
  },
  {
   "cell_type": "markdown",
   "metadata": {},
   "source": [
    "## OD-2007"
   ]
  },
  {
   "cell_type": "code",
   "execution_count": null,
   "metadata": {},
   "outputs": [],
   "source": [
    "# Leitura do seu arquivo DBF\n",
    "dbf = Dbf5(od07_path)\n",
    "# Converte para um DataFrame do pandas\n",
    "df_07 = dbf.to_dataframe()"
   ]
  },
  {
   "cell_type": "code",
   "execution_count": null,
   "metadata": {},
   "outputs": [],
   "source": [
    "df_07 = df_07[['MODOPRIN', 'FE_VIA']]"
   ]
  },
  {
   "cell_type": "code",
   "execution_count": 45,
   "metadata": {},
   "outputs": [],
   "source": [
    "sum_fe_via = df_07['FE_VIA'].sum()"
   ]
  },
  {
   "cell_type": "code",
   "execution_count": 54,
   "metadata": {},
   "outputs": [
    {
     "data": {
      "text/plain": [
       "33.14"
      ]
     },
     "execution_count": 54,
     "metadata": {},
     "output_type": "execute_result"
    }
   ],
   "source": [
    "df_07 = df_07.query('MODOPRIN == 16') # filtra viagens a pé\n",
    "walk_07 = (df_07['FE_VIA'].sum() / sum_fe_via * 100).round(2) # calcula a rep de viagens a pé\n",
    "walk_07"
   ]
  },
  {
   "cell_type": "markdown",
   "metadata": {},
   "source": [
    "---"
   ]
  },
  {
   "cell_type": "markdown",
   "metadata": {},
   "source": [
    "## OD-97"
   ]
  },
  {
   "cell_type": "code",
   "execution_count": 57,
   "metadata": {},
   "outputs": [],
   "source": [
    "# Leitura do seu arquivo DBF\n",
    "dbf = Dbf5(od97_path)\n",
    "# Converte para um DataFrame do pandas\n",
    "df_97 = dbf.to_dataframe()"
   ]
  },
  {
   "cell_type": "code",
   "execution_count": 59,
   "metadata": {},
   "outputs": [],
   "source": [
    "df_97 = df_97[['MODOPRIN', 'FE_VIA']]"
   ]
  },
  {
   "cell_type": "code",
   "execution_count": 60,
   "metadata": {},
   "outputs": [],
   "source": [
    "sum_fe_via = df_97['FE_VIA'].sum()"
   ]
  },
  {
   "cell_type": "code",
   "execution_count": 61,
   "metadata": {},
   "outputs": [
    {
     "data": {
      "text/plain": [
       "34.4"
      ]
     },
     "execution_count": 61,
     "metadata": {},
     "output_type": "execute_result"
    }
   ],
   "source": [
    "df_97 = df_97.query('MODOPRIN == 12') # filtra viagens a pé\n",
    "walk_97 = (df_97['FE_VIA'].sum() / sum_fe_via * 100).round(2) # calcula a rep de viagens a pé\n",
    "walk_97"
   ]
  },
  {
   "cell_type": "markdown",
   "metadata": {},
   "source": [
    "---"
   ]
  },
  {
   "cell_type": "markdown",
   "metadata": {},
   "source": [
    "## OD-87"
   ]
  },
  {
   "cell_type": "code",
   "execution_count": 62,
   "metadata": {},
   "outputs": [],
   "source": [
    "# Leitura do seu arquivo DBF\n",
    "dbf = Dbf5(od87_path)\n",
    "# Converte para um DataFrame do pandas\n",
    "df_87 = dbf.to_dataframe()"
   ]
  },
  {
   "cell_type": "code",
   "execution_count": 63,
   "metadata": {},
   "outputs": [],
   "source": [
    "df_87 = df_87[['MODOPRIN', 'FE_VIA']]"
   ]
  },
  {
   "cell_type": "code",
   "execution_count": 64,
   "metadata": {},
   "outputs": [],
   "source": [
    "sum_fe_via = df_87['FE_VIA'].sum()"
   ]
  },
  {
   "cell_type": "code",
   "execution_count": 65,
   "metadata": {},
   "outputs": [
    {
     "data": {
      "text/plain": [
       "36.23"
      ]
     },
     "execution_count": 65,
     "metadata": {},
     "output_type": "execute_result"
    }
   ],
   "source": [
    "df_87 = df_87.query('MODOPRIN == 13') # filtra viagens a pé\n",
    "walk_87 = (df_87['FE_VIA'].sum() / sum_fe_via * 100).round(2) # calcula a rep de viagens a pé\n",
    "walk_87"
   ]
  },
  {
   "cell_type": "markdown",
   "metadata": {},
   "source": [
    "---"
   ]
  },
  {
   "cell_type": "markdown",
   "metadata": {},
   "source": [
    "## OD-77"
   ]
  },
  {
   "cell_type": "code",
   "execution_count": 66,
   "metadata": {},
   "outputs": [],
   "source": [
    "# Leitura do seu arquivo DBF\n",
    "dbf = Dbf5(od77_path)\n",
    "# Converte para um DataFrame do pandas\n",
    "df_77 = dbf.to_dataframe()"
   ]
  },
  {
   "cell_type": "code",
   "execution_count": 77,
   "metadata": {},
   "outputs": [],
   "source": [
    "df_77 = df_77[['MODOPRIN', 'FE_VIA']]"
   ]
  },
  {
   "cell_type": "code",
   "execution_count": 78,
   "metadata": {},
   "outputs": [],
   "source": [
    "sum_fe_via = df_77['FE_VIA'].sum()"
   ]
  },
  {
   "cell_type": "code",
   "execution_count": 79,
   "metadata": {},
   "outputs": [
    {
     "data": {
      "text/plain": [
       "28.03"
      ]
     },
     "execution_count": 79,
     "metadata": {},
     "output_type": "execute_result"
    }
   ],
   "source": [
    "df_77 = df_77.query('MODOPRIN == 11') # filtra viagens a pé\n",
    "walk_77 = (df_77['FE_VIA'].sum() / sum_fe_via * 100).round(2) # calcula a rep de viagens a pé\n",
    "walk_77"
   ]
  },
  {
   "cell_type": "markdown",
   "metadata": {},
   "source": [
    "---"
   ]
  },
  {
   "cell_type": "markdown",
   "metadata": {},
   "source": [
    "## Percentuais de viagens a pé de todas as ODs"
   ]
  },
  {
   "cell_type": "code",
   "execution_count": 82,
   "metadata": {},
   "outputs": [
    {
     "data": {
      "text/html": [
       "<div>\n",
       "<style scoped>\n",
       "    .dataframe tbody tr th:only-of-type {\n",
       "        vertical-align: middle;\n",
       "    }\n",
       "\n",
       "    .dataframe tbody tr th {\n",
       "        vertical-align: top;\n",
       "    }\n",
       "\n",
       "    .dataframe thead th {\n",
       "        text-align: right;\n",
       "    }\n",
       "</style>\n",
       "<table border=\"1\" class=\"dataframe\">\n",
       "  <thead>\n",
       "    <tr style=\"text-align: right;\">\n",
       "      <th></th>\n",
       "      <th>Ano</th>\n",
       "      <th>Rep</th>\n",
       "    </tr>\n",
       "  </thead>\n",
       "  <tbody>\n",
       "    <tr>\n",
       "      <th>0</th>\n",
       "      <td>1977</td>\n",
       "      <td>28.03</td>\n",
       "    </tr>\n",
       "    <tr>\n",
       "      <th>1</th>\n",
       "      <td>1987</td>\n",
       "      <td>36.23</td>\n",
       "    </tr>\n",
       "    <tr>\n",
       "      <th>2</th>\n",
       "      <td>1997</td>\n",
       "      <td>34.40</td>\n",
       "    </tr>\n",
       "    <tr>\n",
       "      <th>3</th>\n",
       "      <td>2007</td>\n",
       "      <td>33.14</td>\n",
       "    </tr>\n",
       "    <tr>\n",
       "      <th>4</th>\n",
       "      <td>2017</td>\n",
       "      <td>31.78</td>\n",
       "    </tr>\n",
       "  </tbody>\n",
       "</table>\n",
       "</div>"
      ],
      "text/plain": [
       "    Ano    Rep\n",
       "0  1977  28.03\n",
       "1  1987  36.23\n",
       "2  1997  34.40\n",
       "3  2007  33.14\n",
       "4  2017  31.78"
      ]
     },
     "execution_count": 82,
     "metadata": {},
     "output_type": "execute_result"
    }
   ],
   "source": [
    "years = ['1977', '1987', '1997', '2007', '2017']\n",
    "walk_p = [walk_77, walk_87, walk_97, walk_07, walk_17]\n",
    "df_walk = pd.DataFrame({\n",
    "    'Ano': years,\n",
    "    'Rep': walk_p\n",
    "})\n",
    "df_walk"
   ]
  },
  {
   "cell_type": "markdown",
   "metadata": {},
   "source": [
    "Gráfico: Percentual de viagens a pé x Anos"
   ]
  },
  {
   "cell_type": "code",
   "execution_count": 95,
   "metadata": {},
   "outputs": [
    {
     "data": {
      "image/png": "[encoded data removed]",
      "text/plain": [
       "<Figure size 1000x600 with 1 Axes>"
      ]
     },
     "metadata": {},
     "output_type": "display_data"
    }
   ],
   "source": [
    "plt.figure(figsize=(10, 6))\n",
    "plt.plot(df_walk['Ano'], df_walk['Rep'], marker='o', linestyle='-', color='b')\n",
    "\n",
    "# Adicionar os valores nos pontos\n",
    "for i, value in enumerate(df_walk['Rep']):\n",
    "    plt.annotate(f'{value:.2f}', (df_walk['Ano'][i], df_walk['Rep'][i]), \n",
    "                 textcoords=\"offset points\", xytext=(0, 5), ha='left', fontsize=9, color='black')\n",
    "\n",
    "plt.title('Viagens a pé ao longo dos anos')\n",
    "plt.xlabel('Ano')\n",
    "plt.ylabel('Percentual de viagens a pé')\n",
    "plt.xticks(rotation=30)\n",
    "\n",
    "# Exibindo o gráfico\n",
    "plt.show()"
   ]
  }
 ],
 "metadata": {
  "kernelspec": {
   "display_name": "Python 3",
   "language": "python",
   "name": "python3"
  },
  "language_info": {
   "codemirror_mode": {
    "name": "ipython",
    "version": 3
   },
   "file_extension": ".py",
   "mimetype": "text/x-python",
   "name": "python",
   "nbconvert_exporter": "python",
   "pygments_lexer": "ipython3",
   "version": "3.10.2"
  }
 },
 "nbformat": 4,
 "nbformat_minor": 2
}
