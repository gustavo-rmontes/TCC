{
 "cells": [
  {
   "cell_type": "markdown",
   "metadata": {},
   "source": [
    "# Conversão - OD\n",
    "Conversão do arquivo OD .dbf para .csv"
   ]
  },
  {
   "cell_type": "code",
   "execution_count": 1,
   "metadata": {},
   "outputs": [],
   "source": [
    "import pandas as pd\n",
    "from dbfread import DBF\n",
    "import matplotlib.pyplot as plt"
   ]
  },
  {
   "cell_type": "code",
   "execution_count": 2,
   "metadata": {},
   "outputs": [],
   "source": [
    "# set OD research year\n",
    "year = '2017' "
   ]
  },
  {
   "cell_type": "code",
   "execution_count": 3,
   "metadata": {},
   "outputs": [],
   "source": [
    "dbf_od_path = 'data/OD-'+year+'/Banco de Dados-OD'+year+'/OD_'+year+'_v1.dbf'\n",
    "# dbf_od_path"
   ]
  },
  {
   "cell_type": "code",
   "execution_count": 4,
   "metadata": {},
   "outputs": [],
   "source": [
    "dbf = DBF(dbf_od_path)\n",
    "df = pd.DataFrame(iter(dbf))"
   ]
  },
  {
   "cell_type": "code",
   "execution_count": 5,
   "metadata": {},
   "outputs": [],
   "source": [
    "df.to_csv('data/OD-'+year+'/Banco de Dados-OD'+year+'/od_'+year+'.csv', index=False)\n",
    "df.to_csv('data/ODs/OD_'+year+'.csv', index=False)"
   ]
  },
  {
   "cell_type": "code",
   "execution_count": 6,
   "metadata": {},
   "outputs": [
    {
     "data": {
      "text/plain": [
       "Index(['ZONA', 'MUNI_DOM', 'CO_DOM_X', 'CO_DOM_Y', 'ID_DOM', 'F_DOM', 'FE_DOM',\n",
       "       'DOM', 'CD_ENTRE', 'DATA',\n",
       "       ...\n",
       "       'MODOPRIN', 'TIPVG', 'PAG_VIAG', 'TP_ESAUTO', 'VL_EST', 'PE_BICI',\n",
       "       'VIA_BICI', 'TP_ESBICI', 'DISTANCIA', 'ID_ORDEM'],\n",
       "      dtype='object', length=128)"
      ]
     },
     "execution_count": 6,
     "metadata": {},
     "output_type": "execute_result"
    }
   ],
   "source": [
    "df.columns"
   ]
  },
  {
   "cell_type": "code",
   "execution_count": 7,
   "metadata": {},
   "outputs": [
    {
     "data": {
      "text/html": [
       "<div>\n",
       "<style scoped>\n",
       "    .dataframe tbody tr th:only-of-type {\n",
       "        vertical-align: middle;\n",
       "    }\n",
       "\n",
       "    .dataframe tbody tr th {\n",
       "        vertical-align: top;\n",
       "    }\n",
       "\n",
       "    .dataframe thead th {\n",
       "        text-align: right;\n",
       "    }\n",
       "</style>\n",
       "<table border=\"1\" class=\"dataframe\">\n",
       "  <thead>\n",
       "    <tr style=\"text-align: right;\">\n",
       "      <th></th>\n",
       "      <th>ZONA</th>\n",
       "      <th>MUNI_DOM</th>\n",
       "      <th>CO_DOM_X</th>\n",
       "      <th>CO_DOM_Y</th>\n",
       "      <th>ID_DOM</th>\n",
       "      <th>F_DOM</th>\n",
       "      <th>FE_DOM</th>\n",
       "      <th>DOM</th>\n",
       "      <th>CD_ENTRE</th>\n",
       "      <th>DATA</th>\n",
       "      <th>...</th>\n",
       "      <th>MODOPRIN</th>\n",
       "      <th>TIPVG</th>\n",
       "      <th>PAG_VIAG</th>\n",
       "      <th>TP_ESAUTO</th>\n",
       "      <th>VL_EST</th>\n",
       "      <th>PE_BICI</th>\n",
       "      <th>VIA_BICI</th>\n",
       "      <th>TP_ESBICI</th>\n",
       "      <th>DISTANCIA</th>\n",
       "      <th>ID_ORDEM</th>\n",
       "    </tr>\n",
       "  </thead>\n",
       "  <tbody>\n",
       "    <tr>\n",
       "      <th>0</th>\n",
       "      <td>1</td>\n",
       "      <td>36</td>\n",
       "      <td>333743</td>\n",
       "      <td>7394463</td>\n",
       "      <td>00010001</td>\n",
       "      <td>1</td>\n",
       "      <td>15.416667</td>\n",
       "      <td>1</td>\n",
       "      <td>1</td>\n",
       "      <td>06092017</td>\n",
       "      <td>...</td>\n",
       "      <td>16.0</td>\n",
       "      <td>3.0</td>\n",
       "      <td>NaN</td>\n",
       "      <td>NaN</td>\n",
       "      <td>NaN</td>\n",
       "      <td>1.0</td>\n",
       "      <td>NaN</td>\n",
       "      <td>NaN</td>\n",
       "      <td>639.13</td>\n",
       "      <td>1</td>\n",
       "    </tr>\n",
       "    <tr>\n",
       "      <th>1</th>\n",
       "      <td>1</td>\n",
       "      <td>36</td>\n",
       "      <td>333743</td>\n",
       "      <td>7394463</td>\n",
       "      <td>00010001</td>\n",
       "      <td>0</td>\n",
       "      <td>15.416667</td>\n",
       "      <td>1</td>\n",
       "      <td>1</td>\n",
       "      <td>06092017</td>\n",
       "      <td>...</td>\n",
       "      <td>16.0</td>\n",
       "      <td>3.0</td>\n",
       "      <td>NaN</td>\n",
       "      <td>NaN</td>\n",
       "      <td>NaN</td>\n",
       "      <td>1.0</td>\n",
       "      <td>NaN</td>\n",
       "      <td>NaN</td>\n",
       "      <td>639.13</td>\n",
       "      <td>2</td>\n",
       "    </tr>\n",
       "    <tr>\n",
       "      <th>2</th>\n",
       "      <td>1</td>\n",
       "      <td>36</td>\n",
       "      <td>333743</td>\n",
       "      <td>7394463</td>\n",
       "      <td>00010001</td>\n",
       "      <td>0</td>\n",
       "      <td>15.416667</td>\n",
       "      <td>1</td>\n",
       "      <td>1</td>\n",
       "      <td>06092017</td>\n",
       "      <td>...</td>\n",
       "      <td>1.0</td>\n",
       "      <td>1.0</td>\n",
       "      <td>2.0</td>\n",
       "      <td>NaN</td>\n",
       "      <td>NaN</td>\n",
       "      <td>NaN</td>\n",
       "      <td>NaN</td>\n",
       "      <td>NaN</td>\n",
       "      <td>6651.77</td>\n",
       "      <td>3</td>\n",
       "    </tr>\n",
       "    <tr>\n",
       "      <th>3</th>\n",
       "      <td>1</td>\n",
       "      <td>36</td>\n",
       "      <td>333743</td>\n",
       "      <td>7394463</td>\n",
       "      <td>00010001</td>\n",
       "      <td>0</td>\n",
       "      <td>15.416667</td>\n",
       "      <td>1</td>\n",
       "      <td>1</td>\n",
       "      <td>06092017</td>\n",
       "      <td>...</td>\n",
       "      <td>1.0</td>\n",
       "      <td>1.0</td>\n",
       "      <td>2.0</td>\n",
       "      <td>NaN</td>\n",
       "      <td>NaN</td>\n",
       "      <td>NaN</td>\n",
       "      <td>NaN</td>\n",
       "      <td>NaN</td>\n",
       "      <td>4243.30</td>\n",
       "      <td>4</td>\n",
       "    </tr>\n",
       "    <tr>\n",
       "      <th>4</th>\n",
       "      <td>1</td>\n",
       "      <td>36</td>\n",
       "      <td>333743</td>\n",
       "      <td>7394463</td>\n",
       "      <td>00010001</td>\n",
       "      <td>0</td>\n",
       "      <td>15.416667</td>\n",
       "      <td>1</td>\n",
       "      <td>1</td>\n",
       "      <td>06092017</td>\n",
       "      <td>...</td>\n",
       "      <td>12.0</td>\n",
       "      <td>2.0</td>\n",
       "      <td>NaN</td>\n",
       "      <td>NaN</td>\n",
       "      <td>NaN</td>\n",
       "      <td>NaN</td>\n",
       "      <td>NaN</td>\n",
       "      <td>NaN</td>\n",
       "      <td>4557.62</td>\n",
       "      <td>5</td>\n",
       "    </tr>\n",
       "  </tbody>\n",
       "</table>\n",
       "<p>5 rows × 128 columns</p>\n",
       "</div>"
      ],
      "text/plain": [
       "   ZONA  MUNI_DOM  CO_DOM_X  CO_DOM_Y    ID_DOM  F_DOM     FE_DOM  DOM   \n",
       "0     1        36    333743   7394463  00010001      1  15.416667    1  \\\n",
       "1     1        36    333743   7394463  00010001      0  15.416667    1   \n",
       "2     1        36    333743   7394463  00010001      0  15.416667    1   \n",
       "3     1        36    333743   7394463  00010001      0  15.416667    1   \n",
       "4     1        36    333743   7394463  00010001      0  15.416667    1   \n",
       "\n",
       "   CD_ENTRE      DATA  ...  MODOPRIN  TIPVG  PAG_VIAG  TP_ESAUTO  VL_EST   \n",
       "0         1  06092017  ...      16.0    3.0       NaN        NaN     NaN  \\\n",
       "1         1  06092017  ...      16.0    3.0       NaN        NaN     NaN   \n",
       "2         1  06092017  ...       1.0    1.0       2.0        NaN     NaN   \n",
       "3         1  06092017  ...       1.0    1.0       2.0        NaN     NaN   \n",
       "4         1  06092017  ...      12.0    2.0       NaN        NaN     NaN   \n",
       "\n",
       "  PE_BICI  VIA_BICI  TP_ESBICI  DISTANCIA  ID_ORDEM  \n",
       "0     1.0       NaN        NaN     639.13         1  \n",
       "1     1.0       NaN        NaN     639.13         2  \n",
       "2     NaN       NaN        NaN    6651.77         3  \n",
       "3     NaN       NaN        NaN    4243.30         4  \n",
       "4     NaN       NaN        NaN    4557.62         5  \n",
       "\n",
       "[5 rows x 128 columns]"
      ]
     },
     "execution_count": 7,
     "metadata": {},
     "output_type": "execute_result"
    }
   ],
   "source": [
    "df.head(5)"
   ]
  }
 ],
 "metadata": {
  "kernelspec": {
   "display_name": "Python 3",
   "language": "python",
   "name": "python3"
  },
  "language_info": {
   "codemirror_mode": {
    "name": "ipython",
    "version": 3
   },
   "file_extension": ".py",
   "mimetype": "text/x-python",
   "name": "python",
   "nbconvert_exporter": "python",
   "pygments_lexer": "ipython3",
   "version": "3.10.2"
  }
 },
 "nbformat": 4,
 "nbformat_minor": 2
}
