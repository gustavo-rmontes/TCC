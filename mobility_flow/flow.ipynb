{
 "cells": [
  {
   "cell_type": "markdown",
   "metadata": {},
   "source": [
    "# Flow analysis:  OD-2017 research"
   ]
  },
  {
   "cell_type": "code",
   "execution_count": 52,
   "metadata": {},
   "outputs": [],
   "source": [
    "import pandas as pd\n",
    "import seaborn as sns\n",
    "import matplotlib.pyplot as plt "
   ]
  },
  {
   "cell_type": "code",
   "execution_count": 53,
   "metadata": {},
   "outputs": [],
   "source": [
    "# reading OD dataset\n",
    "od_path = '../data/ODs/OD_2017.csv'\n",
    "df = pd.read_csv(od_path)"
   ]
  },
  {
   "cell_type": "code",
   "execution_count": 54,
   "metadata": {},
   "outputs": [
    {
     "data": {
      "text/plain": [
       "Index(['ZONA_O', 'MUNI_O', 'ZONA_D', 'MUNI_D', 'FE_VIA', 'MODOPRIN'], dtype='object')"
      ]
     },
     "execution_count": 54,
     "metadata": {},
     "output_type": "execute_result"
    }
   ],
   "source": [
    "# selecting required columns\n",
    "trips = df[['ZONA_O', 'MUNI_O', 'ZONA_D', 'MUNI_D', 'FE_VIA','MODOPRIN']] \n",
    "trips.columns"
   ]
  },
  {
   "cell_type": "code",
   "execution_count": 55,
   "metadata": {},
   "outputs": [
    {
     "data": {
      "text/html": [
       "<div>\n",
       "<style scoped>\n",
       "    .dataframe tbody tr th:only-of-type {\n",
       "        vertical-align: middle;\n",
       "    }\n",
       "\n",
       "    .dataframe tbody tr th {\n",
       "        vertical-align: top;\n",
       "    }\n",
       "\n",
       "    .dataframe thead th {\n",
       "        text-align: right;\n",
       "    }\n",
       "</style>\n",
       "<table border=\"1\" class=\"dataframe\">\n",
       "  <thead>\n",
       "    <tr style=\"text-align: right;\">\n",
       "      <th></th>\n",
       "      <th>ZONA_O</th>\n",
       "      <th>MUNI_O</th>\n",
       "      <th>ZONA_D</th>\n",
       "      <th>MUNI_D</th>\n",
       "      <th>FE_VIA</th>\n",
       "      <th>MODOPRIN</th>\n",
       "    </tr>\n",
       "  </thead>\n",
       "  <tbody>\n",
       "    <tr>\n",
       "      <th>0</th>\n",
       "      <td>1.0</td>\n",
       "      <td>36.0</td>\n",
       "      <td>3.0</td>\n",
       "      <td>36.0</td>\n",
       "      <td>22.132647</td>\n",
       "      <td>16.0</td>\n",
       "    </tr>\n",
       "    <tr>\n",
       "      <th>1</th>\n",
       "      <td>3.0</td>\n",
       "      <td>36.0</td>\n",
       "      <td>1.0</td>\n",
       "      <td>36.0</td>\n",
       "      <td>22.132647</td>\n",
       "      <td>16.0</td>\n",
       "    </tr>\n",
       "    <tr>\n",
       "      <th>2</th>\n",
       "      <td>1.0</td>\n",
       "      <td>36.0</td>\n",
       "      <td>82.0</td>\n",
       "      <td>36.0</td>\n",
       "      <td>18.882487</td>\n",
       "      <td>1.0</td>\n",
       "    </tr>\n",
       "    <tr>\n",
       "      <th>3</th>\n",
       "      <td>82.0</td>\n",
       "      <td>36.0</td>\n",
       "      <td>84.0</td>\n",
       "      <td>36.0</td>\n",
       "      <td>18.882487</td>\n",
       "      <td>1.0</td>\n",
       "    </tr>\n",
       "    <tr>\n",
       "      <th>4</th>\n",
       "      <td>84.0</td>\n",
       "      <td>36.0</td>\n",
       "      <td>1.0</td>\n",
       "      <td>36.0</td>\n",
       "      <td>18.882487</td>\n",
       "      <td>12.0</td>\n",
       "    </tr>\n",
       "  </tbody>\n",
       "</table>\n",
       "</div>"
      ],
      "text/plain": [
       "   ZONA_O  MUNI_O  ZONA_D  MUNI_D     FE_VIA  MODOPRIN\n",
       "0     1.0    36.0     3.0    36.0  22.132647      16.0\n",
       "1     3.0    36.0     1.0    36.0  22.132647      16.0\n",
       "2     1.0    36.0    82.0    36.0  18.882487       1.0\n",
       "3    82.0    36.0    84.0    36.0  18.882487       1.0\n",
       "4    84.0    36.0     1.0    36.0  18.882487      12.0"
      ]
     },
     "execution_count": 55,
     "metadata": {},
     "output_type": "execute_result"
    }
   ],
   "source": [
    "trips.head(5) # how trips looks "
   ]
  },
  {
   "cell_type": "code",
   "execution_count": 56,
   "metadata": {},
   "outputs": [
    {
     "data": {
      "text/html": [
       "<div>\n",
       "<style scoped>\n",
       "    .dataframe tbody tr th:only-of-type {\n",
       "        vertical-align: middle;\n",
       "    }\n",
       "\n",
       "    .dataframe tbody tr th {\n",
       "        vertical-align: top;\n",
       "    }\n",
       "\n",
       "    .dataframe thead th {\n",
       "        text-align: right;\n",
       "    }\n",
       "</style>\n",
       "<table border=\"1\" class=\"dataframe\">\n",
       "  <thead>\n",
       "    <tr style=\"text-align: right;\">\n",
       "      <th></th>\n",
       "      <th>MODOPRIN</th>\n",
       "      <th>FE_VIA</th>\n",
       "    </tr>\n",
       "  </thead>\n",
       "  <tbody>\n",
       "    <tr>\n",
       "      <th>15</th>\n",
       "      <td>16.0</td>\n",
       "      <td>1.334988e+07</td>\n",
       "    </tr>\n",
       "    <tr>\n",
       "      <th>16</th>\n",
       "      <td>17.0</td>\n",
       "      <td>1.117166e+05</td>\n",
       "    </tr>\n",
       "  </tbody>\n",
       "</table>\n",
       "</div>"
      ],
      "text/plain": [
       "    MODOPRIN        FE_VIA\n",
       "15      16.0  1.334988e+07\n",
       "16      17.0  1.117166e+05"
      ]
     },
     "execution_count": 56,
     "metadata": {},
     "output_type": "execute_result"
    }
   ],
   "source": [
    "# grouping MODOPRIN\n",
    "grouped_trips = trips.groupby('MODOPRIN')['FE_VIA'].sum().reset_index()\n",
    "grouped_trips.tail(2)"
   ]
  },
  {
   "cell_type": "code",
   "execution_count": 57,
   "metadata": {},
   "outputs": [
    {
     "data": {
      "image/png": "[encoded data removed]",
      "text/plain": [
       "<Figure size 640x480 with 1 Axes>"
      ]
     },
     "metadata": {},
     "output_type": "display_data"
    }
   ],
   "source": [
    "# entender fator de expansão\n",
    "\n",
    "# FE_VIA mean by MODOPRIN\n",
    "sns.barplot(x='MODOPRIN', y='FE_VIA', data=grouped_trips)\n",
    "plt.title('FE_VIA')\n",
    "plt.show()"
   ]
  },
  {
   "cell_type": "markdown",
   "metadata": {},
   "source": [
    "### Representativade dos meios de transporte"
   ]
  },
  {
   "cell_type": "code",
   "execution_count": 58,
   "metadata": {},
   "outputs": [
    {
     "name": "stdout",
     "output_type": "stream",
     "text": [
      "Rows sum = 157,992\n"
     ]
    }
   ],
   "source": [
    "# count transport mode\n",
    "transport_modes = trips['MODOPRIN'].value_counts().reset_index()\n",
    "rows_sum = transport_modes['count'].sum()\n",
    "print(f\"Rows sum = {rows_sum:,}\")"
   ]
  },
  {
   "cell_type": "code",
   "execution_count": 59,
   "metadata": {},
   "outputs": [
    {
     "data": {
      "text/html": [
       "<div>\n",
       "<style scoped>\n",
       "    .dataframe tbody tr th:only-of-type {\n",
       "        vertical-align: middle;\n",
       "    }\n",
       "\n",
       "    .dataframe tbody tr th {\n",
       "        vertical-align: top;\n",
       "    }\n",
       "\n",
       "    .dataframe thead th {\n",
       "        text-align: right;\n",
       "    }\n",
       "</style>\n",
       "<table border=\"1\" class=\"dataframe\">\n",
       "  <thead>\n",
       "    <tr style=\"text-align: right;\">\n",
       "      <th></th>\n",
       "      <th>MODOPRIN</th>\n",
       "      <th>count</th>\n",
       "      <th>Representation</th>\n",
       "    </tr>\n",
       "  </thead>\n",
       "  <tbody>\n",
       "    <tr>\n",
       "      <th>0</th>\n",
       "      <td>16.0</td>\n",
       "      <td>48285</td>\n",
       "      <td>30.56%</td>\n",
       "    </tr>\n",
       "    <tr>\n",
       "      <th>1</th>\n",
       "      <td>9.0</td>\n",
       "      <td>37005</td>\n",
       "      <td>23.42%</td>\n",
       "    </tr>\n",
       "    <tr>\n",
       "      <th>2</th>\n",
       "      <td>4.0</td>\n",
       "      <td>18612</td>\n",
       "      <td>11.78%</td>\n",
       "    </tr>\n",
       "    <tr>\n",
       "      <th>3</th>\n",
       "      <td>1.0</td>\n",
       "      <td>14077</td>\n",
       "      <td>8.91%</td>\n",
       "    </tr>\n",
       "    <tr>\n",
       "      <th>4</th>\n",
       "      <td>10.0</td>\n",
       "      <td>13308</td>\n",
       "      <td>8.42%</td>\n",
       "    </tr>\n",
       "    <tr>\n",
       "      <th>5</th>\n",
       "      <td>8.0</td>\n",
       "      <td>6463</td>\n",
       "      <td>4.09%</td>\n",
       "    </tr>\n",
       "    <tr>\n",
       "      <th>6</th>\n",
       "      <td>5.0</td>\n",
       "      <td>5565</td>\n",
       "      <td>3.52%</td>\n",
       "    </tr>\n",
       "    <tr>\n",
       "      <th>7</th>\n",
       "      <td>13.0</td>\n",
       "      <td>3045</td>\n",
       "      <td>1.93%</td>\n",
       "    </tr>\n",
       "    <tr>\n",
       "      <th>8</th>\n",
       "      <td>2.0</td>\n",
       "      <td>2926</td>\n",
       "      <td>1.85%</td>\n",
       "    </tr>\n",
       "    <tr>\n",
       "      <th>9</th>\n",
       "      <td>6.0</td>\n",
       "      <td>2795</td>\n",
       "      <td>1.77%</td>\n",
       "    </tr>\n",
       "    <tr>\n",
       "      <th>10</th>\n",
       "      <td>12.0</td>\n",
       "      <td>2333</td>\n",
       "      <td>1.48%</td>\n",
       "    </tr>\n",
       "    <tr>\n",
       "      <th>11</th>\n",
       "      <td>15.0</td>\n",
       "      <td>1294</td>\n",
       "      <td>0.82%</td>\n",
       "    </tr>\n",
       "    <tr>\n",
       "      <th>12</th>\n",
       "      <td>11.0</td>\n",
       "      <td>916</td>\n",
       "      <td>0.58%</td>\n",
       "    </tr>\n",
       "    <tr>\n",
       "      <th>13</th>\n",
       "      <td>7.0</td>\n",
       "      <td>698</td>\n",
       "      <td>0.44%</td>\n",
       "    </tr>\n",
       "    <tr>\n",
       "      <th>14</th>\n",
       "      <td>17.0</td>\n",
       "      <td>395</td>\n",
       "      <td>0.25%</td>\n",
       "    </tr>\n",
       "    <tr>\n",
       "      <th>15</th>\n",
       "      <td>14.0</td>\n",
       "      <td>274</td>\n",
       "      <td>0.17%</td>\n",
       "    </tr>\n",
       "    <tr>\n",
       "      <th>16</th>\n",
       "      <td>3.0</td>\n",
       "      <td>1</td>\n",
       "      <td>0.00%</td>\n",
       "    </tr>\n",
       "  </tbody>\n",
       "</table>\n",
       "</div>"
      ],
      "text/plain": [
       "    MODOPRIN  count Representation\n",
       "0       16.0  48285         30.56%\n",
       "1        9.0  37005         23.42%\n",
       "2        4.0  18612         11.78%\n",
       "3        1.0  14077          8.91%\n",
       "4       10.0  13308          8.42%\n",
       "5        8.0   6463          4.09%\n",
       "6        5.0   5565          3.52%\n",
       "7       13.0   3045          1.93%\n",
       "8        2.0   2926          1.85%\n",
       "9        6.0   2795          1.77%\n",
       "10      12.0   2333          1.48%\n",
       "11      15.0   1294          0.82%\n",
       "12      11.0    916          0.58%\n",
       "13       7.0    698          0.44%\n",
       "14      17.0    395          0.25%\n",
       "15      14.0    274          0.17%\n",
       "16       3.0      1          0.00%"
      ]
     },
     "execution_count": 59,
     "metadata": {},
     "output_type": "execute_result"
    }
   ],
   "source": [
    "# transport mode representation\n",
    "transport_modes['Representation'] = (((transport_modes['count'] / rows_sum)*100).round(2)).apply(lambda x: f'{x:.2f}%')\n",
    "transport_modes"
   ]
  },
  {
   "cell_type": "code",
   "execution_count": 60,
   "metadata": {},
   "outputs": [
    {
     "data": {
      "text/html": [
       "<div>\n",
       "<style scoped>\n",
       "    .dataframe tbody tr th:only-of-type {\n",
       "        vertical-align: middle;\n",
       "    }\n",
       "\n",
       "    .dataframe tbody tr th {\n",
       "        vertical-align: top;\n",
       "    }\n",
       "\n",
       "    .dataframe thead th {\n",
       "        text-align: right;\n",
       "    }\n",
       "</style>\n",
       "<table border=\"1\" class=\"dataframe\">\n",
       "  <thead>\n",
       "    <tr style=\"text-align: right;\">\n",
       "      <th></th>\n",
       "      <th>MODOPRIN</th>\n",
       "      <th>count</th>\n",
       "      <th>Representation</th>\n",
       "    </tr>\n",
       "  </thead>\n",
       "  <tbody>\n",
       "    <tr>\n",
       "      <th>0</th>\n",
       "      <td>16.0</td>\n",
       "      <td>48285</td>\n",
       "      <td>30.56%</td>\n",
       "    </tr>\n",
       "    <tr>\n",
       "      <th>1</th>\n",
       "      <td>9.0</td>\n",
       "      <td>37005</td>\n",
       "      <td>23.42%</td>\n",
       "    </tr>\n",
       "    <tr>\n",
       "      <th>2</th>\n",
       "      <td>4.0</td>\n",
       "      <td>18612</td>\n",
       "      <td>11.78%</td>\n",
       "    </tr>\n",
       "    <tr>\n",
       "      <th>3</th>\n",
       "      <td>1.0</td>\n",
       "      <td>14077</td>\n",
       "      <td>8.91%</td>\n",
       "    </tr>\n",
       "    <tr>\n",
       "      <th>4</th>\n",
       "      <td>10.0</td>\n",
       "      <td>13308</td>\n",
       "      <td>8.42%</td>\n",
       "    </tr>\n",
       "  </tbody>\n",
       "</table>\n",
       "</div>"
      ],
      "text/plain": [
       "   MODOPRIN  count Representation\n",
       "0      16.0  48285         30.56%\n",
       "1       9.0  37005         23.42%\n",
       "2       4.0  18612         11.78%\n",
       "3       1.0  14077          8.91%\n",
       "4      10.0  13308          8.42%"
      ]
     },
     "execution_count": 60,
     "metadata": {},
     "output_type": "execute_result"
    }
   ],
   "source": [
    "# Modos de transporte com mais viagens\n",
    "most_trips_transp_modes = transport_modes.head(5)\n",
    "most_trips_transp_modes"
   ]
  },
  {
   "cell_type": "code",
   "execution_count": 61,
   "metadata": {},
   "outputs": [
    {
     "data": {
      "text/html": [
       "<div>\n",
       "<style scoped>\n",
       "    .dataframe tbody tr th:only-of-type {\n",
       "        vertical-align: middle;\n",
       "    }\n",
       "\n",
       "    .dataframe tbody tr th {\n",
       "        vertical-align: top;\n",
       "    }\n",
       "\n",
       "    .dataframe thead th {\n",
       "        text-align: right;\n",
       "    }\n",
       "</style>\n",
       "<table border=\"1\" class=\"dataframe\">\n",
       "  <thead>\n",
       "    <tr style=\"text-align: right;\">\n",
       "      <th></th>\n",
       "      <th>ID</th>\n",
       "      <th>T_Mode</th>\n",
       "    </tr>\n",
       "  </thead>\n",
       "  <tbody>\n",
       "    <tr>\n",
       "      <th>0</th>\n",
       "      <td>1</td>\n",
       "      <td>Metrô</td>\n",
       "    </tr>\n",
       "    <tr>\n",
       "      <th>1</th>\n",
       "      <td>2</td>\n",
       "      <td>Trem</td>\n",
       "    </tr>\n",
       "    <tr>\n",
       "      <th>2</th>\n",
       "      <td>3</td>\n",
       "      <td>Monotrilho</td>\n",
       "    </tr>\n",
       "  </tbody>\n",
       "</table>\n",
       "</div>"
      ],
      "text/plain": [
       "   ID      T_Mode\n",
       "0   1       Metrô\n",
       "1   2        Trem\n",
       "2   3  Monotrilho"
      ]
     },
     "execution_count": 61,
     "metadata": {},
     "output_type": "execute_result"
    }
   ],
   "source": [
    "t_modes = {\n",
    "    'ID': list(range(1,18)),\n",
    "    'T_Mode': ['Metrô', 'Trem', 'Monotrilho', 'Ônibus/micro-ônibus/perua do município de São Paulo', \n",
    "               'Ônibus/micro-ônibus/perua de outros municípios', 'Ônibus/micro-ônibus/perua metropolitano', 'Transporte Fretado', \n",
    "               'Transporte Escolar', 'Dirigindo Automóvel', 'Passageiro de Automóvel', 'Táxi Convencional', 'Táxi não Convencional',\n",
    "               'Dirigindo Moto', 'Passageiro de Moto', 'Bicicleta', 'A Pé', 'Outros']\n",
    "}\n",
    "df_t_modes = pd.DataFrame(t_modes)\n",
    "df_t_modes.head(3)"
   ]
  },
  {
   "cell_type": "code",
   "execution_count": 62,
   "metadata": {},
   "outputs": [
    {
     "data": {
      "text/html": [
       "<div>\n",
       "<style scoped>\n",
       "    .dataframe tbody tr th:only-of-type {\n",
       "        vertical-align: middle;\n",
       "    }\n",
       "\n",
       "    .dataframe tbody tr th {\n",
       "        vertical-align: top;\n",
       "    }\n",
       "\n",
       "    .dataframe thead th {\n",
       "        text-align: right;\n",
       "    }\n",
       "</style>\n",
       "<table border=\"1\" class=\"dataframe\">\n",
       "  <thead>\n",
       "    <tr style=\"text-align: right;\">\n",
       "      <th></th>\n",
       "      <th>MODOPRIN</th>\n",
       "      <th>count</th>\n",
       "      <th>Representation</th>\n",
       "      <th>ID</th>\n",
       "      <th>T_Mode</th>\n",
       "    </tr>\n",
       "  </thead>\n",
       "  <tbody>\n",
       "    <tr>\n",
       "      <th>0</th>\n",
       "      <td>16.0</td>\n",
       "      <td>48285</td>\n",
       "      <td>30.56%</td>\n",
       "      <td>16</td>\n",
       "      <td>A Pé</td>\n",
       "    </tr>\n",
       "    <tr>\n",
       "      <th>1</th>\n",
       "      <td>9.0</td>\n",
       "      <td>37005</td>\n",
       "      <td>23.42%</td>\n",
       "      <td>9</td>\n",
       "      <td>Dirigindo Automóvel</td>\n",
       "    </tr>\n",
       "  </tbody>\n",
       "</table>\n",
       "</div>"
      ],
      "text/plain": [
       "   MODOPRIN  count Representation  ID               T_Mode\n",
       "0      16.0  48285         30.56%  16                 A Pé\n",
       "1       9.0  37005         23.42%   9  Dirigindo Automóvel"
      ]
     },
     "execution_count": 62,
     "metadata": {},
     "output_type": "execute_result"
    }
   ],
   "source": [
    "most_trips_transp_modes_merged = pd.merge(most_trips_transp_modes, df_t_modes, 'left', left_on='MODOPRIN', right_on='ID')\n",
    "most_trips_transp_modes_merged.head(2)"
   ]
  },
  {
   "cell_type": "code",
   "execution_count": 63,
   "metadata": {},
   "outputs": [
    {
     "data": {
      "image/png": "[encoded data removed]",
      "text/plain": [
       "<Figure size 800x500 with 1 Axes>"
      ]
     },
     "metadata": {},
     "output_type": "display_data"
    }
   ],
   "source": [
    "# Ajustar orientação de gráfico\n",
    "\n",
    "# Graph bar (representation) \n",
    "plt.figure(figsize=(8, 5))\n",
    "plt.barh(most_trips_transp_modes_merged['T_Mode'], most_trips_transp_modes_merged['Representation'])\n",
    "\n",
    "plt.title('Representação por Modo de Transporte')\n",
    "plt.xlabel('Modo de Transporte')\n",
    "plt.ylabel('Representação (%)')\n",
    "\n",
    "plt.show()"
   ]
  },
  {
   "cell_type": "markdown",
   "metadata": {},
   "source": [
    "### Análise censitária\n",
    "Mini glossário\n",
    "\n",
    "Coluna 50 - SEXO:\n",
    "- 1: Masculino;\n",
    "- 2: Feminino."
   ]
  },
  {
   "cell_type": "code",
   "execution_count": 64,
   "metadata": {},
   "outputs": [
    {
     "data": {
      "text/html": [
       "<div>\n",
       "<style scoped>\n",
       "    .dataframe tbody tr th:only-of-type {\n",
       "        vertical-align: middle;\n",
       "    }\n",
       "\n",
       "    .dataframe tbody tr th {\n",
       "        vertical-align: top;\n",
       "    }\n",
       "\n",
       "    .dataframe thead th {\n",
       "        text-align: right;\n",
       "    }\n",
       "</style>\n",
       "<table border=\"1\" class=\"dataframe\">\n",
       "  <thead>\n",
       "    <tr style=\"text-align: right;\">\n",
       "      <th></th>\n",
       "      <th>ZONA_O</th>\n",
       "      <th>MUNI_O</th>\n",
       "      <th>ZONA_D</th>\n",
       "      <th>MUNI_D</th>\n",
       "      <th>FE_VIA</th>\n",
       "      <th>MODOPRIN</th>\n",
       "      <th>SEXO</th>\n",
       "    </tr>\n",
       "  </thead>\n",
       "  <tbody>\n",
       "    <tr>\n",
       "      <th>0</th>\n",
       "      <td>1.0</td>\n",
       "      <td>36.0</td>\n",
       "      <td>3.0</td>\n",
       "      <td>36.0</td>\n",
       "      <td>22.132647</td>\n",
       "      <td>16.0</td>\n",
       "      <td>2</td>\n",
       "    </tr>\n",
       "    <tr>\n",
       "      <th>1</th>\n",
       "      <td>3.0</td>\n",
       "      <td>36.0</td>\n",
       "      <td>1.0</td>\n",
       "      <td>36.0</td>\n",
       "      <td>22.132647</td>\n",
       "      <td>16.0</td>\n",
       "      <td>2</td>\n",
       "    </tr>\n",
       "    <tr>\n",
       "      <th>2</th>\n",
       "      <td>1.0</td>\n",
       "      <td>36.0</td>\n",
       "      <td>82.0</td>\n",
       "      <td>36.0</td>\n",
       "      <td>18.882487</td>\n",
       "      <td>1.0</td>\n",
       "      <td>2</td>\n",
       "    </tr>\n",
       "  </tbody>\n",
       "</table>\n",
       "</div>"
      ],
      "text/plain": [
       "   ZONA_O  MUNI_O  ZONA_D  MUNI_D     FE_VIA  MODOPRIN  SEXO\n",
       "0     1.0    36.0     3.0    36.0  22.132647      16.0     2\n",
       "1     3.0    36.0     1.0    36.0  22.132647      16.0     2\n",
       "2     1.0    36.0    82.0    36.0  18.882487       1.0     2"
      ]
     },
     "execution_count": 64,
     "metadata": {},
     "output_type": "execute_result"
    }
   ],
   "source": [
    "gendered_trips = df[['ZONA_O', 'MUNI_O', 'ZONA_D', 'MUNI_D', 'FE_VIA','MODOPRIN', 'SEXO']] \n",
    "gendered_trips.head(3)"
   ]
  },
  {
   "cell_type": "code",
   "execution_count": 68,
   "metadata": {},
   "outputs": [
    {
     "name": "stdout",
     "output_type": "stream",
     "text": [
      "SEXO\n",
      "Feminino     51.29\n",
      "Masculino    48.71\n",
      "Name: proportion, dtype: float64\n"
     ]
    }
   ],
   "source": [
    "# Counting gender frequency\n",
    "gender_counter = (gendered_trips['SEXO'].value_counts(normalize=True)*100).round(2)\n",
    "gender_counter.index = gender_counter.index.map({1: 'Masculino', 2: 'Feminino'}) # mapping values to corresponding labels\n",
    "print(gender_counter)"
   ]
  },
  {
   "cell_type": "code",
   "execution_count": 66,
   "metadata": {},
   "outputs": [],
   "source": [
    "pedestrian_gendered_trips = gendered_trips[gendered_trips[\"MODOPRIN\"]==16] # filter pedestrian trips"
   ]
  },
  {
   "cell_type": "code",
   "execution_count": 70,
   "metadata": {},
   "outputs": [
    {
     "name": "stdout",
     "output_type": "stream",
     "text": [
      "SEXO\n",
      "Feminino     53.04\n",
      "Masculino    46.96\n",
      "Name: proportion, dtype: float64\n"
     ]
    }
   ],
   "source": [
    "ped_gender_counter = (pedestrian_gendered_trips['SEXO'].value_counts(normalize=True)*100).round(2)\n",
    "ped_gender_counter.index = ped_gender_counter.index.map({1: 'Masculino', 2: 'Feminino'}) # mapping values to corresponding labels\n",
    "print(ped_gender_counter)"
   ]
  }
 ],
 "metadata": {
  "kernelspec": {
   "display_name": "Python 3",
   "language": "python",
   "name": "python3"
  },
  "language_info": {
   "codemirror_mode": {
    "name": "ipython",
    "version": 3
   },
   "file_extension": ".py",
   "mimetype": "text/x-python",
   "name": "python",
   "nbconvert_exporter": "python",
   "pygments_lexer": "ipython3",
   "version": "3.10.2"
  }
 },
 "nbformat": 4,
 "nbformat_minor": 2
}
