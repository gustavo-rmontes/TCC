{
 "cells": [
  {
   "cell_type": "markdown",
   "metadata": {},
   "source": [
    "# CALÇADAS\n",
    "Análise de calçadas - shapefile"
   ]
  },
  {
   "cell_type": "code",
   "execution_count": 1,
   "metadata": {
    "metadata": {}
   },
   "outputs": [],
   "source": [
    "import pandas as pd\n",
    "import geopandas as gpd\n",
    "import matplotlib.pyplot as plt\n",
    "import folium"
   ]
  },
  {
   "cell_type": "code",
   "execution_count": 2,
   "metadata": {
    "metadata": {}
   },
   "outputs": [],
   "source": [
    "ds_path = 'data/SIRGAS_SHP_calcada/SIRGAS_SHP_calcada/SIRGAS_SHP_calcada.shp'\n",
    "gdf = gpd.read_file(ds_path)"
   ]
  },
  {
   "cell_type": "code",
   "execution_count": 3,
   "metadata": {},
   "outputs": [
    {
     "data": {
      "text/plain": [
       "491383"
      ]
     },
     "execution_count": 3,
     "metadata": {},
     "output_type": "execute_result"
    }
   ],
   "source": [
    "gdf.crs = 'epsg:31983'\n",
    "gdf.to_crs(epsg='4326', inplace=True)\n",
    "len(gdf)"
   ]
  },
  {
   "cell_type": "code",
   "execution_count": 4,
   "metadata": {},
   "outputs": [
    {
     "data": {
      "text/plain": [
       "Index(['cc_seg_id', 'cc_codlog', 'cc_sq', 'cc_inicio', 'cc_termino',\n",
       "       'cc_lognome', 'cc_dec_max', 'cc_dec_med', 'cc_dec_min', 'cc_area',\n",
       "       'cc_lg_max', 'cc_lg_med', 'cc_lg_min', 'cc_pec', 'cc_portari',\n",
       "       'cc_situac', 'geometry'],\n",
       "      dtype='object')"
      ]
     },
     "execution_count": 4,
     "metadata": {},
     "output_type": "execute_result"
    }
   ],
   "source": [
    "gdf.columns"
   ]
  },
  {
   "cell_type": "code",
   "execution_count": 5,
   "metadata": {},
   "outputs": [
    {
     "data": {
      "text/html": [
       "<div>\n",
       "<style scoped>\n",
       "    .dataframe tbody tr th:only-of-type {\n",
       "        vertical-align: middle;\n",
       "    }\n",
       "\n",
       "    .dataframe tbody tr th {\n",
       "        vertical-align: top;\n",
       "    }\n",
       "\n",
       "    .dataframe thead th {\n",
       "        text-align: right;\n",
       "    }\n",
       "</style>\n",
       "<table border=\"1\" class=\"dataframe\">\n",
       "  <thead>\n",
       "    <tr style=\"text-align: right;\">\n",
       "      <th></th>\n",
       "      <th>cc_seg_id</th>\n",
       "      <th>cc_codlog</th>\n",
       "      <th>cc_sq</th>\n",
       "      <th>cc_inicio</th>\n",
       "      <th>cc_termino</th>\n",
       "      <th>cc_lognome</th>\n",
       "      <th>cc_dec_max</th>\n",
       "      <th>cc_dec_med</th>\n",
       "      <th>cc_dec_min</th>\n",
       "      <th>cc_area</th>\n",
       "      <th>cc_lg_max</th>\n",
       "      <th>cc_lg_med</th>\n",
       "      <th>cc_lg_min</th>\n",
       "      <th>cc_pec</th>\n",
       "      <th>cc_portari</th>\n",
       "      <th>cc_situac</th>\n",
       "      <th>geometry</th>\n",
       "    </tr>\n",
       "  </thead>\n",
       "  <tbody>\n",
       "    <tr>\n",
       "      <th>0</th>\n",
       "      <td>69112</td>\n",
       "      <td>638749</td>\n",
       "      <td>118045001</td>\n",
       "      <td>NaN</td>\n",
       "      <td>NaN</td>\n",
       "      <td>R  PACARI DA MATA</td>\n",
       "      <td>5.21</td>\n",
       "      <td>4.88</td>\n",
       "      <td>4.51</td>\n",
       "      <td>28.0</td>\n",
       "      <td>0.00</td>\n",
       "      <td>0.00</td>\n",
       "      <td>0.00</td>\n",
       "      <td>NaN</td>\n",
       "      <td>NaN</td>\n",
       "      <td>NaN</td>\n",
       "      <td>POLYGON ((-46.53337 -23.60655, -46.53338 -23.6...</td>\n",
       "    </tr>\n",
       "    <tr>\n",
       "      <th>1</th>\n",
       "      <td>103007</td>\n",
       "      <td>149764</td>\n",
       "      <td>044042001</td>\n",
       "      <td>NaN</td>\n",
       "      <td>NaN</td>\n",
       "      <td>R  OLIVEIRA GOUVEIA</td>\n",
       "      <td>1.54</td>\n",
       "      <td>0.79</td>\n",
       "      <td>0.02</td>\n",
       "      <td>32.0</td>\n",
       "      <td>2.29</td>\n",
       "      <td>2.13</td>\n",
       "      <td>1.97</td>\n",
       "      <td>NaN</td>\n",
       "      <td>NaN</td>\n",
       "      <td>NaN</td>\n",
       "      <td>POLYGON ((-46.58292 -23.58541, -46.58292 -23.5...</td>\n",
       "    </tr>\n",
       "    <tr>\n",
       "      <th>2</th>\n",
       "      <td>102997</td>\n",
       "      <td>132039</td>\n",
       "      <td>044084001</td>\n",
       "      <td>NaN</td>\n",
       "      <td>NaN</td>\n",
       "      <td>R  MARIA DAFFRE</td>\n",
       "      <td>0.00</td>\n",
       "      <td>0.00</td>\n",
       "      <td>0.00</td>\n",
       "      <td>26.0</td>\n",
       "      <td>0.00</td>\n",
       "      <td>0.00</td>\n",
       "      <td>0.00</td>\n",
       "      <td>DECRETO N 58.845/2019</td>\n",
       "      <td>NaN</td>\n",
       "      <td>NaN</td>\n",
       "      <td>POLYGON ((-46.58455 -23.58822, -46.58455 -23.5...</td>\n",
       "    </tr>\n",
       "  </tbody>\n",
       "</table>\n",
       "</div>"
      ],
      "text/plain": [
       "   cc_seg_id cc_codlog      cc_sq cc_inicio cc_termino           cc_lognome   \n",
       "0      69112    638749  118045001       NaN        NaN    R  PACARI DA MATA  \\\n",
       "1     103007    149764  044042001       NaN        NaN  R  OLIVEIRA GOUVEIA   \n",
       "2     102997    132039  044084001       NaN        NaN      R  MARIA DAFFRE   \n",
       "\n",
       "   cc_dec_max  cc_dec_med  cc_dec_min  cc_area  cc_lg_max  cc_lg_med   \n",
       "0        5.21        4.88        4.51     28.0       0.00       0.00  \\\n",
       "1        1.54        0.79        0.02     32.0       2.29       2.13   \n",
       "2        0.00        0.00        0.00     26.0       0.00       0.00   \n",
       "\n",
       "   cc_lg_min                 cc_pec  cc_portari cc_situac   \n",
       "0       0.00                    NaN         NaN       NaN  \\\n",
       "1       1.97                    NaN         NaN       NaN   \n",
       "2       0.00  DECRETO N 58.845/2019         NaN       NaN   \n",
       "\n",
       "                                            geometry  \n",
       "0  POLYGON ((-46.53337 -23.60655, -46.53338 -23.6...  \n",
       "1  POLYGON ((-46.58292 -23.58541, -46.58292 -23.5...  \n",
       "2  POLYGON ((-46.58455 -23.58822, -46.58455 -23.5...  "
      ]
     },
     "execution_count": 5,
     "metadata": {},
     "output_type": "execute_result"
    }
   ],
   "source": [
    "gdf.head(3)"
   ]
  },
  {
   "cell_type": "code",
   "execution_count": null,
   "metadata": {},
   "outputs": [],
   "source": []
  }
 ],
 "metadata": {
  "kernelspec": {
   "display_name": "Python 3",
   "language": "python",
   "name": "python3"
  },
  "language_info": {
   "codemirror_mode": {
    "name": "ipython",
    "version": 3
   },
   "file_extension": ".py",
   "mimetype": "text/x-python",
   "name": "python",
   "nbconvert_exporter": "python",
   "pygments_lexer": "ipython3",
   "version": "3.10.2"
  }
 },
 "nbformat": 4,
 "nbformat_minor": 2
}
