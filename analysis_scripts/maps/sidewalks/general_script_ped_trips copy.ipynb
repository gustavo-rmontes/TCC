{
 "cells": [
  {
   "cell_type": "markdown",
   "id": "c2472178",
   "metadata": {},
   "source": [
    "# Script generalizado - Calçadas vs Viagens de Pedestres"
   ]
  },
  {
   "cell_type": "code",
   "execution_count": null,
   "id": "f207aa20",
   "metadata": {},
   "outputs": [],
   "source": [
    "# Constantes\n",
    "pedestrians_od_value = 17 # o que está na pesquisa OD 2023\n",
    "\n",
    "# exemplo de Zona OD\n",
    "zone_name = \"Fazenda Itaim\" \n",
    "zone_number = 205 \n",
    "save_map_as = \"faz_itaim\" \n",
    "\n",
    "pedestrians_buffer_value = 15\n",
    "sidewalks_buffer_value = 5"
   ]
  },
  {
   "cell_type": "code",
   "execution_count": null,
   "id": "7ceb6859",
   "metadata": {},
   "outputs": [],
   "source": [
    "# imports\n",
    "import pandas as pd\n",
    "import geopandas as gpd\n",
    "import folium\n",
    "from shapely.ops import transform\n",
    "import pyproj"
   ]
  },
  {
   "cell_type": "code",
   "execution_count": null,
   "id": "9a32db81",
   "metadata": {},
   "outputs": [],
   "source": [
    "# função auxiliar\n",
    "def swap_xy(geom):\n",
    "    \"\"\"\n",
    "    Inverte as coordenadas X e Y de uma geometria: (lat, lon) → (lon, lat)\n",
    "\n",
    "    Args:\n",
    "        geom (shapely.geometry.base.BaseGeometry): Objeto de geometria Shapely\n",
    "            cuja ordem das coordenadas será invertida.\n",
    "\n",
    "    Returns:\n",
    "        shapely.geometry.base.BaseGeometry: Nova geometria com as coordenadas X e Y invertidas.\n",
    "    \"\"\"\n",
    "    return transform(lambda x, y: (y, x), geom)"
   ]
  },
  {
   "cell_type": "markdown",
   "id": "02414f25",
   "metadata": {},
   "source": [
    "Carregar datasets"
   ]
  },
  {
   "cell_type": "code",
   "execution_count": null,
   "id": "5c859297",
   "metadata": {},
   "outputs": [],
   "source": [
    "od23_path = \"../../../data/OD/ODS/od23_all.csv\"\n",
    "od = pd.read_csv(od23_path)\n",
    "\n",
    "od_zones_path = \"../../../data/OD/OD-2023/002_Site Metro Mapas_190225/Shape/Zonas_2023.shp\"\n",
    "od_zones = gpd.read_file(od_zones_path).to_crs(\"EPSG:4326\")\n",
    "\n",
    "sidewalks_path = \"../../../data/Geosampa/SIRGAS_SHP_calcada/SIRGAS_SHP_calcada.shp\"\n",
    "sidewalks = gpd.read_file(sidewalks_path)\n",
    "sidewalks = sidewalks.set_crs(\"EPSG:31983\").to_crs(\"EPSG:4326\")"
   ]
  },
  {
   "cell_type": "markdown",
   "metadata": {},
   "source": [
    "### Filtragem da área Zona OD e pedestres da Zona OD"
   ]
  },
  {
   "cell_type": "markdown",
   "id": "667a747f",
   "metadata": {},
   "source": [
    "Filtrar zona OD"
   ]
  },
  {
   "cell_type": "code",
   "execution_count": null,
   "id": "d51e823f",
   "metadata": {},
   "outputs": [],
   "source": [
    "# Filtrar zona da Zona OD\n",
    "analysis_zone = od_zones.query(\"NomeZona == @zone_name\").copy() \n",
    "analysis_zone"
   ]
  },
  {
   "cell_type": "markdown",
   "id": "f89d1113",
   "metadata": {},
   "source": [
    "Filtrar pedestres e origens da zona OD "
   ]
  },
  {
   "cell_type": "code",
   "execution_count": null,
   "id": "6e7ce83d",
   "metadata": {},
   "outputs": [],
   "source": [
    "# Filtrar pedestres e origens da Zona OD\n",
    "zone_pedestrians = od.query(\"MODOPRIN == @pedestrians_od_value and ZONA_O == @zone_number\")\n",
    "\n",
    "# Criar coluna de geometria a partir de coordenadas de origem da viagem a pé\n",
    "pedestrians_gdf = gpd.GeoDataFrame(\n",
    "    zone_pedestrians,\n",
    "    geometry=gpd.points_from_xy(\n",
    "        zone_pedestrians[\"CO_O_X\"], zone_pedestrians[\"CO_O_Y\"]\n",
    "    ),\n",
    "    crs=\"EPSG:4326\",\n",
    ")"
   ]
  },
  {
   "cell_type": "markdown",
   "id": "c22cfaad",
   "metadata": {},
   "source": [
    "Bufferiza a geometria dos pontos de origem dos pedestres da zona OD"
   ]
  },
  {
   "cell_type": "code",
   "execution_count": null,
   "id": "4b13f06a",
   "metadata": {},
   "outputs": [],
   "source": [
    "# Expande um buffer de 30m para representar área de influência da origem\n",
    "pedestrians_gdf = pedestrians_gdf.to_crs(\"EPSG:31983\") # CRS para operações geoespaciais\n",
    "pedestrians_gdf[\"geometry\"] = pedestrians_gdf[\"geometry\"].buffer(pedestrians_buffer_value)\n",
    "\n",
    "pedestrians_gdf = pedestrians_gdf.to_crs(\"EPSG:4326\") # CRS para operações com folium (mapas)\n",
    "\n",
    "pedestrians_gdf[\"geometry\"] = pedestrians_gdf[\"geometry\"].apply(swap_xy)"
   ]
  },
  {
   "cell_type": "markdown",
   "id": "fe6ea324",
   "metadata": {},
   "source": [
    "### Intersecção entre calçadas da Zona OD e Viagens de Pedestres"
   ]
  },
  {
   "cell_type": "markdown",
   "id": "6a923ae0",
   "metadata": {},
   "source": [
    "Preparar calçadas e aplicar clip('intersection') na Zona OD\n",
    "\n",
    "- Bufferiza a geometria das calçadas \n",
    "- Renomeia coluna index"
   ]
  },
  {
   "cell_type": "code",
   "execution_count": null,
   "id": "12157763",
   "metadata": {},
   "outputs": [],
   "source": [
    "sidewalks = sidewalks.to_crs(\"EPSG:31983\") # para operações geoespaciais como buffer\n",
    "sidewalks[\"geometry\"] = sidewalks[\"geometry\"].buffer(sidewalks_buffer_value)\n",
    "sidewalks = sidewalks.to_crs(\"EPSG:4326\")\n",
    "\n",
    "# clip(intesection) de calçadas apenas dentro da zona\n",
    "sidewalks_analysis_zone = gpd.clip(sidewalks, analysis_zone).reset_index() \n",
    "sidewalks_analysis_zone = sidewalks_analysis_zone.rename(columns={\"index\": \"index_sidewalk\"})\n",
    "\n",
    "print(f\"Nº de calçadas na '{zone_name}': {len(sidewalks_analysis_zone)}\")"
   ]
  },
  {
   "cell_type": "markdown",
   "id": "d56774dd",
   "metadata": {},
   "source": [
    "Intersecção espacial entre as tabelas de pedestres e calçadas"
   ]
  },
  {
   "cell_type": "code",
   "execution_count": null,
   "id": "a26e7ba2",
   "metadata": {},
   "outputs": [],
   "source": [
    "intersections = gpd.sjoin(\n",
    "    pedestrians_gdf,\n",
    "    sidewalks_analysis_zone,\n",
    "    how=\"inner\",\n",
    "    predicate=\"intersects\",\n",
    ")\n",
    "\n",
    "print(f\"Intersecções de ponto de origem e calçadas: {len(intersections)}\")"
   ]
  },
  {
   "cell_type": "markdown",
   "id": "79288e23",
   "metadata": {},
   "source": [
    "### Cálculo da intensidade das viagens a pé nas calçadas da Zona OD"
   ]
  },
  {
   "cell_type": "markdown",
   "id": "53e8bf12",
   "metadata": {},
   "source": [
    "Agrupar intensidade (FE_VIA) por calçada"
   ]
  },
  {
   "cell_type": "code",
   "execution_count": null,
   "id": "da67125f",
   "metadata": {},
   "outputs": [],
   "source": [
    "sidewalks_usage = (\n",
    "    intersections.groupby(\"index_sidewalk\")[\"FE_VIA\"]\n",
    "    .sum()\n",
    "    .reset_index()\n",
    "    .rename(columns={\"FE_VIA\": \"INTENSIDADE\"})\n",
    ")"
   ]
  },
  {
   "cell_type": "markdown",
   "id": "6d09b937",
   "metadata": {},
   "source": [
    "Merge com camada de calçadas"
   ]
  },
  {
   "cell_type": "code",
   "execution_count": null,
   "id": "5ca64fc4",
   "metadata": {},
   "outputs": [],
   "source": [
    "sidewalk_ped_plot = sidewalks_analysis_zone.merge( \n",
    "    sidewalks_usage, on=\"index_sidewalk\", how=\"left\"\n",
    ")\n",
    "sidewalk_ped_plot[\"INTENSIDADE\"] = sidewalk_ped_plot[\n",
    "    \"INTENSIDADE\"\n",
    "].fillna(0)"
   ]
  },
  {
   "cell_type": "markdown",
   "id": "07eb2ed2",
   "metadata": {},
   "source": [
    "Filtrar apenas calçadas com intensidade(fe_via) > 0"
   ]
  },
  {
   "cell_type": "code",
   "execution_count": null,
   "id": "08c2d2c0",
   "metadata": {},
   "outputs": [],
   "source": [
    "sidewalk_ped_plot = sidewalk_ped_plot.query(\"INTENSIDADE > 0\")\n",
    "\n",
    "print(f\"Calçadas com uso registrado: {len(sidewalk_ped_plot)}\")"
   ]
  },
  {
   "cell_type": "markdown",
   "id": "e39271d4",
   "metadata": {},
   "source": [
    "### Cálcula representatividade de viagens a pé das calçadas da Zona OD"
   ]
  },
  {
   "cell_type": "markdown",
   "id": "e33dd6d4",
   "metadata": {},
   "source": [
    "Totais de viagens e total de viagens de pedestres da Zona OD"
   ]
  },
  {
   "cell_type": "code",
   "execution_count": null,
   "id": "a1f1a145",
   "metadata": {},
   "outputs": [],
   "source": [
    "zone_all_means_sum = od.query(\"ZONA_O == @zone_number\")[\"FE_VIA\"].sum() \n",
    "zone_walk_sum = od.query(\"ZONA_O == @zone_number and MODOPRIN == @pedestrians_od_value\")[\"FE_VIA\"].sum() "
   ]
  },
  {
   "cell_type": "markdown",
   "id": "979643e6",
   "metadata": {},
   "source": [
    "Criar colunas para porcentagens de totais: viagens e viagens a pé da Zona OD"
   ]
  },
  {
   "cell_type": "code",
   "execution_count": null,
   "id": "48b81e38",
   "metadata": {},
   "outputs": [],
   "source": [
    "sidewalk_ped_plot[\"PERC_DIST\"] = 100 * sidewalk_ped_plot[\"INTENSIDADE\"] / zone_all_means_sum\n",
    "sidewalk_ped_plot[\"PERC_PED\"] = 100 * sidewalk_ped_plot[\"INTENSIDADE\"] / zone_walk_sum"
   ]
  },
  {
   "cell_type": "markdown",
   "id": "7ab8825a",
   "metadata": {},
   "source": [
    "## Mapa: Calçadas vs Viagens Pedestres"
   ]
  },
  {
   "cell_type": "markdown",
   "id": "c16ebc88",
   "metadata": {},
   "source": [
    "Centro do mapa - zona OD em foco"
   ]
  },
  {
   "cell_type": "code",
   "execution_count": null,
   "id": "22771b01",
   "metadata": {},
   "outputs": [],
   "source": [
    "center_proj = analysis_zone.to_crs(31983)\n",
    "map_center = center_proj.geometry.centroid.iloc[0] # centro\n",
    "map_center = gpd.GeoSeries([map_center], crs=31983).to_crs(4326).iloc[0]\n",
    "map_center = [map_center.y, map_center.x]\n",
    "\n",
    "# declaração do mapa\n",
    "sidewalk_ped_map = folium.Map(location=map_center, zoom_start=15, tiles=\"cartodb positron\")"
   ]
  },
  {
   "cell_type": "markdown",
   "id": "fa28c105",
   "metadata": {},
   "source": [
    "mapa coroplético das calçadas em razão de FE_VIA das viagens a pé"
   ]
  },
  {
   "cell_type": "code",
   "execution_count": null,
   "id": "43a4dff9",
   "metadata": {},
   "outputs": [],
   "source": [
    "# camada coroplética\n",
    "folium.Choropleth(\n",
    "    geo_data=sidewalk_ped_plot.to_json(),\n",
    "    data=sidewalk_ped_plot,\n",
    "    columns=[\"index_sidewalk\", \"INTENSIDADE\"],\n",
    "    key_on=\"feature.properties.index_sidewalk\",\n",
    "    fill_color=\"YlOrRd\",\n",
    "    fill_opacity=0.7,\n",
    "    line_opacity=0.3,\n",
    "    legend_name=\"Intensidade de viagens (FE_VIA)\",\n",
    ").add_to(sidewalk_ped_map)"
   ]
  },
  {
   "cell_type": "markdown",
   "id": "9f844df5",
   "metadata": {},
   "source": [
    "popup com logradouro(rua, avenida...) e representativdade de viagens a pé da calçada"
   ]
  },
  {
   "cell_type": "code",
   "execution_count": null,
   "id": "1ab89aee",
   "metadata": {},
   "outputs": [],
   "source": [
    "# camada interativa com popup\n",
    "for _, row in sidewalk_ped_plot.iterrows():\n",
    "    popup_html = (\n",
    "        f\"<b>Logradouro:</b> {row['cc_lognome']}<br>\"\n",
    "        f\"<b>Intensidade (Fator de expansão):</b> {row['INTENSIDADE']}<br>\"\n",
    "        f\"<b>% sobre total da zona OD:</b> {row['PERC_DIST']:.2f}%<br>\"\n",
    "        f\"<b>% sobre pedestres da zona OD:</b> {row['PERC_PED']:.2f}%\"\n",
    "    )\n",
    "    folium.GeoJson(\n",
    "        row[\"geometry\"],\n",
    "        popup=folium.Popup(popup_html, max_width=300),\n",
    "        style_function=lambda x: {\"color\": \"black\", \"weight\": 1, \"fillOpacity\": 0},\n",
    "    ).add_to(sidewalk_ped_map)"
   ]
  },
  {
   "cell_type": "markdown",
   "id": "93a6de36",
   "metadata": {},
   "source": [
    "Salvar mapa 'Calçadas vs Pedestres' da zona OD no diretório [built_maps](../../built_maps/)"
   ]
  },
  {
   "cell_type": "code",
   "execution_count": null,
   "id": "be35e924",
   "metadata": {},
   "outputs": [],
   "source": [
    "try:\n",
    "    save_map_dir_path = \"../built_maps/sidewalks_maps/\" + save_map_as +\"_calcadas_pedestres_gen_script.html\"\n",
    "    sidewalk_ped_map.save(save_map_dir_path)\n",
    "    print(f\"Mapa salvo: {save_map_dir_path}\")\n",
    "except Exception as e:\n",
    "    print(f\"Erro ao salvar o mapa: {e}\")"
   ]
  }
 ],
 "metadata": {
  "kernelspec": {
   "display_name": ".venv (3.12.3)",
   "language": "python",
   "name": "python3"
  },
  "language_info": {
   "codemirror_mode": {
    "name": "ipython",
    "version": 3
   },
   "file_extension": ".py",
   "mimetype": "text/x-python",
   "name": "python",
   "nbconvert_exporter": "python",
   "pygments_lexer": "ipython3",
   "version": "3.12.3"
  }
 },
 "nbformat": 4,
 "nbformat_minor": 5
}
