{
 "cells": [
  {
   "cell_type": "markdown",
   "id": "f24fcb24",
   "metadata": {},
   "source": [
    "# Representatividade de pedestres em regiões comp ao total - Só SP\n",
    "\n",
    "Caderno Jupyter referente à **Issue #5**: *Mapa coroplético de origens e destinos de pedestres com filtros e granularidades* \n",
    "\n",
    "**APENAS MUNICÍPIO DE SP**\n",
    "\n",
    "Representatividade de viagens de pedestres por região comparado ao total de viagens de pedestres\n",
    "\n",
    "---"
   ]
  },
  {
   "cell_type": "code",
   "execution_count": null,
   "id": "33bc329c",
   "metadata": {},
   "outputs": [],
   "source": [
    "import pandas as pd\n",
    "import geopandas\n",
    "import folium"
   ]
  },
  {
   "cell_type": "markdown",
   "id": "ee2265c9",
   "metadata": {},
   "source": [
    "Carregando datasets"
   ]
  },
  {
   "cell_type": "code",
   "execution_count": null,
   "id": "8dea3ced",
   "metadata": {},
   "outputs": [],
   "source": [
    "od23_path = \"../../data/OD/ODS/od23_all.csv\" \n",
    "od = pd.read_csv(od23_path)\n",
    "\n",
    "od_districts_shapefile_path = \"../../data/OD/OD-2023/002_Site Metro Mapas_190225/Shape/Distritos_2023_region.shp\" \n",
    "od_districts = geopandas.read_file(od_districts_shapefile_path)\n",
    "\n",
    "# od_counties_shapefile_path = \"../../data/OD/OD-2023/002_Site Metro Mapas_190225/Shape/Municipios_2023.shp\" \n",
    "# od_counties = geopandas.read_file(od_counties_shapefile_path)\n",
    "\n",
    "od_zones_shapefile_path = \"../../data/OD/OD-2023/002_Site Metro Mapas_190225/Shape/Zonas_2023.shp\" \n",
    "od_zones = geopandas.read_file(od_zones_shapefile_path)"
   ]
  },
  {
   "cell_type": "markdown",
   "id": "477de843",
   "metadata": {},
   "source": [
    "Filtrando zonas OD que não pertencem ao município de São Paulo"
   ]
  },
  {
   "cell_type": "code",
   "execution_count": null,
   "id": "90271591",
   "metadata": {},
   "outputs": [],
   "source": [
    "od_zones = od_zones.query('NumeroMuni == 36')"
   ]
  },
  {
   "cell_type": "markdown",
   "id": "41d8e249",
   "metadata": {},
   "source": [
    "Convertendo CRS"
   ]
  },
  {
   "cell_type": "code",
   "execution_count": null,
   "id": "9d3354c9",
   "metadata": {},
   "outputs": [],
   "source": [
    "od_districts = od_districts.to_crs(\"EPSG:4326\")\n",
    "od_zones = od_zones.to_crs(\"EPSG:4326\")"
   ]
  },
  {
   "cell_type": "markdown",
   "id": "383efb43",
   "metadata": {},
   "source": [
    "Filtrando pedestres"
   ]
  },
  {
   "cell_type": "code",
   "execution_count": null,
   "id": "bdddedd5",
   "metadata": {},
   "outputs": [],
   "source": [
    "pedestrians_walk = od.query('MODOPRIN == 17') ## 17: pedestrians"
   ]
  },
  {
   "cell_type": "markdown",
   "id": "623b2e1e",
   "metadata": {},
   "source": [
    "## Cálculo representatividade de viagens de pedestres por região"
   ]
  },
  {
   "cell_type": "markdown",
   "id": "0fc4f2b8",
   "metadata": {},
   "source": [
    "Calcular representatividade (%)\n",
    "\n",
    "- Por zona (ZONA_O)\n",
    "- Por distrito"
   ]
  },
  {
   "cell_type": "markdown",
   "id": "74a146de",
   "metadata": {},
   "source": [
    "### Viagens de pedestres por zona OD"
   ]
  },
  {
   "cell_type": "code",
   "execution_count": null,
   "id": "c0a637e7",
   "metadata": {},
   "outputs": [],
   "source": [
    "# total de viagens\n",
    "total_viagens = pedestrians_walk[\"FE_VIA\"].sum()\n",
    "\n",
    "# viagens por zona\n",
    "zone_share = (\n",
    "    pedestrians_walk.groupby(\"ZONA_O\")[\"FE_VIA\"].sum()\n",
    "    .reset_index()\n",
    "    .rename(columns={\"ZONA_O\": \"NumeroZona\", \"FE_VIA\": \"VIAGENS\"})\n",
    ")\n",
    "# calcula representatividade de viagens \n",
    "zone_share[\"PERC\"] = 100 * zone_share[\"VIAGENS\"] / total_viagens\n",
    "\n",
    "# ordena decrescentemente de acordo com a porcentagem\n",
    "zone_share = zone_share.sort_values(\"PERC\", ascending=False) \n",
    "\n",
    "zone_share.head()"
   ]
  },
  {
   "cell_type": "markdown",
   "id": "8b4566de",
   "metadata": {},
   "source": [
    "### Viagens de pedestres por distrito"
   ]
  },
  {
   "cell_type": "code",
   "execution_count": null,
   "id": "0ea1f82a",
   "metadata": {},
   "outputs": [],
   "source": [
    "# viagens por distrito\n",
    "# 1) junta zonas com distritos\n",
    "zone_district = od_zones[[\"NumeroZona\", \"NumDistrit\", \"NomeDistri\"]].merge(\n",
    "    zone_share, on=\"NumeroZona\", how=\"left\"\n",
    ").fillna({\"VIAGENS\": 0, \"PERC\": 0})\n",
    "\n",
    "# 2) agrega por distrito\n",
    "district_share = (\n",
    "    zone_district.groupby([\"NumDistrit\", \"NomeDistri\"])[\"VIAGENS\"].sum()\n",
    "    .reset_index()\n",
    ")\n",
    "\n",
    "# calcula representatividade de viagens \n",
    "district_share[\"PERC\"] = 100 * district_share[\"VIAGENS\"] / total_viagens\n",
    "\n",
    "# ordena decrescentemente de acordo com a porcentagem\n",
    "district_share = district_share.sort_values(\"PERC\", ascending=False)\n",
    "\n",
    "district_share.head()"
   ]
  },
  {
   "cell_type": "markdown",
   "id": "f14547f0",
   "metadata": {},
   "source": [
    "### Juntar com geometrias"
   ]
  },
  {
   "cell_type": "code",
   "execution_count": null,
   "id": "147f2530",
   "metadata": {},
   "outputs": [],
   "source": [
    "# zonas\n",
    "zones_map = od_zones.merge(zone_share, on=\"NumeroZona\", how=\"left\").fillna(0)\n",
    "\n",
    "# distritos\n",
    "districts_map = od_districts.merge(district_share, left_on=\"NumeroDist\", right_on=\"NumDistrit\", how=\"left\").fillna(0)"
   ]
  },
  {
   "cell_type": "markdown",
   "id": "7f52d208",
   "metadata": {},
   "source": [
    "Filtrando distritos do município São Paulo"
   ]
  },
  {
   "cell_type": "code",
   "execution_count": null,
   "id": "04231201",
   "metadata": {},
   "outputs": [],
   "source": [
    "districts_map = districts_map.query('VIAGENS > 0')"
   ]
  },
  {
   "cell_type": "markdown",
   "id": "16bcbb8b",
   "metadata": {},
   "source": [
    "## Mapa"
   ]
  },
  {
   "cell_type": "code",
   "execution_count": null,
   "id": "10658f79",
   "metadata": {},
   "outputs": [],
   "source": [
    "# centro aproximado (SP)\n",
    "m = folium.Map(location=[-23.55, -46.63], zoom_start=10)"
   ]
  },
  {
   "cell_type": "markdown",
   "id": "22c26b05",
   "metadata": {},
   "source": [
    "Camada Zona OD"
   ]
  },
  {
   "cell_type": "code",
   "execution_count": null,
   "id": "8cbdac93",
   "metadata": {},
   "outputs": [],
   "source": [
    "# camada por zona\n",
    "folium.Choropleth(\n",
    "    geo_data=zones_map.to_json(),\n",
    "    name=\"Zonas OD\",\n",
    "    data=zones_map,\n",
    "    columns=[\"NumeroZona\", \"PERC\"],\n",
    "    key_on=\"feature.properties.NumeroZona\",\n",
    "    fill_color=\"YlGnBu\",\n",
    "    fill_opacity=0.7,\n",
    "    line_opacity=0.3,\n",
    "    legend_name=\"Viagens de pedestres (%) - Zona OD\"\n",
    ").add_to(m)\n",
    "\n",
    "# adiciona tooltip + popup para zonas\n",
    "folium.GeoJson(\n",
    "    zones_map,\n",
    "    style_function=lambda x: {\"fillOpacity\": 0, \"color\": \"transparent\"}, \n",
    "    tooltip=folium.GeoJsonTooltip(\n",
    "        fields=[\"NomeZona\", \"PERC\"],\n",
    "        aliases=[\"Zona OD:\", \"Representatividade (%)\"],\n",
    "        localize=True,\n",
    "        sticky=True\n",
    "    ),\n",
    "    popup=folium.GeoJsonPopup(\n",
    "        fields=[\"NomeZona\", \"VIAGENS\", \"PERC\"],\n",
    "        aliases=[\"Zona OD:\", \"Viagens:\", \"Representatividade (%)\"],\n",
    "        localize=True\n",
    "    ),\n",
    "    name=\"zonas od - representatividade\",\n",
    "    show=True\n",
    ").add_to(m)"
   ]
  },
  {
   "cell_type": "markdown",
   "id": "117427ee",
   "metadata": {},
   "source": [
    "Camada Distrito"
   ]
  },
  {
   "cell_type": "code",
   "execution_count": null,
   "id": "72917c41",
   "metadata": {},
   "outputs": [],
   "source": [
    "# camada por distrito\n",
    "folium.Choropleth(\n",
    "    geo_data=districts_map.to_json(),\n",
    "    name=\"Distritos\",\n",
    "    data=districts_map,\n",
    "    columns=[\"NumeroDist\", \"PERC\"],\n",
    "    key_on=\"feature.properties.NumeroDist\",\n",
    "    fill_color=\"OrRd\",\n",
    "    fill_opacity=0.7,\n",
    "    line_opacity=0.3,\n",
    "    legend_name=\"Viagens de pedestres (%) - Distritos\",\n",
    "    show=False\n",
    ").add_to(m)\n",
    "\n",
    "# adiciona tooltip + popup para distritos\n",
    "folium.GeoJson(\n",
    "    districts_map,\n",
    "    style_function=lambda x: {\"fillOpacity\": 0, \"color\": \"transparent\"},\n",
    "    tooltip=folium.GeoJsonTooltip(\n",
    "        fields=[\"NomeDistri_x\", \"PERC\"],\n",
    "        aliases=[\"Distrito:\", \"Representatividade (%)\"],\n",
    "        localize=True,\n",
    "        sticky=True\n",
    "    ),\n",
    "    popup=folium.GeoJsonPopup(\n",
    "        fields=[\"NomeDistri_x\", \"VIAGENS\", \"PERC\"],\n",
    "        aliases=[\"Distrito:\", \"Viagens:\", \"Representatividade (%)\"],\n",
    "        localize=True\n",
    "    ),\n",
    "    name=\"distrito - representatividade\",\n",
    "    show=False\n",
    ").add_to(m)"
   ]
  },
  {
   "cell_type": "markdown",
   "id": "c4c89445",
   "metadata": {},
   "source": [
    "Salvar mapa"
   ]
  },
  {
   "cell_type": "code",
   "execution_count": null,
   "id": "540f5bb2",
   "metadata": {},
   "outputs": [],
   "source": [
    "# adicionar controles\n",
    "folium.LayerControl().add_to(m)\n",
    "\n",
    "m.save(\"../built_maps/choropleth_ped_trips_maps/ped_trips_sp.html\")"
   ]
  }
 ],
 "metadata": {
  "kernelspec": {
   "display_name": ".venv (3.12.3)",
   "language": "python",
   "name": "python3"
  },
  "language_info": {
   "codemirror_mode": {
    "name": "ipython",
    "version": 3
   },
   "file_extension": ".py",
   "mimetype": "text/x-python",
   "name": "python",
   "nbconvert_exporter": "python",
   "pygments_lexer": "ipython3",
   "version": "3.12.3"
  }
 },
 "nbformat": 4,
 "nbformat_minor": 5
}
