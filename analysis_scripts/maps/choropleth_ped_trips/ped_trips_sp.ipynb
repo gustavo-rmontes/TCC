{
 "cells": [
  {
   "cell_type": "markdown",
   "id": "f24fcb24",
   "metadata": {},
   "source": [
    "# Representatividade de pedestres em regiões comp ao total - Só SP\n",
    "\n",
    "Caderno Jupyter referente à **Issue #5**: *Mapa coroplético de origens e destinos de pedestres com filtros e granularidades* \n",
    "\n",
    "**APENAS MUNICÍPIO DE SP**\n",
    "\n",
    "Representatividade de viagens de pedestres por região comparado ao total de viagens de pedestres\n",
    "\n",
    "---"
   ]
  },
  {
   "cell_type": "code",
   "execution_count": 1,
   "id": "33bc329c",
   "metadata": {},
   "outputs": [],
   "source": [
    "import pandas as pd\n",
    "import geopandas\n",
    "import folium"
   ]
  },
  {
   "cell_type": "markdown",
   "id": "ee2265c9",
   "metadata": {},
   "source": [
    "Carregando datasets"
   ]
  },
  {
   "cell_type": "code",
   "execution_count": 2,
   "id": "8dea3ced",
   "metadata": {},
   "outputs": [],
   "source": [
    "od23_path = \"../../../data/OD/ODS/od23_all.csv\" \n",
    "od = pd.read_csv(od23_path)\n",
    "\n",
    "od_districts_shapefile_path = \"../../../data/OD/OD-2023/002_Site Metro Mapas_190225/Shape/Distritos_2023_region.shp\" \n",
    "od_districts = geopandas.read_file(od_districts_shapefile_path)\n",
    "\n",
    "od_zones_shapefile_path = \"../../../data/OD/OD-2023/002_Site Metro Mapas_190225/Shape/Zonas_2023.shp\" \n",
    "od_zones = geopandas.read_file(od_zones_shapefile_path)"
   ]
  },
  {
   "cell_type": "markdown",
   "id": "477de843",
   "metadata": {},
   "source": [
    "Filtrando zonas OD que não pertencem ao município de São Paulo"
   ]
  },
  {
   "cell_type": "code",
   "execution_count": 3,
   "id": "90271591",
   "metadata": {},
   "outputs": [],
   "source": [
    "od_zones = od_zones.query('NumeroMuni == 36')"
   ]
  },
  {
   "cell_type": "markdown",
   "id": "41d8e249",
   "metadata": {},
   "source": [
    "Convertendo CRS"
   ]
  },
  {
   "cell_type": "code",
   "execution_count": 4,
   "id": "9d3354c9",
   "metadata": {},
   "outputs": [],
   "source": [
    "od_districts = od_districts.to_crs(\"EPSG:4326\")\n",
    "od_zones = od_zones.to_crs(\"EPSG:4326\")"
   ]
  },
  {
   "cell_type": "markdown",
   "id": "383efb43",
   "metadata": {},
   "source": [
    "Filtrando pedestres"
   ]
  },
  {
   "cell_type": "code",
   "execution_count": 5,
   "id": "bdddedd5",
   "metadata": {},
   "outputs": [],
   "source": [
    "pedestrians_walk = od.query('MODOPRIN == 17') ## 17: pedestrians"
   ]
  },
  {
   "cell_type": "markdown",
   "id": "623b2e1e",
   "metadata": {},
   "source": [
    "## Cálculo representatividade de viagens de pedestres por região"
   ]
  },
  {
   "cell_type": "markdown",
   "id": "0fc4f2b8",
   "metadata": {},
   "source": [
    "Calcular representatividade (%)\n",
    "\n",
    "- Por zona (ZONA_O)\n",
    "- Por distrito"
   ]
  },
  {
   "cell_type": "markdown",
   "id": "74a146de",
   "metadata": {},
   "source": [
    "### Viagens de pedestres por zona OD"
   ]
  },
  {
   "cell_type": "code",
   "execution_count": 6,
   "id": "c0a637e7",
   "metadata": {},
   "outputs": [
    {
     "data": {
      "application/vnd.microsoft.datawrangler.viewer.v0+json": {
       "columns": [
        {
         "name": "index",
         "rawType": "int64",
         "type": "integer"
        },
        {
         "name": "NumeroZona",
         "rawType": "int64",
         "type": "integer"
        },
        {
         "name": "VIAGENS",
         "rawType": "float64",
         "type": "float"
        },
        {
         "name": "PERC",
         "rawType": "float64",
         "type": "float"
        }
       ],
       "ref": "b6b1c485-ffe5-43ef-a2ed-6fb01db509c9",
       "rows": [
        [
         "362",
         "378",
         "104517.78542305192",
         "1.039307275967555"
        ],
        [
         "384",
         "404",
         "103899.31887596076",
         "1.033157348663483"
        ],
        [
         "221",
         "229",
         "101638.78579034406",
         "1.0106789879334186"
        ],
        [
         "114",
         "116",
         "90704.83521325914",
         "0.9019536227351652"
        ],
        [
         "451",
         "476",
         "83806.44647220937",
         "0.8333572055607499"
        ]
       ],
       "shape": {
        "columns": 3,
        "rows": 5
       }
      },
      "text/html": [
       "<div>\n",
       "<style scoped>\n",
       "    .dataframe tbody tr th:only-of-type {\n",
       "        vertical-align: middle;\n",
       "    }\n",
       "\n",
       "    .dataframe tbody tr th {\n",
       "        vertical-align: top;\n",
       "    }\n",
       "\n",
       "    .dataframe thead th {\n",
       "        text-align: right;\n",
       "    }\n",
       "</style>\n",
       "<table border=\"1\" class=\"dataframe\">\n",
       "  <thead>\n",
       "    <tr style=\"text-align: right;\">\n",
       "      <th></th>\n",
       "      <th>NumeroZona</th>\n",
       "      <th>VIAGENS</th>\n",
       "      <th>PERC</th>\n",
       "    </tr>\n",
       "  </thead>\n",
       "  <tbody>\n",
       "    <tr>\n",
       "      <th>362</th>\n",
       "      <td>378</td>\n",
       "      <td>104517.785423</td>\n",
       "      <td>1.039307</td>\n",
       "    </tr>\n",
       "    <tr>\n",
       "      <th>384</th>\n",
       "      <td>404</td>\n",
       "      <td>103899.318876</td>\n",
       "      <td>1.033157</td>\n",
       "    </tr>\n",
       "    <tr>\n",
       "      <th>221</th>\n",
       "      <td>229</td>\n",
       "      <td>101638.785790</td>\n",
       "      <td>1.010679</td>\n",
       "    </tr>\n",
       "    <tr>\n",
       "      <th>114</th>\n",
       "      <td>116</td>\n",
       "      <td>90704.835213</td>\n",
       "      <td>0.901954</td>\n",
       "    </tr>\n",
       "    <tr>\n",
       "      <th>451</th>\n",
       "      <td>476</td>\n",
       "      <td>83806.446472</td>\n",
       "      <td>0.833357</td>\n",
       "    </tr>\n",
       "  </tbody>\n",
       "</table>\n",
       "</div>"
      ],
      "text/plain": [
       "     NumeroZona        VIAGENS      PERC\n",
       "362         378  104517.785423  1.039307\n",
       "384         404  103899.318876  1.033157\n",
       "221         229  101638.785790  1.010679\n",
       "114         116   90704.835213  0.901954\n",
       "451         476   83806.446472  0.833357"
      ]
     },
     "execution_count": 6,
     "metadata": {},
     "output_type": "execute_result"
    }
   ],
   "source": [
    "# total de viagens\n",
    "total_viagens = pedestrians_walk[\"FE_VIA\"].sum()\n",
    "\n",
    "# viagens por zona\n",
    "zone_share = (\n",
    "    pedestrians_walk.groupby(\"ZONA_O\")[\"FE_VIA\"].sum()\n",
    "    .reset_index()\n",
    "    .rename(columns={\"ZONA_O\": \"NumeroZona\", \"FE_VIA\": \"VIAGENS\"})\n",
    ")\n",
    "# calcula representatividade de viagens \n",
    "zone_share[\"PERC\"] = 100 * zone_share[\"VIAGENS\"] / total_viagens\n",
    "\n",
    "# ordena decrescentemente de acordo com a porcentagem\n",
    "zone_share = zone_share.sort_values(\"PERC\", ascending=False) \n",
    "\n",
    "zone_share.head()"
   ]
  },
  {
   "cell_type": "markdown",
   "id": "8b4566de",
   "metadata": {},
   "source": [
    "### Viagens de pedestres por distrito"
   ]
  },
  {
   "cell_type": "code",
   "execution_count": 7,
   "id": "0ea1f82a",
   "metadata": {},
   "outputs": [
    {
     "data": {
      "application/vnd.microsoft.datawrangler.viewer.v0+json": {
       "columns": [
        {
         "name": "index",
         "rawType": "int64",
         "type": "integer"
        },
        {
         "name": "NumDistrit",
         "rawType": "int32",
         "type": "integer"
        },
        {
         "name": "NomeDistri",
         "rawType": "object",
         "type": "string"
        },
        {
         "name": "VIAGENS",
         "rawType": "float64",
         "type": "float"
        },
        {
         "name": "PERC",
         "rawType": "float64",
         "type": "float"
        }
       ],
       "ref": "70bf1485-122f-4aa0-b467-f0fc433bfbbd",
       "rows": [
        [
         "41",
         "42",
         "Jardim Ângela",
         "175618.13788792575",
         "1.7463172201746502"
        ],
        [
         "29",
         "30",
         "Grajaú",
         "167952.31330891832",
         "1.6700895501278241"
        ],
        [
         "34",
         "35",
         "Itaim Paulista",
         "163336.58569805446",
         "1.624191531236227"
        ],
        [
         "24",
         "25",
         "Cidade Tiradentes",
         "146260.50271090207",
         "1.4543898345992543"
        ],
        [
         "18",
         "19",
         "Capão Redondo",
         "135232.28932190273",
         "1.3447271358564823"
        ]
       ],
       "shape": {
        "columns": 4,
        "rows": 5
       }
      },
      "text/html": [
       "<div>\n",
       "<style scoped>\n",
       "    .dataframe tbody tr th:only-of-type {\n",
       "        vertical-align: middle;\n",
       "    }\n",
       "\n",
       "    .dataframe tbody tr th {\n",
       "        vertical-align: top;\n",
       "    }\n",
       "\n",
       "    .dataframe thead th {\n",
       "        text-align: right;\n",
       "    }\n",
       "</style>\n",
       "<table border=\"1\" class=\"dataframe\">\n",
       "  <thead>\n",
       "    <tr style=\"text-align: right;\">\n",
       "      <th></th>\n",
       "      <th>NumDistrit</th>\n",
       "      <th>NomeDistri</th>\n",
       "      <th>VIAGENS</th>\n",
       "      <th>PERC</th>\n",
       "    </tr>\n",
       "  </thead>\n",
       "  <tbody>\n",
       "    <tr>\n",
       "      <th>41</th>\n",
       "      <td>42</td>\n",
       "      <td>Jardim Ângela</td>\n",
       "      <td>175618.137888</td>\n",
       "      <td>1.746317</td>\n",
       "    </tr>\n",
       "    <tr>\n",
       "      <th>29</th>\n",
       "      <td>30</td>\n",
       "      <td>Grajaú</td>\n",
       "      <td>167952.313309</td>\n",
       "      <td>1.670090</td>\n",
       "    </tr>\n",
       "    <tr>\n",
       "      <th>34</th>\n",
       "      <td>35</td>\n",
       "      <td>Itaim Paulista</td>\n",
       "      <td>163336.585698</td>\n",
       "      <td>1.624192</td>\n",
       "    </tr>\n",
       "    <tr>\n",
       "      <th>24</th>\n",
       "      <td>25</td>\n",
       "      <td>Cidade Tiradentes</td>\n",
       "      <td>146260.502711</td>\n",
       "      <td>1.454390</td>\n",
       "    </tr>\n",
       "    <tr>\n",
       "      <th>18</th>\n",
       "      <td>19</td>\n",
       "      <td>Capão Redondo</td>\n",
       "      <td>135232.289322</td>\n",
       "      <td>1.344727</td>\n",
       "    </tr>\n",
       "  </tbody>\n",
       "</table>\n",
       "</div>"
      ],
      "text/plain": [
       "    NumDistrit         NomeDistri        VIAGENS      PERC\n",
       "41          42      Jardim Ângela  175618.137888  1.746317\n",
       "29          30             Grajaú  167952.313309  1.670090\n",
       "34          35     Itaim Paulista  163336.585698  1.624192\n",
       "24          25  Cidade Tiradentes  146260.502711  1.454390\n",
       "18          19      Capão Redondo  135232.289322  1.344727"
      ]
     },
     "execution_count": 7,
     "metadata": {},
     "output_type": "execute_result"
    }
   ],
   "source": [
    "# viagens por distrito\n",
    "# 1) junta zonas com distritos\n",
    "zone_district = od_zones[[\"NumeroZona\", \"NumDistrit\", \"NomeDistri\"]].merge(\n",
    "    zone_share, on=\"NumeroZona\", how=\"left\"\n",
    ").fillna({\"VIAGENS\": 0, \"PERC\": 0})\n",
    "\n",
    "# 2) agrega por distrito\n",
    "district_share = (\n",
    "    zone_district.groupby([\"NumDistrit\", \"NomeDistri\"])[\"VIAGENS\"].sum()\n",
    "    .reset_index()\n",
    ")\n",
    "\n",
    "# calcula representatividade de viagens \n",
    "district_share[\"PERC\"] = 100 * district_share[\"VIAGENS\"] / total_viagens\n",
    "\n",
    "# ordena decrescentemente de acordo com a porcentagem\n",
    "district_share = district_share.sort_values(\"PERC\", ascending=False)\n",
    "\n",
    "district_share.head()"
   ]
  },
  {
   "cell_type": "markdown",
   "id": "f14547f0",
   "metadata": {},
   "source": [
    "### Juntar com geometrias"
   ]
  },
  {
   "cell_type": "code",
   "execution_count": 8,
   "id": "147f2530",
   "metadata": {},
   "outputs": [],
   "source": [
    "# zonas\n",
    "zones_map = od_zones.merge(zone_share, on=\"NumeroZona\", how=\"left\").fillna(0)\n",
    "\n",
    "# distritos\n",
    "districts_map = od_districts.merge(district_share, left_on=\"NumeroDist\", right_on=\"NumDistrit\", how=\"left\").fillna(0)"
   ]
  },
  {
   "cell_type": "markdown",
   "id": "7f52d208",
   "metadata": {},
   "source": [
    "Filtrando distritos do município São Paulo"
   ]
  },
  {
   "cell_type": "code",
   "execution_count": 9,
   "id": "04231201",
   "metadata": {},
   "outputs": [],
   "source": [
    "districts_map = districts_map.query('VIAGENS > 0')"
   ]
  },
  {
   "cell_type": "markdown",
   "id": "16bcbb8b",
   "metadata": {},
   "source": [
    "## Mapa"
   ]
  },
  {
   "cell_type": "code",
   "execution_count": 10,
   "id": "10658f79",
   "metadata": {},
   "outputs": [],
   "source": [
    "# centro aproximado (SP)\n",
    "m = folium.Map(location=[-23.55, -46.63], zoom_start=10, tiles=\"cartodb positron\")"
   ]
  },
  {
   "cell_type": "markdown",
   "id": "22c26b05",
   "metadata": {},
   "source": [
    "Camada Zona OD"
   ]
  },
  {
   "cell_type": "code",
   "execution_count": 11,
   "id": "8cbdac93",
   "metadata": {},
   "outputs": [
    {
     "data": {
      "text/plain": [
       "<folium.features.GeoJson at 0x7f9d38ce3950>"
      ]
     },
     "execution_count": 11,
     "metadata": {},
     "output_type": "execute_result"
    }
   ],
   "source": [
    "# camada por zona\n",
    "folium.Choropleth(\n",
    "    geo_data=zones_map.to_json(),\n",
    "    name=\"Zonas OD\",\n",
    "    data=zones_map,\n",
    "    columns=[\"NumeroZona\", \"PERC\"],\n",
    "    key_on=\"feature.properties.NumeroZona\",\n",
    "    fill_color=\"YlGnBu\",\n",
    "    fill_opacity=0.7,\n",
    "    line_opacity=0.3,\n",
    "    legend_name=\"Viagens de pedestres (%) - Zona OD\"\n",
    ").add_to(m)\n",
    "\n",
    "# adiciona tooltip + popup para zonas\n",
    "folium.GeoJson(\n",
    "    zones_map,\n",
    "    style_function=lambda x: {\"fillOpacity\": 0, \"color\": \"transparent\"}, \n",
    "    tooltip=folium.GeoJsonTooltip(\n",
    "        fields=[\"NomeZona\", \"PERC\"],\n",
    "        aliases=[\"Zona OD:\", \"Representatividade (%)\"],\n",
    "        localize=True,\n",
    "        sticky=True\n",
    "    ),\n",
    "    popup=folium.GeoJsonPopup(\n",
    "        fields=[\"NomeZona\", \"VIAGENS\", \"PERC\"],\n",
    "        aliases=[\"Zona OD:\", \"Viagens:\", \"Representatividade (%)\"],\n",
    "        localize=True\n",
    "    ),\n",
    "    name=\"zonas od - representatividade\",\n",
    "    show=True\n",
    ").add_to(m)"
   ]
  },
  {
   "cell_type": "markdown",
   "id": "117427ee",
   "metadata": {},
   "source": [
    "Camada Distrito"
   ]
  },
  {
   "cell_type": "code",
   "execution_count": 12,
   "id": "72917c41",
   "metadata": {},
   "outputs": [
    {
     "data": {
      "text/plain": [
       "<folium.features.GeoJson at 0x7f9d3479bc50>"
      ]
     },
     "execution_count": 12,
     "metadata": {},
     "output_type": "execute_result"
    }
   ],
   "source": [
    "# camada por distrito\n",
    "folium.Choropleth(\n",
    "    geo_data=districts_map.to_json(),\n",
    "    name=\"Distritos\",\n",
    "    data=districts_map,\n",
    "    columns=[\"NumeroDist\", \"PERC\"],\n",
    "    key_on=\"feature.properties.NumeroDist\",\n",
    "    fill_color=\"OrRd\",\n",
    "    fill_opacity=0.7,\n",
    "    line_opacity=0.3,\n",
    "    legend_name=\"Viagens de pedestres (%) - Distritos\",\n",
    "    show=False\n",
    ").add_to(m)\n",
    "\n",
    "# adiciona tooltip + popup para distritos\n",
    "folium.GeoJson(\n",
    "    districts_map,\n",
    "    style_function=lambda x: {\"fillOpacity\": 0, \"color\": \"transparent\"},\n",
    "    tooltip=folium.GeoJsonTooltip(\n",
    "        fields=[\"NomeDistri_x\", \"PERC\"],\n",
    "        aliases=[\"Distrito:\", \"Representatividade (%)\"],\n",
    "        localize=True,\n",
    "        sticky=True\n",
    "    ),\n",
    "    popup=folium.GeoJsonPopup(\n",
    "        fields=[\"NomeDistri_x\", \"VIAGENS\", \"PERC\"],\n",
    "        aliases=[\"Distrito:\", \"Viagens:\", \"Representatividade (%)\"],\n",
    "        localize=True\n",
    "    ),\n",
    "    name=\"distrito - representatividade\",\n",
    "    show=False\n",
    ").add_to(m)"
   ]
  },
  {
   "cell_type": "markdown",
   "id": "c4c89445",
   "metadata": {},
   "source": [
    "Salvar mapa"
   ]
  },
  {
   "cell_type": "code",
   "execution_count": 13,
   "id": "540f5bb2",
   "metadata": {},
   "outputs": [],
   "source": [
    "# adicionar controles\n",
    "folium.LayerControl().add_to(m)\n",
    "\n",
    "m.save(\"../built_maps/choropleth_ped_trips_maps/ped_trips_sp.html\")"
   ]
  }
 ],
 "metadata": {
  "kernelspec": {
   "display_name": ".venv (3.12.3)",
   "language": "python",
   "name": "python3"
  },
  "language_info": {
   "codemirror_mode": {
    "name": "ipython",
    "version": 3
   },
   "file_extension": ".py",
   "mimetype": "text/x-python",
   "name": "python",
   "nbconvert_exporter": "python",
   "pygments_lexer": "ipython3",
   "version": "3.12.3"
  }
 },
 "nbformat": 4,
 "nbformat_minor": 5
}
