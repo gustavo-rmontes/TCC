{
 "cells": [
  {
   "cell_type": "markdown",
   "id": "f24fcb24",
   "metadata": {},
   "source": [
    "# Percentual de viagens de pedestres em relação a população da área\n",
    "\n",
    "Caderno Jupyter referente à **Issue #5**: *Mapa coroplético de origens e destinos de pedestres com filtros e granularidades* \n",
    "\n",
    "**APENAS MUNICÍPIO DE SÃO PAULO**\n",
    "\n",
    "Comparação de viagens de pedestres e população da região (zona OD ou distrito)\n",
    "\n",
    "---"
   ]
  },
  {
   "cell_type": "code",
   "execution_count": 4,
   "id": "33bc329c",
   "metadata": {},
   "outputs": [],
   "source": [
    "import pandas as pd\n",
    "import geopandas\n",
    "import folium"
   ]
  },
  {
   "cell_type": "markdown",
   "id": "12a47286",
   "metadata": {},
   "source": [
    "### Carregando datasets e convertendo para CRS em comum "
   ]
  },
  {
   "cell_type": "markdown",
   "id": "ee2265c9",
   "metadata": {},
   "source": [
    "Carregando datasets"
   ]
  },
  {
   "cell_type": "code",
   "execution_count": 5,
   "id": "8dea3ced",
   "metadata": {},
   "outputs": [],
   "source": [
    "od23_path = \"../../../data/OD/ODS/od23_all.csv\" \n",
    "od = pd.read_csv(od23_path)\n",
    "\n",
    "od_districts_shapefile_path = \"../../../data/OD/OD-2023/002_Site Metro Mapas_190225/Shape/Distritos_2023_region.shp\" \n",
    "od_districts = geopandas.read_file(od_districts_shapefile_path)\n",
    "\n",
    "od_zones_shapefile_path = \"../../../data/OD/OD-2023/002_Site Metro Mapas_190225/Shape/Zonas_2023.shp\" \n",
    "od_zones = geopandas.read_file(od_zones_shapefile_path)"
   ]
  },
  {
   "cell_type": "markdown",
   "id": "6788f169",
   "metadata": {},
   "source": [
    "Filtrando zonas OD que pertencem ao município de SP"
   ]
  },
  {
   "cell_type": "code",
   "execution_count": 6,
   "id": "4bb6a1ff",
   "metadata": {},
   "outputs": [],
   "source": [
    "od_zones = od_zones.query('NumeroMuni == 36')"
   ]
  },
  {
   "cell_type": "markdown",
   "id": "41d8e249",
   "metadata": {},
   "source": [
    "Convertendo CRS"
   ]
  },
  {
   "cell_type": "code",
   "execution_count": 7,
   "id": "9d3354c9",
   "metadata": {},
   "outputs": [],
   "source": [
    "od_districts = od_districts.to_crs(\"EPSG:4326\")\n",
    "od_zones = od_zones.to_crs(\"EPSG:4326\")"
   ]
  },
  {
   "cell_type": "markdown",
   "id": "87ebf743",
   "metadata": {},
   "source": [
    "Cálculo da população por zonas OD"
   ]
  },
  {
   "cell_type": "code",
   "execution_count": 8,
   "id": "adfbcad4",
   "metadata": {},
   "outputs": [],
   "source": [
    "pop_sum_zone = (\n",
    "    od.groupby(\"ZONA_O\")[\"NO_MORAD\"].sum()\n",
    "    .reset_index()\n",
    "    .rename(columns={\"ZONA_O\": \"NumeroZona\", \"NO_MORAD\": \"TOTAL_POP\"})\n",
    ")"
   ]
  },
  {
   "cell_type": "markdown",
   "id": "bc636f29",
   "metadata": {},
   "source": [
    "Soma do número do total de moradores no domicílio (coluna 14)"
   ]
  },
  {
   "cell_type": "code",
   "execution_count": 9,
   "id": "f044a791",
   "metadata": {},
   "outputs": [
    {
     "data": {
      "text/plain": [
       "np.int64(360947)"
      ]
     },
     "execution_count": 9,
     "metadata": {},
     "output_type": "execute_result"
    }
   ],
   "source": [
    "od[\"NO_MORAD\"].sum()"
   ]
  },
  {
   "cell_type": "markdown",
   "id": "0fc4f2b8",
   "metadata": {},
   "source": [
    "## Calcular viagens de pedestres / população da área\n",
    "\n",
    "- Por zona (ZONA_O)\n",
    "- Por distrito"
   ]
  },
  {
   "cell_type": "markdown",
   "id": "74659825",
   "metadata": {},
   "source": [
    "### Viagens por zona OD / população"
   ]
  },
  {
   "cell_type": "code",
   "execution_count": 10,
   "id": "89b9d6b8",
   "metadata": {},
   "outputs": [
    {
     "data": {
      "application/vnd.microsoft.datawrangler.viewer.v0+json": {
       "columns": [
        {
         "name": "index",
         "rawType": "int64",
         "type": "integer"
        },
        {
         "name": "NumeroZona",
         "rawType": "int64",
         "type": "integer"
        },
        {
         "name": "VIAGENS_PED",
         "rawType": "float64",
         "type": "float"
        },
        {
         "name": "TOTAL_POP",
         "rawType": "int64",
         "type": "integer"
        },
        {
         "name": "PED_POP",
         "rawType": "float64",
         "type": "float"
        }
       ],
       "ref": "9c91ad25-b949-469f-81d8-e169f1d7f8e3",
       "rows": [
        [
         "343",
         "358",
         "31438.86666666662",
         "179",
         "17563.612662942247"
        ],
        [
         "375",
         "395",
         "166.78",
         "1",
         "16678.0"
        ],
        [
         "408",
         "432",
         "67620.42118537221",
         "531",
         "12734.542596115294"
        ],
        [
         "345",
         "361",
         "55405.400000000016",
         "517",
         "10716.711798839462"
        ],
        [
         "404",
         "428",
         "101629.73684391082",
         "980",
         "10370.381310603147"
        ]
       ],
       "shape": {
        "columns": 4,
        "rows": 5
       }
      },
      "text/html": [
       "<div>\n",
       "<style scoped>\n",
       "    .dataframe tbody tr th:only-of-type {\n",
       "        vertical-align: middle;\n",
       "    }\n",
       "\n",
       "    .dataframe tbody tr th {\n",
       "        vertical-align: top;\n",
       "    }\n",
       "\n",
       "    .dataframe thead th {\n",
       "        text-align: right;\n",
       "    }\n",
       "</style>\n",
       "<table border=\"1\" class=\"dataframe\">\n",
       "  <thead>\n",
       "    <tr style=\"text-align: right;\">\n",
       "      <th></th>\n",
       "      <th>NumeroZona</th>\n",
       "      <th>VIAGENS_PED</th>\n",
       "      <th>TOTAL_POP</th>\n",
       "      <th>PED_POP</th>\n",
       "    </tr>\n",
       "  </thead>\n",
       "  <tbody>\n",
       "    <tr>\n",
       "      <th>343</th>\n",
       "      <td>358</td>\n",
       "      <td>31438.866667</td>\n",
       "      <td>179</td>\n",
       "      <td>17563.612663</td>\n",
       "    </tr>\n",
       "    <tr>\n",
       "      <th>375</th>\n",
       "      <td>395</td>\n",
       "      <td>166.780000</td>\n",
       "      <td>1</td>\n",
       "      <td>16678.000000</td>\n",
       "    </tr>\n",
       "    <tr>\n",
       "      <th>408</th>\n",
       "      <td>432</td>\n",
       "      <td>67620.421185</td>\n",
       "      <td>531</td>\n",
       "      <td>12734.542596</td>\n",
       "    </tr>\n",
       "    <tr>\n",
       "      <th>345</th>\n",
       "      <td>361</td>\n",
       "      <td>55405.400000</td>\n",
       "      <td>517</td>\n",
       "      <td>10716.711799</td>\n",
       "    </tr>\n",
       "    <tr>\n",
       "      <th>404</th>\n",
       "      <td>428</td>\n",
       "      <td>101629.736844</td>\n",
       "      <td>980</td>\n",
       "      <td>10370.381311</td>\n",
       "    </tr>\n",
       "  </tbody>\n",
       "</table>\n",
       "</div>"
      ],
      "text/plain": [
       "     NumeroZona    VIAGENS_PED  TOTAL_POP       PED_POP\n",
       "343         358   31438.866667        179  17563.612663\n",
       "375         395     166.780000          1  16678.000000\n",
       "408         432   67620.421185        531  12734.542596\n",
       "345         361   55405.400000        517  10716.711799\n",
       "404         428  101629.736844        980  10370.381311"
      ]
     },
     "execution_count": 10,
     "metadata": {},
     "output_type": "execute_result"
    }
   ],
   "source": [
    "# 1) Filtrando apenas pedestres \n",
    "pedestrians_walk = od.query('MODOPRIN == 17')\n",
    "\n",
    "# 2) Total de viagens para pedestres\n",
    "zone_walk = (\n",
    "    pedestrians_walk.groupby(\"ZONA_O\")[\"FE_DOM\"].sum()\n",
    "    .reset_index()\n",
    "    .rename(columns={\"ZONA_O\": \"NumeroZona\", \"FE_DOM\": \"VIAGENS_PED\"})\n",
    ")\n",
    "\n",
    "# 3) Merge do total de viagens / total de viagens de pedestres por zonas OD\n",
    "zone_share = zone_walk.merge(\n",
    "    pop_sum_zone,\n",
    "    on=\"NumeroZona\",\n",
    "    how=\"inner\"\n",
    ")\n",
    "\n",
    "# 4) Cálculo da representatividade de pedestres\n",
    "zone_share[\"PED_POP\"] = 100 * zone_share[\"VIAGENS_PED\"] / zone_share[\"TOTAL_POP\"]\n",
    "\n",
    "# 5) Ordena decrescentemente por percentual de viagens de pedestres / população\n",
    "zone_share = zone_share.sort_values(\"PED_POP\", ascending=False)\n",
    "zone_share.head()"
   ]
  },
  {
   "cell_type": "markdown",
   "id": "09b33588",
   "metadata": {},
   "source": [
    "### Viagens por distrito"
   ]
  },
  {
   "cell_type": "code",
   "execution_count": 11,
   "id": "0ea1f82a",
   "metadata": {},
   "outputs": [
    {
     "data": {
      "application/vnd.microsoft.datawrangler.viewer.v0+json": {
       "columns": [
        {
         "name": "index",
         "rawType": "int64",
         "type": "integer"
        },
        {
         "name": "NumDistrit",
         "rawType": "int32",
         "type": "integer"
        },
        {
         "name": "NomeDistri",
         "rawType": "object",
         "type": "string"
        },
        {
         "name": "VIAGENS_PED",
         "rawType": "float64",
         "type": "float"
        },
        {
         "name": "TOTAL_POP",
         "rawType": "float64",
         "type": "float"
        },
        {
         "name": "PED_POP",
         "rawType": "float64",
         "type": "float"
        }
       ],
       "ref": "9adf6ba0-f0f6-4929-8839-906428a1307b",
       "rows": [
        [
         "49",
         "50",
         "Limão",
         "110342.57976631034",
         "1870.0",
         "5900.672714775954"
        ],
        [
         "74",
         "75",
         "São Mateus",
         "141736.9878208211",
         "2643.0",
         "5362.731283421153"
        ],
        [
         "29",
         "30",
         "Grajaú",
         "135684.85011207266",
         "2564.0",
         "5291.920831204082"
        ],
        [
         "23",
         "24",
         "Cidade Líder",
         "94407.00954495007",
         "1788.0",
         "5280.034090880877"
        ],
        [
         "75",
         "76",
         "São Miguel",
         "105934.7119087277",
         "2280.0",
         "4646.259294242443"
        ]
       ],
       "shape": {
        "columns": 5,
        "rows": 5
       }
      },
      "text/html": [
       "<div>\n",
       "<style scoped>\n",
       "    .dataframe tbody tr th:only-of-type {\n",
       "        vertical-align: middle;\n",
       "    }\n",
       "\n",
       "    .dataframe tbody tr th {\n",
       "        vertical-align: top;\n",
       "    }\n",
       "\n",
       "    .dataframe thead th {\n",
       "        text-align: right;\n",
       "    }\n",
       "</style>\n",
       "<table border=\"1\" class=\"dataframe\">\n",
       "  <thead>\n",
       "    <tr style=\"text-align: right;\">\n",
       "      <th></th>\n",
       "      <th>NumDistrit</th>\n",
       "      <th>NomeDistri</th>\n",
       "      <th>VIAGENS_PED</th>\n",
       "      <th>TOTAL_POP</th>\n",
       "      <th>PED_POP</th>\n",
       "    </tr>\n",
       "  </thead>\n",
       "  <tbody>\n",
       "    <tr>\n",
       "      <th>49</th>\n",
       "      <td>50</td>\n",
       "      <td>Limão</td>\n",
       "      <td>110342.579766</td>\n",
       "      <td>1870.0</td>\n",
       "      <td>5900.672715</td>\n",
       "    </tr>\n",
       "    <tr>\n",
       "      <th>74</th>\n",
       "      <td>75</td>\n",
       "      <td>São Mateus</td>\n",
       "      <td>141736.987821</td>\n",
       "      <td>2643.0</td>\n",
       "      <td>5362.731283</td>\n",
       "    </tr>\n",
       "    <tr>\n",
       "      <th>29</th>\n",
       "      <td>30</td>\n",
       "      <td>Grajaú</td>\n",
       "      <td>135684.850112</td>\n",
       "      <td>2564.0</td>\n",
       "      <td>5291.920831</td>\n",
       "    </tr>\n",
       "    <tr>\n",
       "      <th>23</th>\n",
       "      <td>24</td>\n",
       "      <td>Cidade Líder</td>\n",
       "      <td>94407.009545</td>\n",
       "      <td>1788.0</td>\n",
       "      <td>5280.034091</td>\n",
       "    </tr>\n",
       "    <tr>\n",
       "      <th>75</th>\n",
       "      <td>76</td>\n",
       "      <td>São Miguel</td>\n",
       "      <td>105934.711909</td>\n",
       "      <td>2280.0</td>\n",
       "      <td>4646.259294</td>\n",
       "    </tr>\n",
       "  </tbody>\n",
       "</table>\n",
       "</div>"
      ],
      "text/plain": [
       "    NumDistrit    NomeDistri    VIAGENS_PED  TOTAL_POP      PED_POP\n",
       "49          50         Limão  110342.579766     1870.0  5900.672715\n",
       "74          75    São Mateus  141736.987821     2643.0  5362.731283\n",
       "29          30        Grajaú  135684.850112     2564.0  5291.920831\n",
       "23          24  Cidade Líder   94407.009545     1788.0  5280.034091\n",
       "75          76    São Miguel  105934.711909     2280.0  4646.259294"
      ]
     },
     "execution_count": 11,
     "metadata": {},
     "output_type": "execute_result"
    }
   ],
   "source": [
    "# 1) Junta zonas com distritos para agregação futura de distritos\n",
    "zone_district = od_zones[[\"NumeroZona\", \"NumDistrit\", \"NomeDistri\"]].merge(\n",
    "    zone_share, on=\"NumeroZona\", how=\"left\"\n",
    ").fillna({\"VIAGENS_PED\": 0, \"TOTAL_POP\": 0, \"PED_POP\": 0})\n",
    "\n",
    "# 2) Agregação de viagens de pedestres por distrito\n",
    "district_walk = (\n",
    "    zone_district.groupby([\"NumDistrit\", \"NomeDistri\"])[\"VIAGENS_PED\"].sum()\n",
    "    .reset_index()\n",
    ")\n",
    "\n",
    "# 3) Total de viagens de todos os meios por distrito\n",
    "pop_sum_district = (\n",
    "    zone_district.groupby(\"NumDistrit\")[\"TOTAL_POP\"].sum()\n",
    "    .reset_index()\n",
    ")\n",
    "\n",
    "# 4) Merge do total de viagens / total de viagens de pedestres por distritos\n",
    "district_share = district_walk.merge(\n",
    "    pop_sum_district,\n",
    "    on=\"NumDistrit\",\n",
    "    how=\"inner\"\n",
    ")\n",
    "\n",
    "# 5) Cálculo da representatividade de pedestres\n",
    "district_share[\"PED_POP\"] = 100 * district_share[\"VIAGENS_PED\"] / district_share[\"TOTAL_POP\"]\n",
    "\n",
    "# 6) ordena decrescentente de acordo com o percentual\n",
    "district_share = district_share.sort_values(\"PED_POP\", ascending=False)\n",
    "district_share.head()"
   ]
  },
  {
   "cell_type": "markdown",
   "id": "1804fab5",
   "metadata": {},
   "source": [
    "## Merge com geometrias"
   ]
  },
  {
   "cell_type": "markdown",
   "id": "f14547f0",
   "metadata": {},
   "source": [
    "Juntar com geometrias"
   ]
  },
  {
   "cell_type": "code",
   "execution_count": 12,
   "id": "147f2530",
   "metadata": {},
   "outputs": [],
   "source": [
    "# zonas\n",
    "zones_map = od_zones.merge(zone_share, on=\"NumeroZona\", how=\"left\").fillna(0)\n",
    "\n",
    "# distritos\n",
    "districts_map = od_districts.merge(district_share, left_on=\"NumeroDist\", right_on=\"NumDistrit\", how=\"left\").fillna(0)"
   ]
  },
  {
   "cell_type": "markdown",
   "id": "4811ee67",
   "metadata": {},
   "source": [
    "Filtrando distritos que pertençam São Paulo"
   ]
  },
  {
   "cell_type": "code",
   "execution_count": 13,
   "id": "0b4c5e26",
   "metadata": {},
   "outputs": [],
   "source": [
    "districts_map = districts_map.query('PED_POP > 0')"
   ]
  },
  {
   "cell_type": "markdown",
   "id": "fe7e0bc3",
   "metadata": {},
   "source": [
    "## Mapa"
   ]
  },
  {
   "cell_type": "markdown",
   "id": "16bcbb8b",
   "metadata": {},
   "source": [
    "Criar mapa Folium com LayerControl"
   ]
  },
  {
   "cell_type": "code",
   "execution_count": 19,
   "id": "10658f79",
   "metadata": {},
   "outputs": [],
   "source": [
    "# centro aproximado (SP)\n",
    "m = folium.Map(location=[-23.55, -46.63], zoom_start=10, tiles='cartodb positron')"
   ]
  },
  {
   "cell_type": "markdown",
   "id": "22c26b05",
   "metadata": {},
   "source": [
    "Camada Zona OD"
   ]
  },
  {
   "cell_type": "code",
   "execution_count": 20,
   "id": "8cbdac93",
   "metadata": {},
   "outputs": [
    {
     "data": {
      "text/plain": [
       "<folium.features.GeoJson at 0x776f8d8ce0c0>"
      ]
     },
     "execution_count": 20,
     "metadata": {},
     "output_type": "execute_result"
    }
   ],
   "source": [
    "# camada por zona\n",
    "folium.Choropleth(\n",
    "    geo_data=zones_map.to_json(),\n",
    "    name=\"Zonas OD\",\n",
    "    data=zones_map,\n",
    "    columns=[\"NumeroZona\", \"PED_POP\"],\n",
    "    key_on=\"feature.properties.NumeroZona\",\n",
    "    fill_color=\"YlGnBu\",\n",
    "    fill_opacity=0.7,\n",
    "    line_opacity=0.3,\n",
    "    legend_name=\"Viagens de pedestres (%) - Zona OD\"\n",
    ").add_to(m)\n",
    "\n",
    "# adiciona tooltip + popup para zonas\n",
    "folium.GeoJson(\n",
    "    zones_map,\n",
    "    style_function=lambda x: {\"fillOpacity\": 0, \"color\": \"transparent\"}, \n",
    "    tooltip=folium.GeoJsonTooltip(\n",
    "        fields=[\"NomeZona\", \"PED_POP\"],\n",
    "        aliases=[\"Zona OD:\", \"Pedestre / População\"],\n",
    "        localize=True,\n",
    "        sticky=True\n",
    "    ),\n",
    "    popup=folium.GeoJsonPopup(\n",
    "        fields=[\"NomeZona\", \"VIAGENS_PED\", \"TOTAL_POP\", \"PED_POP\"],\n",
    "        aliases=[\"Zona OD:\", \"Viagens:\", \"Total população\", \"Pedestre / População\"],\n",
    "        localize=True\n",
    "    ),\n",
    "    name=\"zonas od - pedestre / população\",\n",
    "    show=True\n",
    ").add_to(m)"
   ]
  },
  {
   "cell_type": "markdown",
   "id": "428eeb5a",
   "metadata": {},
   "source": [
    "Camada Distrito"
   ]
  },
  {
   "cell_type": "code",
   "execution_count": 21,
   "id": "72917c41",
   "metadata": {},
   "outputs": [
    {
     "data": {
      "text/plain": [
       "<folium.features.GeoJson at 0x776f7b3bfc80>"
      ]
     },
     "execution_count": 21,
     "metadata": {},
     "output_type": "execute_result"
    }
   ],
   "source": [
    "# camada por distrito\n",
    "folium.Choropleth(\n",
    "    geo_data=districts_map.to_json(),\n",
    "    name=\"Distritos\",\n",
    "    data=districts_map,\n",
    "    columns=[\"NumeroDist\", \"PED_POP\"],\n",
    "    key_on=\"feature.properties.NumeroDist\",\n",
    "    fill_color=\"OrRd\",\n",
    "    fill_opacity=0.7,\n",
    "    line_opacity=0.3,\n",
    "    legend_name=\"Viagens de pedestres (%) - Distritos\",\n",
    "    show=False\n",
    ").add_to(m)\n",
    "\n",
    "# adiciona tooltip + popup para distritos\n",
    "folium.GeoJson(\n",
    "    districts_map,\n",
    "    style_function=lambda x: {\"fillOpacity\": 0, \"color\": \"transparent\"},\n",
    "    tooltip=folium.GeoJsonTooltip(\n",
    "        fields=[\"NomeDistri_x\", \"PED_POP\"],\n",
    "        aliases=[\"Distrito:\", \"Pedestre / População\"],\n",
    "        localize=True,\n",
    "        sticky=True\n",
    "    ),\n",
    "    popup=folium.GeoJsonPopup(\n",
    "        fields=[\"NomeDistri_x\", \"VIAGENS_PED\", \"TOTAL_POP\", \"PED_POP\"],\n",
    "        aliases=[\"Distrito:\", \"Viagens pedestres:\", \"Total população\", \"Pedestre / População\"],\n",
    "        localize=True\n",
    "    ),\n",
    "    name=\"distrito - pedestre / população\",\n",
    "    show=False\n",
    ").add_to(m)"
   ]
  },
  {
   "cell_type": "markdown",
   "id": "c4c89445",
   "metadata": {},
   "source": [
    "Salvar mapa"
   ]
  },
  {
   "cell_type": "code",
   "execution_count": 22,
   "id": "540f5bb2",
   "metadata": {},
   "outputs": [],
   "source": [
    "# adicionar controles\n",
    "folium.LayerControl().add_to(m)\n",
    "\n",
    "m.save(\"../built_maps/choropleth_ped_trips_maps/ped_trips_by_pop.html\")"
   ]
  }
 ],
 "metadata": {
  "kernelspec": {
   "display_name": ".venv (3.12.3)",
   "language": "python",
   "name": "python3"
  },
  "language_info": {
   "codemirror_mode": {
    "name": "ipython",
    "version": 3
   },
   "file_extension": ".py",
   "mimetype": "text/x-python",
   "name": "python",
   "nbconvert_exporter": "python",
   "pygments_lexer": "ipython3",
   "version": "3.12.3"
  }
 },
 "nbformat": 4,
 "nbformat_minor": 5
}
