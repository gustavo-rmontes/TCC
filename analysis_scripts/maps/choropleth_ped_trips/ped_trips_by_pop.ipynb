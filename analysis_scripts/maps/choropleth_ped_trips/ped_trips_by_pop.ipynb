{
 "cells": [
  {
   "cell_type": "markdown",
   "id": "f24fcb24",
   "metadata": {},
   "source": [
    "# Percentual de viagens de pedestres em relação a população da área\n",
    "\n",
    "Caderno Jupyter referente à **Issue #5**: *Mapa coroplético de origens e destinos de pedestres com filtros e granularidades* \n",
    "\n",
    "**APENAS MUNICÍPIO DE SÃO PAULO**\n",
    "\n",
    "Comparação de viagens de pedestres e população da região (zona OD ou distrito)\n",
    "\n",
    "---"
   ]
  },
  {
   "cell_type": "code",
   "execution_count": null,
   "id": "33bc329c",
   "metadata": {},
   "outputs": [],
   "source": [
    "import pandas as pd\n",
    "import geopandas\n",
    "import folium"
   ]
  },
  {
   "cell_type": "markdown",
   "id": "12a47286",
   "metadata": {},
   "source": [
    "### Carregando datasets e convertendo para CRS em comum "
   ]
  },
  {
   "cell_type": "markdown",
   "id": "ee2265c9",
   "metadata": {},
   "source": [
    "Carregando datasets"
   ]
  },
  {
   "cell_type": "code",
   "execution_count": null,
   "id": "8dea3ced",
   "metadata": {},
   "outputs": [],
   "source": [
    "od23_path = \"../../data/OD/ODS/od23_all.csv\" \n",
    "od = pd.read_csv(od23_path)\n",
    "\n",
    "od_districts_shapefile_path = \"../../data/OD/OD-2023/002_Site Metro Mapas_190225/Shape/Distritos_2023_region.shp\" \n",
    "od_districts = geopandas.read_file(od_districts_shapefile_path)\n",
    "\n",
    "od_zones_shapefile_path = \"../../data/OD/OD-2023/002_Site Metro Mapas_190225/Shape/Zonas_2023.shp\" \n",
    "od_zones = geopandas.read_file(od_zones_shapefile_path)"
   ]
  },
  {
   "cell_type": "markdown",
   "id": "6788f169",
   "metadata": {},
   "source": [
    "Filtrando zonas OD que pertencem ao município de SP"
   ]
  },
  {
   "cell_type": "code",
   "execution_count": null,
   "id": "4bb6a1ff",
   "metadata": {},
   "outputs": [],
   "source": [
    "od_zones = od_zones.query('NumeroMuni == 36')"
   ]
  },
  {
   "cell_type": "markdown",
   "id": "41d8e249",
   "metadata": {},
   "source": [
    "Convertendo CRS"
   ]
  },
  {
   "cell_type": "code",
   "execution_count": null,
   "id": "9d3354c9",
   "metadata": {},
   "outputs": [],
   "source": [
    "od_districts = od_districts.to_crs(\"EPSG:4326\")\n",
    "od_zones = od_zones.to_crs(\"EPSG:4326\")"
   ]
  },
  {
   "cell_type": "markdown",
   "id": "87ebf743",
   "metadata": {},
   "source": [
    "Cálculo da população por zonas OD"
   ]
  },
  {
   "cell_type": "code",
   "execution_count": null,
   "id": "adfbcad4",
   "metadata": {},
   "outputs": [],
   "source": [
    "pop_sum_zone = (\n",
    "    od.groupby(\"ZONA_O\")[\"NO_MORAD\"].sum()\n",
    "    .reset_index()\n",
    "    .rename(columns={\"ZONA_O\": \"NumeroZona\", \"NO_MORAD\": \"TOTAL_POP\"})\n",
    ")"
   ]
  },
  {
   "cell_type": "markdown",
   "id": "bc636f29",
   "metadata": {},
   "source": [
    "Soma do número do total de moradores no domicílio (coluna 14)"
   ]
  },
  {
   "cell_type": "code",
   "execution_count": null,
   "id": "f044a791",
   "metadata": {},
   "outputs": [],
   "source": [
    "od[\"NO_MORAD\"].sum()"
   ]
  },
  {
   "cell_type": "markdown",
   "id": "0fc4f2b8",
   "metadata": {},
   "source": [
    "## Calcular viagens de pedestres / população da área\n",
    "\n",
    "- Por zona (ZONA_O)\n",
    "- Por distrito"
   ]
  },
  {
   "cell_type": "markdown",
   "id": "74659825",
   "metadata": {},
   "source": [
    "### Viagens por zona OD / população"
   ]
  },
  {
   "cell_type": "code",
   "execution_count": null,
   "id": "89b9d6b8",
   "metadata": {},
   "outputs": [],
   "source": [
    "# 1) Filtrando apenas pedestres \n",
    "pedestrians_walk = od.query('MODOPRIN == 17')\n",
    "\n",
    "# 2) Total de viagens para pedestres\n",
    "zone_walk = (\n",
    "    pedestrians_walk.groupby(\"ZONA_O\")[\"FE_VIA\"].sum()\n",
    "    .reset_index()\n",
    "    .rename(columns={\"ZONA_O\": \"NumeroZona\", \"FE_VIA\": \"VIAGENS_PED\"})\n",
    ")\n",
    "\n",
    "# 3) Merge do total de viagens / total de viagens de pedestres por zonas OD\n",
    "zone_share = zone_walk.merge(\n",
    "    pop_sum_zone,\n",
    "    on=\"NumeroZona\",\n",
    "    how=\"inner\"\n",
    ")\n",
    "\n",
    "# 4) Cálculo da representatividade de pedestres\n",
    "zone_share[\"PED_POP\"] = 100 * zone_share[\"VIAGENS_PED\"] / zone_share[\"TOTAL_POP\"]\n",
    "\n",
    "# 5) Ordena decrescentemente por percentual de viagens de pedestres / população\n",
    "zone_share = zone_share.sort_values(\"PED_POP\", ascending=False)\n",
    "zone_share.head()"
   ]
  },
  {
   "cell_type": "markdown",
   "id": "09b33588",
   "metadata": {},
   "source": [
    "### Viagens por distrito"
   ]
  },
  {
   "cell_type": "code",
   "execution_count": null,
   "id": "0ea1f82a",
   "metadata": {},
   "outputs": [],
   "source": [
    "# 1) Junta zonas com distritos para agregação futura de distritos\n",
    "zone_district = od_zones[[\"NumeroZona\", \"NumDistrit\", \"NomeDistri\"]].merge(\n",
    "    zone_share, on=\"NumeroZona\", how=\"left\"\n",
    ").fillna({\"VIAGENS_PED\": 0, \"TOTAL_POP\": 0, \"PED_POP\": 0})\n",
    "\n",
    "# 2) Agregação de viagens de pedestres por distrito\n",
    "district_walk = (\n",
    "    zone_district.groupby([\"NumDistrit\", \"NomeDistri\"])[\"VIAGENS_PED\"].sum()\n",
    "    .reset_index()\n",
    ")\n",
    "\n",
    "# 3) Total de viagens de todos os meios por distrito\n",
    "pop_sum_district = (\n",
    "    zone_district.groupby(\"NumDistrit\")[\"TOTAL_POP\"].sum()\n",
    "    .reset_index()\n",
    ")\n",
    "\n",
    "# 4) Merge do total de viagens / total de viagens de pedestres por distritos\n",
    "district_share = district_walk.merge(\n",
    "    pop_sum_district,\n",
    "    on=\"NumDistrit\",\n",
    "    how=\"inner\"\n",
    ")\n",
    "\n",
    "# 5) Cálculo da representatividade de pedestres\n",
    "district_share[\"PED_POP\"] = 100 * district_share[\"VIAGENS_PED\"] / district_share[\"TOTAL_POP\"]\n",
    "\n",
    "# 6) ordena decrescentente de acordo com o percentual\n",
    "district_share = district_share.sort_values(\"PED_POP\", ascending=False)\n",
    "district_share.head()"
   ]
  },
  {
   "cell_type": "markdown",
   "id": "1804fab5",
   "metadata": {},
   "source": [
    "## Merge com geometrias"
   ]
  },
  {
   "cell_type": "markdown",
   "id": "f14547f0",
   "metadata": {},
   "source": [
    "Juntar com geometrias"
   ]
  },
  {
   "cell_type": "code",
   "execution_count": null,
   "id": "147f2530",
   "metadata": {},
   "outputs": [],
   "source": [
    "# zonas\n",
    "zones_map = od_zones.merge(zone_share, on=\"NumeroZona\", how=\"left\").fillna(0)\n",
    "\n",
    "# distritos\n",
    "districts_map = od_districts.merge(district_share, left_on=\"NumeroDist\", right_on=\"NumDistrit\", how=\"left\").fillna(0)"
   ]
  },
  {
   "cell_type": "markdown",
   "id": "4811ee67",
   "metadata": {},
   "source": [
    "Filtrando distritos que pertençam São Paulo"
   ]
  },
  {
   "cell_type": "code",
   "execution_count": null,
   "id": "0b4c5e26",
   "metadata": {},
   "outputs": [],
   "source": [
    "districts_map = districts_map.query('PED_POP > 0')"
   ]
  },
  {
   "cell_type": "markdown",
   "id": "fe7e0bc3",
   "metadata": {},
   "source": [
    "## Mapa"
   ]
  },
  {
   "cell_type": "markdown",
   "id": "16bcbb8b",
   "metadata": {},
   "source": [
    "Criar mapa Folium com LayerControl"
   ]
  },
  {
   "cell_type": "code",
   "execution_count": null,
   "id": "10658f79",
   "metadata": {},
   "outputs": [],
   "source": [
    "# centro aproximado (SP)\n",
    "m = folium.Map(location=[-23.55, -46.63], zoom_start=10)"
   ]
  },
  {
   "cell_type": "markdown",
   "id": "22c26b05",
   "metadata": {},
   "source": [
    "Camada Zona OD"
   ]
  },
  {
   "cell_type": "code",
   "execution_count": null,
   "id": "8cbdac93",
   "metadata": {},
   "outputs": [],
   "source": [
    "# camada por zona\n",
    "folium.Choropleth(\n",
    "    geo_data=zones_map.to_json(),\n",
    "    name=\"Zonas OD\",\n",
    "    data=zones_map,\n",
    "    columns=[\"NumeroZona\", \"PED_POP\"],\n",
    "    key_on=\"feature.properties.NumeroZona\",\n",
    "    fill_color=\"YlGnBu\",\n",
    "    fill_opacity=0.7,\n",
    "    line_opacity=0.3,\n",
    "    legend_name=\"Viagens de pedestres (%) - Zona OD\"\n",
    ").add_to(m)\n",
    "\n",
    "# adiciona tooltip + popup para zonas\n",
    "folium.GeoJson(\n",
    "    zones_map,\n",
    "    style_function=lambda x: {\"fillOpacity\": 0, \"color\": \"transparent\"}, \n",
    "    tooltip=folium.GeoJsonTooltip(\n",
    "        fields=[\"NomeZona\", \"PED_POP\"],\n",
    "        aliases=[\"Zona OD:\", \"Pedestre / População\"],\n",
    "        localize=True,\n",
    "        sticky=True\n",
    "    ),\n",
    "    popup=folium.GeoJsonPopup(\n",
    "        fields=[\"NomeZona\", \"VIAGENS_PED\", \"TOTAL_POP\", \"PED_POP\"],\n",
    "        aliases=[\"Zona OD:\", \"Viagens:\", \"Total população\", \"Pedestre / População\"],\n",
    "        localize=True\n",
    "    ),\n",
    "    name=\"zonas od - pedestre / população\",\n",
    "    show=True\n",
    ").add_to(m)"
   ]
  },
  {
   "cell_type": "markdown",
   "id": "428eeb5a",
   "metadata": {},
   "source": [
    "Camada Distrito"
   ]
  },
  {
   "cell_type": "code",
   "execution_count": null,
   "id": "72917c41",
   "metadata": {},
   "outputs": [],
   "source": [
    "# camada por distrito\n",
    "folium.Choropleth(\n",
    "    geo_data=districts_map.to_json(),\n",
    "    name=\"Distritos\",\n",
    "    data=districts_map,\n",
    "    columns=[\"NumeroDist\", \"PED_POP\"],\n",
    "    key_on=\"feature.properties.NumeroDist\",\n",
    "    fill_color=\"OrRd\",\n",
    "    fill_opacity=0.7,\n",
    "    line_opacity=0.3,\n",
    "    legend_name=\"Viagens de pedestres (%) - Distritos\",\n",
    "    show=False\n",
    ").add_to(m)\n",
    "\n",
    "# adiciona tooltip + popup para distritos\n",
    "folium.GeoJson(\n",
    "    districts_map,\n",
    "    style_function=lambda x: {\"fillOpacity\": 0, \"color\": \"transparent\"},\n",
    "    tooltip=folium.GeoJsonTooltip(\n",
    "        fields=[\"NomeDistri_x\", \"PED_POP\"],\n",
    "        aliases=[\"Distrito:\", \"Pedestre / População\"],\n",
    "        localize=True,\n",
    "        sticky=True\n",
    "    ),\n",
    "    popup=folium.GeoJsonPopup(\n",
    "        fields=[\"NomeDistri_x\", \"VIAGENS_PED\", \"TOTAL_POP\", \"PED_POP\"],\n",
    "        aliases=[\"Distrito:\", \"Viagens pedestres:\", \"Total população\", \"Pedestre / População\"],\n",
    "        localize=True\n",
    "    ),\n",
    "    name=\"distrito - pedestre / população\",\n",
    "    show=False\n",
    ").add_to(m)"
   ]
  },
  {
   "cell_type": "markdown",
   "id": "c4c89445",
   "metadata": {},
   "source": [
    "Salvar mapa"
   ]
  },
  {
   "cell_type": "code",
   "execution_count": null,
   "id": "540f5bb2",
   "metadata": {},
   "outputs": [],
   "source": [
    "# adicionar controles\n",
    "folium.LayerControl().add_to(m)\n",
    "\n",
    "m.save(\"../built_maps/choropleth_ped_trips_maps/ped_trips_by_pop.html\")"
   ]
  }
 ],
 "metadata": {
  "kernelspec": {
   "display_name": ".venv (3.12.3)",
   "language": "python",
   "name": "python3"
  },
  "language_info": {
   "codemirror_mode": {
    "name": "ipython",
    "version": 3
   },
   "file_extension": ".py",
   "mimetype": "text/x-python",
   "name": "python",
   "nbconvert_exporter": "python",
   "pygments_lexer": "ipython3",
   "version": "3.12.3"
  }
 },
 "nbformat": 4,
 "nbformat_minor": 5
}
