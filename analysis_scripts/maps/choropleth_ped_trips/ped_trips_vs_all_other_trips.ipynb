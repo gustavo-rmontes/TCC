{
 "cells": [
  {
   "cell_type": "markdown",
   "id": "f24fcb24",
   "metadata": {},
   "source": [
    "# Viagens de pedestres versus outros meios de transporte\n",
    "\n",
    "Caderno Jupyter referente à **Issue #5**: *Mapa coroplético de origens e destinos de pedestres com filtros e granularidades* \n",
    "\n",
    "**APENAS MUNICÍPIO DE SÃO PAULO**\n",
    "\n",
    "Comparação de viagens de pedestres vs viagens por outros meios de transporte por região (zona OD ou distrito)\n",
    "\n",
    "---"
   ]
  },
  {
   "cell_type": "code",
   "execution_count": 1,
   "id": "33bc329c",
   "metadata": {},
   "outputs": [],
   "source": [
    "import pandas as pd\n",
    "import geopandas\n",
    "import folium"
   ]
  },
  {
   "cell_type": "markdown",
   "id": "12a47286",
   "metadata": {},
   "source": [
    "### Carregando datasets e convertendo para CRS em comum "
   ]
  },
  {
   "cell_type": "markdown",
   "id": "ee2265c9",
   "metadata": {},
   "source": [
    "Carregando datasets"
   ]
  },
  {
   "cell_type": "code",
   "execution_count": 2,
   "id": "8dea3ced",
   "metadata": {},
   "outputs": [],
   "source": [
    "od23_path = \"../../../data/OD/ODS/od23_all.csv\" \n",
    "od = pd.read_csv(od23_path)\n",
    "\n",
    "od_districts_shapefile_path = \"../../../data/OD/OD-2023/002_Site Metro Mapas_190225/Shape/Distritos_2023_region.shp\" \n",
    "od_districts = geopandas.read_file(od_districts_shapefile_path)\n",
    "\n",
    "od_zones_shapefile_path = \"../../../data/OD/OD-2023/002_Site Metro Mapas_190225/Shape/Zonas_2023.shp\" \n",
    "od_zones = geopandas.read_file(od_zones_shapefile_path)"
   ]
  },
  {
   "cell_type": "markdown",
   "id": "6788f169",
   "metadata": {},
   "source": [
    "Filtrando zonas OD que pertencem ao município de SP"
   ]
  },
  {
   "cell_type": "code",
   "execution_count": 3,
   "id": "4bb6a1ff",
   "metadata": {},
   "outputs": [],
   "source": [
    "od_zones = od_zones.query('NumeroMuni == 36')"
   ]
  },
  {
   "cell_type": "markdown",
   "id": "41d8e249",
   "metadata": {},
   "source": [
    "Convertendo CRS"
   ]
  },
  {
   "cell_type": "code",
   "execution_count": 4,
   "id": "9d3354c9",
   "metadata": {},
   "outputs": [],
   "source": [
    "od_districts = od_districts.to_crs(\"EPSG:4326\")\n",
    "od_zones = od_zones.to_crs(\"EPSG:4326\")"
   ]
  },
  {
   "cell_type": "markdown",
   "id": "87ebf743",
   "metadata": {},
   "source": [
    "### Cálculo de total de viagens por zonas OD"
   ]
  },
  {
   "cell_type": "code",
   "execution_count": 5,
   "id": "adfbcad4",
   "metadata": {},
   "outputs": [],
   "source": [
    "fe_via_all_sum_zone = (\n",
    "    od.groupby(\"ZONA_O\")[\"FE_VIA\"].sum()\n",
    "    .reset_index()\n",
    "    .rename(columns={\"ZONA_O\": \"NumeroZona\", \"FE_VIA\": \"TOTAL_VIAGENS\"})\n",
    ")"
   ]
  },
  {
   "cell_type": "markdown",
   "id": "0fc4f2b8",
   "metadata": {},
   "source": [
    "Calcular viagens de pedestres vs outros meios de transportes\n",
    "\n",
    "- Por zona (ZONA_O)\n",
    "- Por distrito\n",
    "\n",
    "### Viagens por zona OD"
   ]
  },
  {
   "cell_type": "code",
   "execution_count": 6,
   "id": "89b9d6b8",
   "metadata": {},
   "outputs": [
    {
     "data": {
      "application/vnd.microsoft.datawrangler.viewer.v0+json": {
       "columns": [
        {
         "name": "index",
         "rawType": "int64",
         "type": "integer"
        },
        {
         "name": "NumeroZona",
         "rawType": "int64",
         "type": "integer"
        },
        {
         "name": "VIAGENS_PED",
         "rawType": "float64",
         "type": "float"
        },
        {
         "name": "TOTAL_VIAGENS",
         "rawType": "float64",
         "type": "float"
        },
        {
         "name": "PERC_PED",
         "rawType": "float64",
         "type": "float"
        },
        {
         "name": "PERC_OUTROS",
         "rawType": "float64",
         "type": "float"
        }
       ],
       "ref": "d8a41f76-dc3f-4efc-ab04-3d5bc519fc38",
       "rows": [
        [
         "375",
         "395",
         "411.944319419442",
         "411.944319419442",
         "100.0",
         "0.0"
        ],
        [
         "493",
         "520",
         "991.49012833918",
         "991.49012833918",
         "100.0",
         "0.0"
        ],
        [
         "172",
         "178",
         "7237.368242181382",
         "8743.21045395943",
         "82.77701057629106",
         "17.22298942370894"
        ],
        [
         "398",
         "420",
         "9937.083290874923",
         "16716.214318821912",
         "59.445775827880425",
         "40.554224172119575"
        ],
        [
         "301",
         "311",
         "18775.838797416935",
         "31951.87993476799",
         "58.76286101396578",
         "41.23713898603422"
        ]
       ],
       "shape": {
        "columns": 5,
        "rows": 5
       }
      },
      "text/html": [
       "<div>\n",
       "<style scoped>\n",
       "    .dataframe tbody tr th:only-of-type {\n",
       "        vertical-align: middle;\n",
       "    }\n",
       "\n",
       "    .dataframe tbody tr th {\n",
       "        vertical-align: top;\n",
       "    }\n",
       "\n",
       "    .dataframe thead th {\n",
       "        text-align: right;\n",
       "    }\n",
       "</style>\n",
       "<table border=\"1\" class=\"dataframe\">\n",
       "  <thead>\n",
       "    <tr style=\"text-align: right;\">\n",
       "      <th></th>\n",
       "      <th>NumeroZona</th>\n",
       "      <th>VIAGENS_PED</th>\n",
       "      <th>TOTAL_VIAGENS</th>\n",
       "      <th>PERC_PED</th>\n",
       "      <th>PERC_OUTROS</th>\n",
       "    </tr>\n",
       "  </thead>\n",
       "  <tbody>\n",
       "    <tr>\n",
       "      <th>375</th>\n",
       "      <td>395</td>\n",
       "      <td>411.944319</td>\n",
       "      <td>411.944319</td>\n",
       "      <td>100.000000</td>\n",
       "      <td>0.000000</td>\n",
       "    </tr>\n",
       "    <tr>\n",
       "      <th>493</th>\n",
       "      <td>520</td>\n",
       "      <td>991.490128</td>\n",
       "      <td>991.490128</td>\n",
       "      <td>100.000000</td>\n",
       "      <td>0.000000</td>\n",
       "    </tr>\n",
       "    <tr>\n",
       "      <th>172</th>\n",
       "      <td>178</td>\n",
       "      <td>7237.368242</td>\n",
       "      <td>8743.210454</td>\n",
       "      <td>82.777011</td>\n",
       "      <td>17.222989</td>\n",
       "    </tr>\n",
       "    <tr>\n",
       "      <th>398</th>\n",
       "      <td>420</td>\n",
       "      <td>9937.083291</td>\n",
       "      <td>16716.214319</td>\n",
       "      <td>59.445776</td>\n",
       "      <td>40.554224</td>\n",
       "    </tr>\n",
       "    <tr>\n",
       "      <th>301</th>\n",
       "      <td>311</td>\n",
       "      <td>18775.838797</td>\n",
       "      <td>31951.879935</td>\n",
       "      <td>58.762861</td>\n",
       "      <td>41.237139</td>\n",
       "    </tr>\n",
       "  </tbody>\n",
       "</table>\n",
       "</div>"
      ],
      "text/plain": [
       "     NumeroZona   VIAGENS_PED  TOTAL_VIAGENS    PERC_PED  PERC_OUTROS\n",
       "375         395    411.944319     411.944319  100.000000     0.000000\n",
       "493         520    991.490128     991.490128  100.000000     0.000000\n",
       "172         178   7237.368242    8743.210454   82.777011    17.222989\n",
       "398         420   9937.083291   16716.214319   59.445776    40.554224\n",
       "301         311  18775.838797   31951.879935   58.762861    41.237139"
      ]
     },
     "execution_count": 6,
     "metadata": {},
     "output_type": "execute_result"
    }
   ],
   "source": [
    "# 1) Filtrando apenas pedestres \n",
    "pedestrians_walk = od.query('MODOPRIN == 17')\n",
    "\n",
    "# 2) Total de viagens para pedestres\n",
    "zone_walk = (\n",
    "    pedestrians_walk.groupby(\"ZONA_O\")[\"FE_VIA\"].sum()\n",
    "    .reset_index()\n",
    "    .rename(columns={\"ZONA_O\": \"NumeroZona\", \"FE_VIA\": \"VIAGENS_PED\"})\n",
    ")\n",
    "\n",
    "# 3) Merge do total de viagens / total de viagens de pedestres por zonas OD\n",
    "zone_share = zone_walk.merge(\n",
    "    fe_via_all_sum_zone,\n",
    "    on=\"NumeroZona\",\n",
    "    how=\"inner\"\n",
    ")\n",
    "\n",
    "# 4) Cálculo da representatividade de pedestres\n",
    "zone_share[\"PERC_PED\"] = 100 * zone_share[\"VIAGENS_PED\"] / zone_share[\"TOTAL_VIAGENS\"]\n",
    "\n",
    "# 5) Cálculo da representatividade dos outros meios de transporte\n",
    "zone_share[\"PERC_OUTROS\"] = 100 - zone_share[\"PERC_PED\"] \n",
    "\n",
    "# 6) Ordena decrescentemente por percentual de viagens de pedestres\n",
    "zone_share = zone_share.sort_values(\"PERC_PED\", ascending=False)\n",
    "zone_share.head()"
   ]
  },
  {
   "cell_type": "markdown",
   "id": "09b33588",
   "metadata": {},
   "source": [
    "### Viagens por distrito"
   ]
  },
  {
   "cell_type": "code",
   "execution_count": 7,
   "id": "0ea1f82a",
   "metadata": {},
   "outputs": [
    {
     "data": {
      "application/vnd.microsoft.datawrangler.viewer.v0+json": {
       "columns": [
        {
         "name": "index",
         "rawType": "int64",
         "type": "integer"
        },
        {
         "name": "NumDistrit",
         "rawType": "int32",
         "type": "integer"
        },
        {
         "name": "NomeDistri",
         "rawType": "object",
         "type": "string"
        },
        {
         "name": "VIAGENS_PED",
         "rawType": "float64",
         "type": "float"
        },
        {
         "name": "TOTAL_VIAGENS",
         "rawType": "float64",
         "type": "float"
        },
        {
         "name": "PERC_PED",
         "rawType": "float64",
         "type": "float"
        }
       ],
       "ref": "ea8948e6-1b31-4a41-a57e-b63ef1e4dd13",
       "rows": [
        [
         "24",
         "25",
         "Cidade Tiradentes",
         "146260.50271090207",
         "307141.1096200258",
         "47.619969496055305"
        ],
        [
         "76",
         "77",
         "São Rafael",
         "79496.34088048883",
         "167575.47252960718",
         "47.439126788941884"
        ],
        [
         "34",
         "35",
         "Itaim Paulista",
         "163336.58569805446",
         "355408.9384869369",
         "45.957365730141284"
        ],
        [
         "46",
         "47",
         "Lajeado",
         "100509.29384254341",
         "221404.95755505897",
         "45.39613518705821"
        ],
        [
         "85",
         "86",
         "Vila Curuçá",
         "103446.01613408941",
         "233937.2432180515",
         "44.219558506837664"
        ]
       ],
       "shape": {
        "columns": 5,
        "rows": 5
       }
      },
      "text/html": [
       "<div>\n",
       "<style scoped>\n",
       "    .dataframe tbody tr th:only-of-type {\n",
       "        vertical-align: middle;\n",
       "    }\n",
       "\n",
       "    .dataframe tbody tr th {\n",
       "        vertical-align: top;\n",
       "    }\n",
       "\n",
       "    .dataframe thead th {\n",
       "        text-align: right;\n",
       "    }\n",
       "</style>\n",
       "<table border=\"1\" class=\"dataframe\">\n",
       "  <thead>\n",
       "    <tr style=\"text-align: right;\">\n",
       "      <th></th>\n",
       "      <th>NumDistrit</th>\n",
       "      <th>NomeDistri</th>\n",
       "      <th>VIAGENS_PED</th>\n",
       "      <th>TOTAL_VIAGENS</th>\n",
       "      <th>PERC_PED</th>\n",
       "    </tr>\n",
       "  </thead>\n",
       "  <tbody>\n",
       "    <tr>\n",
       "      <th>24</th>\n",
       "      <td>25</td>\n",
       "      <td>Cidade Tiradentes</td>\n",
       "      <td>146260.502711</td>\n",
       "      <td>307141.109620</td>\n",
       "      <td>47.619969</td>\n",
       "    </tr>\n",
       "    <tr>\n",
       "      <th>76</th>\n",
       "      <td>77</td>\n",
       "      <td>São Rafael</td>\n",
       "      <td>79496.340880</td>\n",
       "      <td>167575.472530</td>\n",
       "      <td>47.439127</td>\n",
       "    </tr>\n",
       "    <tr>\n",
       "      <th>34</th>\n",
       "      <td>35</td>\n",
       "      <td>Itaim Paulista</td>\n",
       "      <td>163336.585698</td>\n",
       "      <td>355408.938487</td>\n",
       "      <td>45.957366</td>\n",
       "    </tr>\n",
       "    <tr>\n",
       "      <th>46</th>\n",
       "      <td>47</td>\n",
       "      <td>Lajeado</td>\n",
       "      <td>100509.293843</td>\n",
       "      <td>221404.957555</td>\n",
       "      <td>45.396135</td>\n",
       "    </tr>\n",
       "    <tr>\n",
       "      <th>85</th>\n",
       "      <td>86</td>\n",
       "      <td>Vila Curuçá</td>\n",
       "      <td>103446.016134</td>\n",
       "      <td>233937.243218</td>\n",
       "      <td>44.219559</td>\n",
       "    </tr>\n",
       "  </tbody>\n",
       "</table>\n",
       "</div>"
      ],
      "text/plain": [
       "    NumDistrit         NomeDistri    VIAGENS_PED  TOTAL_VIAGENS   PERC_PED\n",
       "24          25  Cidade Tiradentes  146260.502711  307141.109620  47.619969\n",
       "76          77         São Rafael   79496.340880  167575.472530  47.439127\n",
       "34          35     Itaim Paulista  163336.585698  355408.938487  45.957366\n",
       "46          47            Lajeado  100509.293843  221404.957555  45.396135\n",
       "85          86        Vila Curuçá  103446.016134  233937.243218  44.219559"
      ]
     },
     "execution_count": 7,
     "metadata": {},
     "output_type": "execute_result"
    }
   ],
   "source": [
    "# 1) Junta zonas com distritos para agregação futura de distritos\n",
    "zone_district = od_zones[[\"NumeroZona\", \"NumDistrit\", \"NomeDistri\"]].merge(\n",
    "    zone_share, on=\"NumeroZona\", how=\"left\"\n",
    ").fillna({\"VIAGENS_PED\": 0, \"PERC_PED\": 0, \"PERC_OUTROS\": 0, \"TOTAL_VIAGENS\": 0})\n",
    "\n",
    "# 2) Agregação de viagens de pedestres por distrito\n",
    "district_walk = (\n",
    "    zone_district.groupby([\"NumDistrit\", \"NomeDistri\"])[\"VIAGENS_PED\"].sum()\n",
    "    .reset_index()\n",
    ")\n",
    "\n",
    "# 3) Total de viagens de todos os meios por distrito\n",
    "fe_via_all_sum_district = (\n",
    "    zone_district.groupby(\"NumDistrit\")[\"TOTAL_VIAGENS\"].sum()\n",
    "    .reset_index()\n",
    ")\n",
    "\n",
    "# 4) Merge do total de viagens / total de viagens de pedestres por distritos\n",
    "district_share = district_walk.merge(\n",
    "    fe_via_all_sum_district,\n",
    "    on=\"NumDistrit\",\n",
    "    how=\"inner\"\n",
    ")\n",
    "\n",
    "# 5) Cálculo da representatividade de pedestres\n",
    "district_share[\"PERC_PED\"] = 100 * district_share[\"VIAGENS_PED\"] / district_share[\"TOTAL_VIAGENS\"]\n",
    "\n",
    "# 6) ordena decrescentente de acordo com o percentual\n",
    "district_share = district_share.sort_values(\"PERC_PED\", ascending=False)\n",
    "district_share.head()"
   ]
  },
  {
   "cell_type": "markdown",
   "id": "1804fab5",
   "metadata": {},
   "source": [
    "## Merge com geometrias"
   ]
  },
  {
   "cell_type": "markdown",
   "id": "f14547f0",
   "metadata": {},
   "source": [
    "Juntar com geometrias"
   ]
  },
  {
   "cell_type": "code",
   "execution_count": 8,
   "id": "147f2530",
   "metadata": {},
   "outputs": [],
   "source": [
    "# zonas\n",
    "zones_map = od_zones.merge(zone_share, on=\"NumeroZona\", how=\"left\").fillna(0)\n",
    "\n",
    "# distritos\n",
    "districts_map = od_districts.merge(district_share, left_on=\"NumeroDist\", right_on=\"NumDistrit\", how=\"left\").fillna(0)"
   ]
  },
  {
   "cell_type": "markdown",
   "id": "4811ee67",
   "metadata": {},
   "source": [
    "Filtrando distritos que pertençam São Paulo"
   ]
  },
  {
   "cell_type": "code",
   "execution_count": 9,
   "id": "0b4c5e26",
   "metadata": {},
   "outputs": [],
   "source": [
    "districts_map = districts_map.query('PERC_PED > 0')"
   ]
  },
  {
   "cell_type": "markdown",
   "id": "fe7e0bc3",
   "metadata": {},
   "source": [
    "## Mapa"
   ]
  },
  {
   "cell_type": "markdown",
   "id": "16bcbb8b",
   "metadata": {},
   "source": [
    "Criar mapa Folium com LayerControl"
   ]
  },
  {
   "cell_type": "code",
   "execution_count": 10,
   "id": "10658f79",
   "metadata": {},
   "outputs": [],
   "source": [
    "# centro aproximado (SP)\n",
    "m = folium.Map(location=[-23.55, -46.63], zoom_start=10, tiles=\"cartodb positron\")"
   ]
  },
  {
   "cell_type": "markdown",
   "id": "22c26b05",
   "metadata": {},
   "source": [
    "Camada Zona OD"
   ]
  },
  {
   "cell_type": "code",
   "execution_count": 11,
   "id": "8cbdac93",
   "metadata": {},
   "outputs": [
    {
     "data": {
      "text/plain": [
       "<folium.features.GeoJson at 0x7a3ed2e0a870>"
      ]
     },
     "execution_count": 11,
     "metadata": {},
     "output_type": "execute_result"
    }
   ],
   "source": [
    "# camada por zona\n",
    "folium.Choropleth(\n",
    "    geo_data=zones_map.to_json(),\n",
    "    name=\"Zonas OD\",\n",
    "    data=zones_map,\n",
    "    columns=[\"NumeroZona\", \"PERC_PED\"],\n",
    "    key_on=\"feature.properties.NumeroZona\",\n",
    "    fill_color=\"YlGnBu\",\n",
    "    fill_opacity=0.7,\n",
    "    line_opacity=0.3,\n",
    "    legend_name=\"Viagens de pedestres (%) - Zona OD\"\n",
    ").add_to(m)\n",
    "\n",
    "# adiciona tooltip + popup para zonas\n",
    "folium.GeoJson(\n",
    "    zones_map,\n",
    "    style_function=lambda x: {\"fillOpacity\": 0, \"color\": \"transparent\"}, \n",
    "    tooltip=folium.GeoJsonTooltip(\n",
    "        fields=[\"NomeZona\", \"PERC_PED\"],\n",
    "        aliases=[\"Zona OD:\", \"Representatividade (%)\"],\n",
    "        localize=True,\n",
    "        sticky=True\n",
    "    ),\n",
    "    popup=folium.GeoJsonPopup(\n",
    "        fields=[\"NomeZona\", \"VIAGENS_PED\", \"PERC_PED\"],\n",
    "        aliases=[\"Zona OD:\", \"Viagens:\", \"Representatividade (%)\"],\n",
    "        localize=True\n",
    "    ),\n",
    "    name=\"zonas od - representatividade\",\n",
    "    show=True\n",
    ").add_to(m)"
   ]
  },
  {
   "cell_type": "markdown",
   "id": "428eeb5a",
   "metadata": {},
   "source": [
    "Camada Distrito"
   ]
  },
  {
   "cell_type": "code",
   "execution_count": 12,
   "id": "72917c41",
   "metadata": {},
   "outputs": [
    {
     "data": {
      "text/plain": [
       "<folium.features.GeoJson at 0x7a3ecd303b60>"
      ]
     },
     "execution_count": 12,
     "metadata": {},
     "output_type": "execute_result"
    }
   ],
   "source": [
    "# camada por distrito\n",
    "folium.Choropleth(\n",
    "    geo_data=districts_map.to_json(),\n",
    "    name=\"Distritos\",\n",
    "    data=districts_map,\n",
    "    columns=[\"NumeroDist\", \"PERC_PED\"],\n",
    "    key_on=\"feature.properties.NumeroDist\",\n",
    "    fill_color=\"OrRd\",\n",
    "    fill_opacity=0.7,\n",
    "    line_opacity=0.3,\n",
    "    legend_name=\"Viagens de pedestres (%) - Distritos\",\n",
    "    show=False\n",
    ").add_to(m)\n",
    "\n",
    "# adiciona tooltip + popup para distritos\n",
    "folium.GeoJson(\n",
    "    districts_map,\n",
    "    style_function=lambda x: {\"fillOpacity\": 0, \"color\": \"transparent\"},\n",
    "    tooltip=folium.GeoJsonTooltip(\n",
    "        fields=[\"NomeDistri_x\", \"PERC_PED\"],\n",
    "        aliases=[\"Distrito:\", \"Representatividade (%)\"],\n",
    "        localize=True,\n",
    "        sticky=True\n",
    "    ),\n",
    "    popup=folium.GeoJsonPopup(\n",
    "        fields=[\"NomeDistri_x\", \"VIAGENS_PED\", \"PERC_PED\"],\n",
    "        aliases=[\"Distrito:\", \"Viagens pedestres:\", \"Representatividade (%)\"],\n",
    "        localize=True\n",
    "    ),\n",
    "    name=\"distrito - representatividade\",\n",
    "    show=False\n",
    ").add_to(m)"
   ]
  },
  {
   "cell_type": "markdown",
   "id": "c4c89445",
   "metadata": {},
   "source": [
    "Salvar mapa"
   ]
  },
  {
   "cell_type": "code",
   "execution_count": 13,
   "id": "540f5bb2",
   "metadata": {},
   "outputs": [],
   "source": [
    "# adicionar controles\n",
    "folium.LayerControl().add_to(m)\n",
    "\n",
    "m.save(\"../built_maps/choropleth_ped_trips_maps/ped_vs_others_trips.html\")"
   ]
  }
 ],
 "metadata": {
  "kernelspec": {
   "display_name": ".venv (3.12.3)",
   "language": "python",
   "name": "python3"
  },
  "language_info": {
   "codemirror_mode": {
    "name": "ipython",
    "version": 3
   },
   "file_extension": ".py",
   "mimetype": "text/x-python",
   "name": "python",
   "nbconvert_exporter": "python",
   "pygments_lexer": "ipython3",
   "version": "3.12.3"
  }
 },
 "nbformat": 4,
 "nbformat_minor": 5
}
