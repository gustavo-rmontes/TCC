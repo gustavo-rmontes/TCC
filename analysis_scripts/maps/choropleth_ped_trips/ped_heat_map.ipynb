{
 "cells": [
  {
   "cell_type": "markdown",
   "id": "a3f0fcfd",
   "metadata": {},
   "source": [
    "# Mapa de calor das viagens de pedestres no município de São Paulo\n",
    "\n",
    "---"
   ]
  },
  {
   "cell_type": "code",
   "execution_count": null,
   "id": "0f7370b2",
   "metadata": {},
   "outputs": [],
   "source": [
    "import pandas as pd\n",
    "import geopandas\n",
    "import folium\n",
    "from folium.plugins import HeatMap\n",
    "from shapely.geometry import Point"
   ]
  },
  {
   "cell_type": "markdown",
   "id": "cd6ce55b",
   "metadata": {},
   "source": [
    "Carregando os datasets"
   ]
  },
  {
   "cell_type": "code",
   "execution_count": null,
   "id": "81e191c0",
   "metadata": {},
   "outputs": [],
   "source": [
    "od23_path = \"../../data/OD/ODS/od23_all.csv\" \n",
    "od = pd.read_csv(od23_path)\n",
    "\n",
    "od_districts_shapefile_path = \"../../data/OD/OD-2023/002_Site Metro Mapas_190225/Shape/Distritos_2023_region.shp\" \n",
    "od_districts = geopandas.read_file(od_districts_shapefile_path)\n",
    "\n",
    "od_zones_shapefile_path = \"../../data/OD/OD-2023/002_Site Metro Mapas_190225/Shape/Zonas_2023.shp\" \n",
    "od_zones = geopandas.read_file(od_zones_shapefile_path)"
   ]
  },
  {
   "cell_type": "markdown",
   "id": "850c4768",
   "metadata": {},
   "source": [
    "Filtrando zonas OD que pertencem ao município de SP"
   ]
  },
  {
   "cell_type": "code",
   "execution_count": null,
   "id": "f6702e31",
   "metadata": {},
   "outputs": [],
   "source": [
    "od_zones = od_zones.query('NumeroMuni == 36')"
   ]
  },
  {
   "cell_type": "markdown",
   "id": "60a1ff02",
   "metadata": {},
   "source": [
    "Convertendo CRS"
   ]
  },
  {
   "cell_type": "code",
   "execution_count": null,
   "id": "730bab64",
   "metadata": {},
   "outputs": [],
   "source": [
    "od_districts = od_districts.to_crs(\"EPSG:4326\")\n",
    "od_zones = od_zones.to_crs(\"EPSG:4326\")"
   ]
  },
  {
   "cell_type": "code",
   "execution_count": null,
   "id": "c526025e",
   "metadata": {},
   "outputs": [],
   "source": [
    "od_districts.head()"
   ]
  },
  {
   "cell_type": "markdown",
   "id": "3d8b4c25",
   "metadata": {},
   "source": [
    "Filtrando viagens que originaram-se no município de São Paulo e pedestres"
   ]
  },
  {
   "cell_type": "code",
   "execution_count": null,
   "id": "9b515044",
   "metadata": {},
   "outputs": [],
   "source": [
    "pedestrians_sp = od.query(\"MUNI_O == 36 and MODOPRIN == 17\") # apenas SP e pedestres"
   ]
  },
  {
   "cell_type": "markdown",
   "id": "5f7531dc",
   "metadata": {},
   "source": [
    "Filtrando registros com coordenadas não válidas"
   ]
  },
  {
   "cell_type": "code",
   "execution_count": null,
   "id": "8571a9a2",
   "metadata": {},
   "outputs": [],
   "source": [
    "pedestrians_coords = (\n",
    "    pedestrians_sp[[\"CO_O_X\", \"CO_O_Y\", \"FE_VIA\"]]\n",
    "    .dropna()\n",
    "    .query(\"CO_O_X != 0 and CO_O_Y != 0\")  # remover coords nulas\n",
    ")"
   ]
  },
  {
   "cell_type": "markdown",
   "id": "056b9253",
   "metadata": {},
   "source": [
    "Cálculo da representatividade do ponto em relação ao total de viagens a pé "
   ]
  },
  {
   "cell_type": "code",
   "execution_count": null,
   "id": "5921292d",
   "metadata": {},
   "outputs": [],
   "source": [
    "total_viagens = pedestrians_coords[\"FE_VIA\"].sum()\n",
    "pedestrians_coords[\"weight\"] = pedestrians_coords[\"FE_VIA\"] / total_viagens"
   ]
  },
  {
   "cell_type": "markdown",
   "id": "1f7ed782",
   "metadata": {},
   "source": [
    "## Mapa de calor"
   ]
  },
  {
   "cell_type": "code",
   "execution_count": null,
   "id": "31c042d6",
   "metadata": {},
   "outputs": [],
   "source": [
    "# Criando mapa base centralizado em São Paulo\n",
    "sp_center = [-23.55, -46.63]\n",
    "m = folium.Map(location=sp_center, zoom_start=11, tiles=\"CartoDB positron\")"
   ]
  },
  {
   "cell_type": "markdown",
   "id": "836cf470",
   "metadata": {},
   "source": [
    "Cria mapa de calor com origens dos pedestres de SP"
   ]
  },
  {
   "cell_type": "code",
   "execution_count": null,
   "id": "29d6337c",
   "metadata": {},
   "outputs": [],
   "source": [
    "# Adicionando camada de calor ponderada por FE_VIA\n",
    "heat_data = pedestrians_coords[[\"CO_O_X\", \"CO_O_Y\", \"weight\"]].copy()\n",
    "\n",
    "heat_map = HeatMap(heat_data.values.tolist(), radius=8, blur=15, max_zoom=1).add_to(m)\n",
    "\n",
    "heat_data.head()"
   ]
  },
  {
   "cell_type": "markdown",
   "id": "6ab07a12",
   "metadata": {},
   "source": [
    "Adiciona polígonos das zonas OD como camada interativa"
   ]
  },
  {
   "cell_type": "code",
   "execution_count": null,
   "id": "e2b83800",
   "metadata": {},
   "outputs": [],
   "source": [
    "folium.GeoJson(\n",
    "    od_zones,\n",
    "    name=\"Zonas OD\",\n",
    "    style_function=lambda feature: {\n",
    "        \"fillColor\": \"transparent\",\n",
    "        \"color\": \"green\",\n",
    "        \"weight\": 1,\n",
    "        \"fillOpacity\": 0.1,\n",
    "    },\n",
    "    tooltip=folium.GeoJsonTooltip(\n",
    "        fields=[\"NumeroZona\", \"NomeZona\"],\n",
    "        aliases=[\"Zona:\", \"Nome:\"],\n",
    "        sticky=False\n",
    "    )\n",
    ").add_to(m)"
   ]
  },
  {
   "cell_type": "markdown",
   "id": "4b5f88b8",
   "metadata": {},
   "source": [
    "Intersects entre pontos e distritos para remover distritos que não pertencem ao município de São Paulo"
   ]
  },
  {
   "cell_type": "code",
   "execution_count": null,
   "id": "191f433f",
   "metadata": {},
   "outputs": [],
   "source": [
    "# GeoDataFrame de pontos a partir das coordenadas de pedestres\n",
    "gdf_points = geopandas.GeoDataFrame(\n",
    "    pedestrians_coords,\n",
    "    geometry=geopandas.points_from_xy(pedestrians_coords[\"CO_O_Y\"], pedestrians_coords[\"CO_O_X\"]),\n",
    "    crs=\"EPSG:4326\"\n",
    ")\n",
    "\n",
    "# spatial join: pontos x distritos\n",
    "points_in_districts = geopandas.sjoin(gdf_points, od_districts, how=\"inner\", predicate=\"intersects\")\n",
    "\n",
    "# apenas os distritos que tiveram interseção\n",
    "od_districts_sp = od_districts.loc[\n",
    "    od_districts.index.isin(points_in_districts[\"index_right\"].unique())\n",
    "].copy()\n",
    "\n",
    "print(f\"Número de distritos antes: {len(od_districts)}\")\n",
    "print(f\"Número de distritos em SP (com viagens a pé): {len(od_districts_sp)}\")\n"
   ]
  },
  {
   "cell_type": "markdown",
   "id": "1dd18d60",
   "metadata": {},
   "source": [
    "Remover municípios que restaram: 'Diadema', 'Guarulhos', 'Osasco', 'São Caetano do Sul'"
   ]
  },
  {
   "cell_type": "code",
   "execution_count": null,
   "id": "7de87443",
   "metadata": {},
   "outputs": [],
   "source": [
    "od_districts_sp = od_districts_sp.query(\n",
    "    \"NomeDistri not in ['Diadema', 'Guarulhos', 'Osasco', 'São Caetano do Sul']\"\n",
    ")"
   ]
  },
  {
   "cell_type": "markdown",
   "id": "17e5b45f",
   "metadata": {},
   "source": [
    "Adiciona polígonos dos distritos como camada interativa"
   ]
  },
  {
   "cell_type": "code",
   "execution_count": null,
   "id": "06440620",
   "metadata": {},
   "outputs": [],
   "source": [
    "folium.GeoJson(\n",
    "    od_districts_sp,\n",
    "    name=\"Distritos\",\n",
    "    style_function=lambda feature: {\n",
    "        \"fillColor\": \"transparent\",\n",
    "        \"color\": \"red\",\n",
    "        \"weight\": 1,\n",
    "        \"fillOpacity\": 0.05,\n",
    "    },\n",
    "    tooltip=folium.GeoJsonTooltip(\n",
    "        fields=[\"NumeroDist\", \"NomeDistri\"],\n",
    "        aliases=[\"Distrito:\", \"Nome:\"],\n",
    "        sticky=False\n",
    "    ),\n",
    "    show=False\n",
    ").add_to(m)"
   ]
  },
  {
   "cell_type": "markdown",
   "id": "6fedde55",
   "metadata": {},
   "source": [
    "Salva o mapa"
   ]
  },
  {
   "cell_type": "code",
   "execution_count": null,
   "id": "96750daa",
   "metadata": {},
   "outputs": [],
   "source": [
    "# Controle de camadas\n",
    "folium.LayerControl().add_to(m)\n",
    "\n",
    "m.save(\"../built_maps/choropleth_ped_trips_maps/ped_heat_map.html\")"
   ]
  }
 ],
 "metadata": {
  "kernelspec": {
   "display_name": ".venv (3.12.3)",
   "language": "python",
   "name": "python3"
  },
  "language_info": {
   "codemirror_mode": {
    "name": "ipython",
    "version": 3
   },
   "file_extension": ".py",
   "mimetype": "text/x-python",
   "name": "python",
   "nbconvert_exporter": "python",
   "pygments_lexer": "ipython3",
   "version": "3.12.3"
  }
 },
 "nbformat": 4,
 "nbformat_minor": 5
}
