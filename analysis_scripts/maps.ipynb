{
 "cells": [
  {
   "cell_type": "markdown",
   "id": "11467ced",
   "metadata": {},
   "source": [
    "# Mapas"
   ]
  },
  {
   "cell_type": "code",
   "execution_count": null,
   "id": "94da4f45",
   "metadata": {},
   "outputs": [],
   "source": [
    "import pandas as pd\n",
    "import geopandas\n",
    "from shapely.geometry import Point, LineString\n",
    "import matplotlib.pyplot as plt"
   ]
  },
  {
   "cell_type": "markdown",
   "id": "1730608d",
   "metadata": {},
   "source": [
    "Leitura de datasets (od e distritos)"
   ]
  },
  {
   "cell_type": "code",
   "execution_count": null,
   "id": "16467db8",
   "metadata": {},
   "outputs": [],
   "source": [
    "od23_path = \"../data/OD/ODS/od23_all.csv\" \n",
    "od = pd.read_csv(od23_path)"
   ]
  },
  {
   "cell_type": "code",
   "execution_count": null,
   "id": "86ed7d4b",
   "metadata": {},
   "outputs": [],
   "source": [
    "od_districts_shapefile_path = \"../data/OD/OD-2023/002_Site Metro Mapas_190225/Shape/Distritos_2023_region.shp\" \n",
    "districts = geopandas.read_file(od_districts_shapefile_path)"
   ]
  },
  {
   "cell_type": "code",
   "execution_count": null,
   "id": "683ab51c",
   "metadata": {},
   "outputs": [],
   "source": [
    "print(districts.columns, districts.crs)"
   ]
  },
  {
   "cell_type": "code",
   "execution_count": null,
   "id": "bff59913",
   "metadata": {},
   "outputs": [],
   "source": [
    "# districts.explore(\"Area_ha\", legend=True)"
   ]
  },
  {
   "cell_type": "markdown",
   "id": "9bc8ad43",
   "metadata": {},
   "source": [
    "Filtro de pedestres"
   ]
  },
  {
   "cell_type": "code",
   "execution_count": null,
   "id": "9677fcdc",
   "metadata": {},
   "outputs": [],
   "source": [
    "pedestrians = od.query('MODOPRIN == 17')\n",
    "pedestrians.head()"
   ]
  },
  {
   "cell_type": "markdown",
   "id": "120bf72b",
   "metadata": {},
   "source": [
    "GeoDataFrame com pontos(coordenadas) de origens de pedestres"
   ]
  },
  {
   "cell_type": "code",
   "execution_count": null,
   "id": "aa71aede",
   "metadata": {},
   "outputs": [],
   "source": [
    "pedestrians_origin_gdf = geopandas.GeoDataFrame(\n",
    "    pedestrians,\n",
    "    geometry=geopandas.points_from_xy(pedestrians[\"CO_O_Y\"], pedestrians[\"CO_O_X\"]),\n",
    "    crs=\"EPSG:4326\"\n",
    ")"
   ]
  },
  {
   "cell_type": "markdown",
   "id": "84f49489",
   "metadata": {},
   "source": [
    "Conversão de CRS dos dataframes para um CRS comum"
   ]
  },
  {
   "cell_type": "code",
   "execution_count": null,
   "id": "f667ca1b",
   "metadata": {},
   "outputs": [],
   "source": [
    "districts = districts.to_crs(epsg=31983)\n",
    "pedestrians_origin_gdf = pedestrians_origin_gdf.to_crs(epsg=31983)\n",
    "# districts"
   ]
  },
  {
   "cell_type": "markdown",
   "id": "34d90c31",
   "metadata": {},
   "source": [
    "Join entre distristos e origens de pedestres"
   ]
  },
  {
   "cell_type": "code",
   "execution_count": null,
   "id": "24dabf4d",
   "metadata": {},
   "outputs": [],
   "source": [
    "origin_join = geopandas.sjoin(pedestrians_origin_gdf, districts, \"inner\")\n",
    "origin_join"
   ]
  },
  {
   "cell_type": "markdown",
   "id": "03c8ec7d",
   "metadata": {},
   "source": [
    "Mapa com pontos de origens de pedestres"
   ]
  },
  {
   "cell_type": "code",
   "execution_count": null,
   "id": "1f5767d7",
   "metadata": {},
   "outputs": [],
   "source": [
    "origin_join.plot()"
   ]
  },
  {
   "cell_type": "markdown",
   "id": "0d641258",
   "metadata": {},
   "source": [
    "Mapa interativo com pontos de origem com overlay dos distritos"
   ]
  },
  {
   "cell_type": "code",
   "execution_count": null,
   "id": "bb6f844f",
   "metadata": {},
   "outputs": [],
   "source": [
    "m = districts.explore(edgecolor=\"black\", color=None, tooltip=\"NomeDistri\") \n",
    "# origin_join.explore(m=m)"
   ]
  },
  {
   "cell_type": "markdown",
   "id": "96b6761c",
   "metadata": {},
   "source": [
    "Mapa com pontos de origem e distritos"
   ]
  },
  {
   "cell_type": "code",
   "execution_count": null,
   "id": "65731ef1",
   "metadata": {},
   "outputs": [],
   "source": [
    "ax = districts.plot(edgecolor='black', figsize=(10,10))\n",
    "pedestrians_origin_gdf.plot(ax=ax, color='red', markersize=5)\n",
    "# plt.show()"
   ]
  },
  {
   "cell_type": "markdown",
   "id": "75b9b138",
   "metadata": {},
   "source": [
    "GeoDataFrame com LineStrings entre origens e destinos de pedestres\n",
    "\n",
    "Colunas/campos importantes:\n",
    "- pedestrians[\"CO_O_Y\"], pedestrians[\"CO_O_X\"] - coordenadas (lat, lon) de origem\n",
    "- pedestrians[\"CO_D_Y\"], pedestrians[\"CO_D_X\"] - coordenadas (lat, lon) de destino"
   ]
  },
  {
   "cell_type": "code",
   "execution_count": null,
   "id": "966e7189",
   "metadata": {},
   "outputs": [],
   "source": [
    "pedestrians_lines_gdf = geopandas.GeoDataFrame(\n",
    "    pedestrians,\n",
    "    geometry=[\n",
    "        LineString([\n",
    "            (row[\"CO_O_X\"], row[\"CO_O_Y\"]),\n",
    "            (row[\"CO_D_X\"], row[\"CO_D_Y\"])\n",
    "        ])\n",
    "        for _, row in pedestrians.iterrows()\n",
    "    ],\n",
    "    crs=\"EPSG:4326\"\n",
    ")\n",
    "pedestrians_lines_gdf.head()"
   ]
  },
  {
   "cell_type": "code",
   "execution_count": null,
   "id": "97de0cab",
   "metadata": {},
   "outputs": [],
   "source": [
    "districts_4326 = districts.to_crs(\"EPSG:4326\")\n",
    "fig, ax = plt.subplots(figsize=(10, 10))\n",
    "districts_4326.plot(ax=ax, edgecolor=\"black\", color=\"none\")\n",
    "pedestrians_lines_gdf.plot(ax=ax, color=\"red\", linewidth=0.2)\n",
    "plt.show()"
   ]
  },
  {
   "cell_type": "code",
   "execution_count": null,
   "id": "f1b8e65a",
   "metadata": {},
   "outputs": [],
   "source": [
    "m = districts.to_crs(\"EPSG:4326\").explore(edgecolor=\"black\", color=None, tooltip=\"NomeDistri\")\n",
    "pedestrians_lines_gdf.explore(m=m)"
   ]
  }
 ],
 "metadata": {
  "kernelspec": {
   "display_name": ".venv (3.12.3)",
   "language": "python",
   "name": "python3"
  },
  "language_info": {
   "codemirror_mode": {
    "name": "ipython",
    "version": 3
   },
   "file_extension": ".py",
   "mimetype": "text/x-python",
   "name": "python",
   "nbconvert_exporter": "python",
   "pygments_lexer": "ipython3",
   "version": "3.12.3"
  }
 },
 "nbformat": 4,
 "nbformat_minor": 5
}
