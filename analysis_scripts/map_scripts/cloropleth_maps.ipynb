{
 "cells": [
  {
   "cell_type": "markdown",
   "id": "dd011e2e",
   "metadata": {},
   "source": [
    "# Mapas cloropléticos\n",
    "\n",
    "Caderno Jupyter referente à **Issue #5**: *Mapa coroplético de origens e destinos de pedestres com filtros e granularidades* \n",
    "\n",
    "Mapa(s) coroplético(s) que represente(m) o volume de viagens de pedestres, com as seguintes funcionalidades:\n",
    "- Filtros censitários: raça, sexo, faixa etária\n",
    "- Granularidades de regiões: zonas OD, distritos e municipios\n"
   ]
  },
  {
   "cell_type": "markdown",
   "id": "d6868f1c",
   "metadata": {},
   "source": [
    "Imports"
   ]
  },
  {
   "cell_type": "code",
   "execution_count": 95,
   "id": "70ddfbe5",
   "metadata": {},
   "outputs": [],
   "source": [
    "import pandas as pd\n",
    "import geopandas\n",
    "import folium\n",
    "import matplotlib.pyplot as plt"
   ]
  },
  {
   "cell_type": "markdown",
   "id": "a6f302e7",
   "metadata": {},
   "source": [
    "Carregando datasets [OD]"
   ]
  },
  {
   "cell_type": "code",
   "execution_count": 96,
   "id": "b092a642",
   "metadata": {},
   "outputs": [],
   "source": [
    "od23_path = \"../../data/OD/ODS/od23_all.csv\" \n",
    "od = pd.read_csv(od23_path)\n",
    "\n",
    "od_districts_shapefile_path = \"../../data/OD/OD-2023/002_Site Metro Mapas_190225/Shape/Distritos_2023_region.shp\" \n",
    "districts = geopandas.read_file(od_districts_shapefile_path)\n",
    "\n",
    "od_counties_shapefile_path = \"../../data/OD/OD-2023/002_Site Metro Mapas_190225/Shape/Municipios_2023.shp\" \n",
    "counties = geopandas.read_file(od_counties_shapefile_path)\n",
    "\n",
    "od_zones_shapefile_path = \"../../data/OD/OD-2023/002_Site Metro Mapas_190225/Shape/Zonas_2023.shp\" \n",
    "od_zones = geopandas.read_file(od_zones_shapefile_path)"
   ]
  },
  {
   "cell_type": "markdown",
   "id": "f060af24",
   "metadata": {},
   "source": [
    "Criando um mapa com zoom em São Paulo"
   ]
  },
  {
   "cell_type": "code",
   "execution_count": 97,
   "id": "60213928",
   "metadata": {},
   "outputs": [],
   "source": [
    "# SP coordinates\n",
    "lat, lon = -23.5918264, -46.6576057\n",
    "\n",
    "sp_map = folium.Map(location=[lat, lon], zoom_start=10)\n",
    "\n",
    "sp_map.save(\"../built_maps/sp_map.html\")"
   ]
  },
  {
   "cell_type": "markdown",
   "id": "76a8227c",
   "metadata": {},
   "source": [
    "Filtra viagens de pedestres do DataFrame da OD"
   ]
  },
  {
   "cell_type": "code",
   "execution_count": 98,
   "id": "172f1690",
   "metadata": {},
   "outputs": [],
   "source": [
    "pedestrians = od.query('MODOPRIN == 17') ## 17: pedestrians"
   ]
  },
  {
   "cell_type": "markdown",
   "id": "c5e5627a",
   "metadata": {},
   "source": [
    "Cria um dataframe que contém a representatividade de viagens de pedestres nas zonas OD\n",
    "\n",
    "**TODO**: criar um dataframe com mesmo objetivo para municípios"
   ]
  },
  {
   "cell_type": "code",
   "execution_count": 106,
   "id": "4b6da1ee",
   "metadata": {},
   "outputs": [
    {
     "name": "stdout",
     "output_type": "stream",
     "text": [
      "   NumeroZona  FE_VIA_TOTAL  PERC_TOTAL\n",
      "0           1  35469.615143    0.176352\n",
      "1           2  24969.806514    0.124148\n",
      "2           3  31158.008191    0.154915\n",
      "3           4  47402.928819    0.235683\n",
      "4           5  45706.267246    0.227248\n",
      "100.0\n"
     ]
    }
   ],
   "source": [
    "# Criar dataframe de origens\n",
    "origens = pedestrians[[\"ZONA_O\", \"FE_VIA\"]].rename(columns={\"ZONA_O\": \"ZONA\"})\n",
    "\n",
    "# Criar dataframe de destinos\n",
    "destinos = pedestrians[[\"ZONA_D\", \"FE_VIA\"]].rename(columns={\"ZONA_D\": \"ZONA\"})\n",
    "\n",
    "# Concatenar origens e destinos\n",
    "zonas = pd.concat([origens, destinos], ignore_index=True)\n",
    "\n",
    "# Agrupar e somar\n",
    "od_zones_rep = (\n",
    "    zonas.groupby(\"ZONA\", as_index=False)[\"FE_VIA\"].sum()\n",
    "    .rename(columns={\"FE_VIA\": \"FE_VIA_TOTAL\"})\n",
    ")\n",
    "\n",
    "# Calcular percentual (corrigido para viagens contadas 2x)\n",
    "od_zones_rep[\"PERC_TOTAL\"] = (\n",
    "    od_zones_rep[\"FE_VIA_TOTAL\"] / (pedestrians[\"FE_VIA\"].sum() * 2) * 100\n",
    ")\n",
    "\n",
    "od_zones_rep = od_zones_rep.rename(columns={\"ZONA\": \"NumeroZona\"})\n",
    "od_zones_rep[\"NumeroZona\"] = od_zones_rep[\"NumeroZona\"].astype(int) \n",
    "\n",
    "print(od_zones_rep.head())\n",
    "print(od_zones_rep[\"PERC_TOTAL\"].sum())"
   ]
  },
  {
   "cell_type": "markdown",
   "id": "e0b4e02b",
   "metadata": {},
   "source": [
    "Muda o CRS de DF de zonas OD"
   ]
  },
  {
   "cell_type": "code",
   "execution_count": 101,
   "id": "496cd876",
   "metadata": {},
   "outputs": [
    {
     "name": "stdout",
     "output_type": "stream",
     "text": [
      "EPSG:22523\n"
     ]
    }
   ],
   "source": [
    "print(od_zones.crs)"
   ]
  },
  {
   "cell_type": "markdown",
   "id": "a84f804f",
   "metadata": {},
   "source": [
    "Altera o CRS de zonas e casta a coluna NumeroZona ppara int"
   ]
  },
  {
   "cell_type": "code",
   "execution_count": 108,
   "id": "129d1e97",
   "metadata": {},
   "outputs": [],
   "source": [
    "od_zones = od_zones.to_crs(\"EPSG:4326\")\n",
    "od_zones[\"NumeroZona\"] = od_zones[\"NumeroZona\"].astype(int)"
   ]
  },
  {
   "cell_type": "markdown",
   "id": "5138f205",
   "metadata": {},
   "source": [
    "Cria um mapa coroplético de pedestres nas zonas OD em São Paulo"
   ]
  },
  {
   "cell_type": "code",
   "execution_count": 110,
   "id": "c1861d1d",
   "metadata": {},
   "outputs": [],
   "source": [
    "z = folium.Choropleth(\n",
    "    geo_data=od_zones.to_json(),\n",
    "    name=\"choropleth\",\n",
    "    data=od_zones_rep,\n",
    "    columns=[\"NumeroZona\", \"PERC_TOTAL\"],\n",
    "    key_on=\"feature.properties.NumeroZona\",\n",
    "    fill_color=\"YlOrRd\",\n",
    "    fill_opacity=0.7,\n",
    "    line_opacity=0.2,\n",
    "    legend_name=\"Viagens de Pedestres (%)\",\n",
    "    nan_fill_color=\"white\",\n",
    "    tooltip=folium.features.GeoJsonTooltip(\n",
    "        fields=[\"NumeroZona\", \"NomeZona\"],\n",
    "        aliases=[\"Zona:\", \"Nome:\"],\n",
    "        localize=True\n",
    "    )\n",
    ").add_to(sp_map)\n",
    "\n",
    "sp_map.save(\"../built_maps/pedestrians_odzones.html\")"
   ]
  }
 ],
 "metadata": {
  "kernelspec": {
   "display_name": ".venv (3.12.3)",
   "language": "python",
   "name": "python3"
  },
  "language_info": {
   "codemirror_mode": {
    "name": "ipython",
    "version": 3
   },
   "file_extension": ".py",
   "mimetype": "text/x-python",
   "name": "python",
   "nbconvert_exporter": "python",
   "pygments_lexer": "ipython3",
   "version": "3.12.3"
  }
 },
 "nbformat": 4,
 "nbformat_minor": 5
}
