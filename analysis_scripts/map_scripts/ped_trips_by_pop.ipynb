{
 "cells": [
  {
   "cell_type": "markdown",
   "id": "f24fcb24",
   "metadata": {},
   "source": [
    "# Percentual de viagens de pedestres em relação a população da área\n",
    "\n",
    "Caderno Jupyter referente à **Issue #5**: *Mapa coroplético de origens e destinos de pedestres com filtros e granularidades* \n",
    "\n",
    "**APENAS MUNICÍPIO DE SÃO PAULO**\n",
    "\n",
    "Comparação de viagens de pedestres e população da região (zona OD ou distrito)\n",
    "\n",
    "---"
   ]
  },
  {
   "cell_type": "code",
   "execution_count": 31,
   "id": "33bc329c",
   "metadata": {},
   "outputs": [],
   "source": [
    "import pandas as pd\n",
    "import geopandas\n",
    "import folium"
   ]
  },
  {
   "cell_type": "markdown",
   "id": "12a47286",
   "metadata": {},
   "source": [
    "### Carregando datasets e convertendo para CRS em comum "
   ]
  },
  {
   "cell_type": "markdown",
   "id": "ee2265c9",
   "metadata": {},
   "source": [
    "Carregando datasets"
   ]
  },
  {
   "cell_type": "code",
   "execution_count": 32,
   "id": "8dea3ced",
   "metadata": {},
   "outputs": [],
   "source": [
    "od23_path = \"../../data/OD/ODS/od23_all.csv\" \n",
    "od = pd.read_csv(od23_path)\n",
    "\n",
    "od_districts_shapefile_path = \"../../data/OD/OD-2023/002_Site Metro Mapas_190225/Shape/Distritos_2023_region.shp\" \n",
    "od_districts = geopandas.read_file(od_districts_shapefile_path)\n",
    "\n",
    "od_zones_shapefile_path = \"../../data/OD/OD-2023/002_Site Metro Mapas_190225/Shape/Zonas_2023.shp\" \n",
    "od_zones = geopandas.read_file(od_zones_shapefile_path)"
   ]
  },
  {
   "cell_type": "markdown",
   "id": "6788f169",
   "metadata": {},
   "source": [
    "Filtrando zonas OD que pertencem ao município de SP"
   ]
  },
  {
   "cell_type": "code",
   "execution_count": 33,
   "id": "4bb6a1ff",
   "metadata": {},
   "outputs": [],
   "source": [
    "od_zones = od_zones.query('NumeroMuni == 36')"
   ]
  },
  {
   "cell_type": "markdown",
   "id": "41d8e249",
   "metadata": {},
   "source": [
    "Convertendo CRS"
   ]
  },
  {
   "cell_type": "code",
   "execution_count": 34,
   "id": "9d3354c9",
   "metadata": {},
   "outputs": [],
   "source": [
    "od_districts = od_districts.to_crs(\"EPSG:4326\")\n",
    "od_zones = od_zones.to_crs(\"EPSG:4326\")"
   ]
  },
  {
   "cell_type": "markdown",
   "id": "87ebf743",
   "metadata": {},
   "source": [
    "Cálculo da população por zonas OD"
   ]
  },
  {
   "cell_type": "code",
   "execution_count": 35,
   "id": "adfbcad4",
   "metadata": {},
   "outputs": [],
   "source": [
    "pop_sum_zone = (\n",
    "    od.groupby(\"ZONA_O\")[\"NO_MORAD\"].sum()\n",
    "    .reset_index()\n",
    "    .rename(columns={\"ZONA_O\": \"NumeroZona\", \"NO_MORAD\": \"TOTAL_POP\"})\n",
    ")"
   ]
  },
  {
   "cell_type": "markdown",
   "id": "bc636f29",
   "metadata": {},
   "source": [
    "Soma do número do total de moradores no domicílio (coluna 14)"
   ]
  },
  {
   "cell_type": "code",
   "execution_count": 36,
   "id": "f044a791",
   "metadata": {},
   "outputs": [
    {
     "data": {
      "text/plain": [
       "np.int64(360947)"
      ]
     },
     "execution_count": 36,
     "metadata": {},
     "output_type": "execute_result"
    }
   ],
   "source": [
    "od[\"NO_MORAD\"].sum()"
   ]
  },
  {
   "cell_type": "markdown",
   "id": "0fc4f2b8",
   "metadata": {},
   "source": [
    "## Calcular viagens de pedestres / população da área\n",
    "\n",
    "- Por zona (ZONA_O)\n",
    "- Por distrito"
   ]
  },
  {
   "cell_type": "markdown",
   "id": "74659825",
   "metadata": {},
   "source": [
    "### Viagens por zona OD / população"
   ]
  },
  {
   "cell_type": "code",
   "execution_count": 37,
   "id": "89b9d6b8",
   "metadata": {},
   "outputs": [
    {
     "data": {
      "application/vnd.microsoft.datawrangler.viewer.v0+json": {
       "columns": [
        {
         "name": "index",
         "rawType": "int64",
         "type": "integer"
        },
        {
         "name": "NumeroZona",
         "rawType": "int64",
         "type": "integer"
        },
        {
         "name": "VIAGENS_PED",
         "rawType": "float64",
         "type": "float"
        },
        {
         "name": "TOTAL_POP",
         "rawType": "int64",
         "type": "integer"
        },
        {
         "name": "PED_POP",
         "rawType": "float64",
         "type": "float"
        }
       ],
       "ref": "cd1e5f20-c70b-4af9-985e-6acd1a8aec25",
       "rows": [
        [
         "375",
         "395",
         "411.944319419442",
         "1",
         "41194.4319419442"
        ],
        [
         "249",
         "258",
         "33620.49574053874",
         "283",
         "11880.03383057906"
        ],
        [
         "448",
         "473",
         "81855.56368117612",
         "720",
         "11368.828289052239"
        ],
        [
         "172",
         "178",
         "7237.368242181382",
         "69",
         "10488.939481422294"
        ],
        [
         "447",
         "472",
         "36222.72089702491",
         "350",
         "10349.348827721404"
        ]
       ],
       "shape": {
        "columns": 4,
        "rows": 5
       }
      },
      "text/html": [
       "<div>\n",
       "<style scoped>\n",
       "    .dataframe tbody tr th:only-of-type {\n",
       "        vertical-align: middle;\n",
       "    }\n",
       "\n",
       "    .dataframe tbody tr th {\n",
       "        vertical-align: top;\n",
       "    }\n",
       "\n",
       "    .dataframe thead th {\n",
       "        text-align: right;\n",
       "    }\n",
       "</style>\n",
       "<table border=\"1\" class=\"dataframe\">\n",
       "  <thead>\n",
       "    <tr style=\"text-align: right;\">\n",
       "      <th></th>\n",
       "      <th>NumeroZona</th>\n",
       "      <th>VIAGENS_PED</th>\n",
       "      <th>TOTAL_POP</th>\n",
       "      <th>PED_POP</th>\n",
       "    </tr>\n",
       "  </thead>\n",
       "  <tbody>\n",
       "    <tr>\n",
       "      <th>375</th>\n",
       "      <td>395</td>\n",
       "      <td>411.944319</td>\n",
       "      <td>1</td>\n",
       "      <td>41194.431942</td>\n",
       "    </tr>\n",
       "    <tr>\n",
       "      <th>249</th>\n",
       "      <td>258</td>\n",
       "      <td>33620.495741</td>\n",
       "      <td>283</td>\n",
       "      <td>11880.033831</td>\n",
       "    </tr>\n",
       "    <tr>\n",
       "      <th>448</th>\n",
       "      <td>473</td>\n",
       "      <td>81855.563681</td>\n",
       "      <td>720</td>\n",
       "      <td>11368.828289</td>\n",
       "    </tr>\n",
       "    <tr>\n",
       "      <th>172</th>\n",
       "      <td>178</td>\n",
       "      <td>7237.368242</td>\n",
       "      <td>69</td>\n",
       "      <td>10488.939481</td>\n",
       "    </tr>\n",
       "    <tr>\n",
       "      <th>447</th>\n",
       "      <td>472</td>\n",
       "      <td>36222.720897</td>\n",
       "      <td>350</td>\n",
       "      <td>10349.348828</td>\n",
       "    </tr>\n",
       "  </tbody>\n",
       "</table>\n",
       "</div>"
      ],
      "text/plain": [
       "     NumeroZona   VIAGENS_PED  TOTAL_POP       PED_POP\n",
       "375         395    411.944319          1  41194.431942\n",
       "249         258  33620.495741        283  11880.033831\n",
       "448         473  81855.563681        720  11368.828289\n",
       "172         178   7237.368242         69  10488.939481\n",
       "447         472  36222.720897        350  10349.348828"
      ]
     },
     "execution_count": 37,
     "metadata": {},
     "output_type": "execute_result"
    }
   ],
   "source": [
    "# 1) Filtrando apenas pedestres \n",
    "pedestrians_walk = od.query('MODOPRIN == 17')\n",
    "\n",
    "# 2) Total de viagens para pedestres\n",
    "zone_walk = (\n",
    "    pedestrians_walk.groupby(\"ZONA_O\")[\"FE_VIA\"].sum()\n",
    "    .reset_index()\n",
    "    .rename(columns={\"ZONA_O\": \"NumeroZona\", \"FE_VIA\": \"VIAGENS_PED\"})\n",
    ")\n",
    "\n",
    "# 3) Merge do total de viagens / total de viagens de pedestres por zonas OD\n",
    "zone_share = zone_walk.merge(\n",
    "    pop_sum_zone,\n",
    "    on=\"NumeroZona\",\n",
    "    how=\"inner\"\n",
    ")\n",
    "\n",
    "# 4) Cálculo da representatividade de pedestres\n",
    "zone_share[\"PED_POP\"] = 100 * zone_share[\"VIAGENS_PED\"] / zone_share[\"TOTAL_POP\"]\n",
    "\n",
    "# 5) Ordena decrescentemente por percentual de viagens de pedestres / população\n",
    "zone_share = zone_share.sort_values(\"PED_POP\", ascending=False)\n",
    "zone_share.head()"
   ]
  },
  {
   "cell_type": "markdown",
   "id": "09b33588",
   "metadata": {},
   "source": [
    "### Viagens por distrito"
   ]
  },
  {
   "cell_type": "code",
   "execution_count": 38,
   "id": "0ea1f82a",
   "metadata": {},
   "outputs": [
    {
     "data": {
      "application/vnd.microsoft.datawrangler.viewer.v0+json": {
       "columns": [
        {
         "name": "index",
         "rawType": "int64",
         "type": "integer"
        },
        {
         "name": "NumDistrit",
         "rawType": "int32",
         "type": "integer"
        },
        {
         "name": "NomeDistri",
         "rawType": "object",
         "type": "string"
        },
        {
         "name": "VIAGENS_PED",
         "rawType": "float64",
         "type": "float"
        },
        {
         "name": "TOTAL_POP",
         "rawType": "float64",
         "type": "float"
        },
        {
         "name": "PED_POP",
         "rawType": "float64",
         "type": "float"
        }
       ],
       "ref": "88aca032-7f75-4ba1-af53-d1256f20b64c",
       "rows": [
        [
         "12",
         "13",
         "Cachoeirinha",
         "90720.45565440255",
         "1227.0",
         "7393.680167432972"
        ],
        [
         "85",
         "86",
         "Vila Curuçá",
         "103446.01613408941",
         "1527.0",
         "6774.460781538272"
        ],
        [
         "76",
         "77",
         "São Rafael",
         "79496.34088048883",
         "1193.0",
         "6663.565874307529"
        ],
        [
         "77",
         "78",
         "Sapopemba",
         "129992.56212485676",
         "1976.0",
         "6578.5709577356665"
        ],
        [
         "29",
         "30",
         "Grajaú",
         "167952.31330891832",
         "2564.0",
         "6550.4022351372205"
        ]
       ],
       "shape": {
        "columns": 5,
        "rows": 5
       }
      },
      "text/html": [
       "<div>\n",
       "<style scoped>\n",
       "    .dataframe tbody tr th:only-of-type {\n",
       "        vertical-align: middle;\n",
       "    }\n",
       "\n",
       "    .dataframe tbody tr th {\n",
       "        vertical-align: top;\n",
       "    }\n",
       "\n",
       "    .dataframe thead th {\n",
       "        text-align: right;\n",
       "    }\n",
       "</style>\n",
       "<table border=\"1\" class=\"dataframe\">\n",
       "  <thead>\n",
       "    <tr style=\"text-align: right;\">\n",
       "      <th></th>\n",
       "      <th>NumDistrit</th>\n",
       "      <th>NomeDistri</th>\n",
       "      <th>VIAGENS_PED</th>\n",
       "      <th>TOTAL_POP</th>\n",
       "      <th>PED_POP</th>\n",
       "    </tr>\n",
       "  </thead>\n",
       "  <tbody>\n",
       "    <tr>\n",
       "      <th>12</th>\n",
       "      <td>13</td>\n",
       "      <td>Cachoeirinha</td>\n",
       "      <td>90720.455654</td>\n",
       "      <td>1227.0</td>\n",
       "      <td>7393.680167</td>\n",
       "    </tr>\n",
       "    <tr>\n",
       "      <th>85</th>\n",
       "      <td>86</td>\n",
       "      <td>Vila Curuçá</td>\n",
       "      <td>103446.016134</td>\n",
       "      <td>1527.0</td>\n",
       "      <td>6774.460782</td>\n",
       "    </tr>\n",
       "    <tr>\n",
       "      <th>76</th>\n",
       "      <td>77</td>\n",
       "      <td>São Rafael</td>\n",
       "      <td>79496.340880</td>\n",
       "      <td>1193.0</td>\n",
       "      <td>6663.565874</td>\n",
       "    </tr>\n",
       "    <tr>\n",
       "      <th>77</th>\n",
       "      <td>78</td>\n",
       "      <td>Sapopemba</td>\n",
       "      <td>129992.562125</td>\n",
       "      <td>1976.0</td>\n",
       "      <td>6578.570958</td>\n",
       "    </tr>\n",
       "    <tr>\n",
       "      <th>29</th>\n",
       "      <td>30</td>\n",
       "      <td>Grajaú</td>\n",
       "      <td>167952.313309</td>\n",
       "      <td>2564.0</td>\n",
       "      <td>6550.402235</td>\n",
       "    </tr>\n",
       "  </tbody>\n",
       "</table>\n",
       "</div>"
      ],
      "text/plain": [
       "    NumDistrit    NomeDistri    VIAGENS_PED  TOTAL_POP      PED_POP\n",
       "12          13  Cachoeirinha   90720.455654     1227.0  7393.680167\n",
       "85          86   Vila Curuçá  103446.016134     1527.0  6774.460782\n",
       "76          77    São Rafael   79496.340880     1193.0  6663.565874\n",
       "77          78     Sapopemba  129992.562125     1976.0  6578.570958\n",
       "29          30        Grajaú  167952.313309     2564.0  6550.402235"
      ]
     },
     "execution_count": 38,
     "metadata": {},
     "output_type": "execute_result"
    }
   ],
   "source": [
    "# 1) Junta zonas com distritos para agregação futura de distritos\n",
    "zone_district = od_zones[[\"NumeroZona\", \"NumDistrit\", \"NomeDistri\"]].merge(\n",
    "    zone_share, on=\"NumeroZona\", how=\"left\"\n",
    ").fillna({\"VIAGENS_PED\": 0, \"TOTAL_POP\": 0, \"PED_POP\": 0})\n",
    "\n",
    "# 2) Agregação de viagens de pedestres por distrito\n",
    "district_walk = (\n",
    "    zone_district.groupby([\"NumDistrit\", \"NomeDistri\"])[\"VIAGENS_PED\"].sum()\n",
    "    .reset_index()\n",
    ")\n",
    "\n",
    "# 3) Total de viagens de todos os meios por distrito\n",
    "pop_sum_district = (\n",
    "    zone_district.groupby(\"NumDistrit\")[\"TOTAL_POP\"].sum()\n",
    "    .reset_index()\n",
    ")\n",
    "\n",
    "# 4) Merge do total de viagens / total de viagens de pedestres por distritos\n",
    "district_share = district_walk.merge(\n",
    "    pop_sum_district,\n",
    "    on=\"NumDistrit\",\n",
    "    how=\"inner\"\n",
    ")\n",
    "\n",
    "# 5) Cálculo da representatividade de pedestres\n",
    "district_share[\"PED_POP\"] = 100 * district_share[\"VIAGENS_PED\"] / district_share[\"TOTAL_POP\"]\n",
    "\n",
    "# 6) ordena decrescentente de acordo com o percentual\n",
    "district_share = district_share.sort_values(\"PED_POP\", ascending=False)\n",
    "district_share.head()"
   ]
  },
  {
   "cell_type": "markdown",
   "id": "1804fab5",
   "metadata": {},
   "source": [
    "## Merge com geometrias"
   ]
  },
  {
   "cell_type": "markdown",
   "id": "f14547f0",
   "metadata": {},
   "source": [
    "Juntar com geometrias"
   ]
  },
  {
   "cell_type": "code",
   "execution_count": 39,
   "id": "147f2530",
   "metadata": {},
   "outputs": [],
   "source": [
    "# zonas\n",
    "zones_map = od_zones.merge(zone_share, on=\"NumeroZona\", how=\"left\").fillna(0)\n",
    "\n",
    "# distritos\n",
    "districts_map = od_districts.merge(district_share, left_on=\"NumeroDist\", right_on=\"NumDistrit\", how=\"left\").fillna(0)"
   ]
  },
  {
   "cell_type": "markdown",
   "id": "4811ee67",
   "metadata": {},
   "source": [
    "Filtrando distritos que pertençam São Paulo"
   ]
  },
  {
   "cell_type": "code",
   "execution_count": 40,
   "id": "0b4c5e26",
   "metadata": {},
   "outputs": [],
   "source": [
    "districts_map = districts_map.query('PED_POP > 0')"
   ]
  },
  {
   "cell_type": "markdown",
   "id": "fe7e0bc3",
   "metadata": {},
   "source": [
    "## Mapa"
   ]
  },
  {
   "cell_type": "markdown",
   "id": "16bcbb8b",
   "metadata": {},
   "source": [
    "Criar mapa Folium com LayerControl"
   ]
  },
  {
   "cell_type": "code",
   "execution_count": 41,
   "id": "10658f79",
   "metadata": {},
   "outputs": [],
   "source": [
    "# centro aproximado (SP)\n",
    "m = folium.Map(location=[-23.55, -46.63], zoom_start=10)"
   ]
  },
  {
   "cell_type": "markdown",
   "id": "22c26b05",
   "metadata": {},
   "source": [
    "Camada Zona OD"
   ]
  },
  {
   "cell_type": "code",
   "execution_count": 42,
   "id": "8cbdac93",
   "metadata": {},
   "outputs": [
    {
     "data": {
      "text/plain": [
       "<folium.features.GeoJson at 0x7524237efec0>"
      ]
     },
     "execution_count": 42,
     "metadata": {},
     "output_type": "execute_result"
    }
   ],
   "source": [
    "# camada por zona\n",
    "folium.Choropleth(\n",
    "    geo_data=zones_map.to_json(),\n",
    "    name=\"Zonas OD\",\n",
    "    data=zones_map,\n",
    "    columns=[\"NumeroZona\", \"PED_POP\"],\n",
    "    key_on=\"feature.properties.NumeroZona\",\n",
    "    fill_color=\"YlGnBu\",\n",
    "    fill_opacity=0.7,\n",
    "    line_opacity=0.3,\n",
    "    legend_name=\"Viagens de pedestres (%) - Zona OD\"\n",
    ").add_to(m)\n",
    "\n",
    "# adiciona tooltip + popup para zonas\n",
    "folium.GeoJson(\n",
    "    zones_map,\n",
    "    style_function=lambda x: {\"fillOpacity\": 0, \"color\": \"transparent\"}, \n",
    "    tooltip=folium.GeoJsonTooltip(\n",
    "        fields=[\"NomeZona\", \"PED_POP\"],\n",
    "        aliases=[\"Zona OD:\", \"Pedestre / População\"],\n",
    "        localize=True,\n",
    "        sticky=True\n",
    "    ),\n",
    "    popup=folium.GeoJsonPopup(\n",
    "        fields=[\"NomeZona\", \"VIAGENS_PED\", \"TOTAL_POP\", \"PED_POP\"],\n",
    "        aliases=[\"Zona OD:\", \"Viagens:\", \"Total população\", \"Pedestre / População\"],\n",
    "        localize=True\n",
    "    ),\n",
    "    name=\"zonas od - pedestre / população\",\n",
    "    show=True\n",
    ").add_to(m)"
   ]
  },
  {
   "cell_type": "markdown",
   "id": "428eeb5a",
   "metadata": {},
   "source": [
    "Camada Distrito"
   ]
  },
  {
   "cell_type": "code",
   "execution_count": 43,
   "id": "72917c41",
   "metadata": {},
   "outputs": [
    {
     "data": {
      "text/plain": [
       "<folium.features.GeoJson at 0x75242147ba70>"
      ]
     },
     "execution_count": 43,
     "metadata": {},
     "output_type": "execute_result"
    }
   ],
   "source": [
    "# camada por distrito\n",
    "folium.Choropleth(\n",
    "    geo_data=districts_map.to_json(),\n",
    "    name=\"Distritos\",\n",
    "    data=districts_map,\n",
    "    columns=[\"NumeroDist\", \"PED_POP\"],\n",
    "    key_on=\"feature.properties.NumeroDist\",\n",
    "    fill_color=\"OrRd\",\n",
    "    fill_opacity=0.7,\n",
    "    line_opacity=0.3,\n",
    "    legend_name=\"Viagens de pedestres (%) - Distritos\",\n",
    "    show=False\n",
    ").add_to(m)\n",
    "\n",
    "# adiciona tooltip + popup para distritos\n",
    "folium.GeoJson(\n",
    "    districts_map,\n",
    "    style_function=lambda x: {\"fillOpacity\": 0, \"color\": \"transparent\"},\n",
    "    tooltip=folium.GeoJsonTooltip(\n",
    "        fields=[\"NomeDistri_x\", \"PED_POP\"],\n",
    "        aliases=[\"Distrito:\", \"Pedestre / População\"],\n",
    "        localize=True,\n",
    "        sticky=True\n",
    "    ),\n",
    "    popup=folium.GeoJsonPopup(\n",
    "        fields=[\"NomeDistri_x\", \"VIAGENS_PED\", \"TOTAL_POP\", \"PED_POP\"],\n",
    "        aliases=[\"Distrito:\", \"Viagens pedestres:\", \"Total população\", \"Pedestre / População\"],\n",
    "        localize=True\n",
    "    ),\n",
    "    name=\"distrito - pedestre / população\",\n",
    "    show=False\n",
    ").add_to(m)"
   ]
  },
  {
   "cell_type": "markdown",
   "id": "c4c89445",
   "metadata": {},
   "source": [
    "Salvar mapa"
   ]
  },
  {
   "cell_type": "code",
   "execution_count": 44,
   "id": "540f5bb2",
   "metadata": {},
   "outputs": [],
   "source": [
    "# adicionar controles\n",
    "folium.LayerControl().add_to(m)\n",
    "\n",
    "m.save(\"../built_maps/ped_trips_by_pop.html\")"
   ]
  }
 ],
 "metadata": {
  "kernelspec": {
   "display_name": ".venv (3.12.3)",
   "language": "python",
   "name": "python3"
  },
  "language_info": {
   "codemirror_mode": {
    "name": "ipython",
    "version": 3
   },
   "file_extension": ".py",
   "mimetype": "text/x-python",
   "name": "python",
   "nbconvert_exporter": "python",
   "pygments_lexer": "ipython3",
   "version": "3.12.3"
  }
 },
 "nbformat": 4,
 "nbformat_minor": 5
}
