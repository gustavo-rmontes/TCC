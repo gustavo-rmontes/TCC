{
 "cells": [
  {
   "cell_type": "markdown",
   "id": "a3f0fcfd",
   "metadata": {},
   "source": [
    "# Mapa de calor das viagens de pedestres no município de São Paulo\n",
    "\n",
    "---"
   ]
  },
  {
   "cell_type": "code",
   "execution_count": 200,
   "id": "0f7370b2",
   "metadata": {},
   "outputs": [],
   "source": [
    "import pandas as pd\n",
    "import geopandas\n",
    "import folium\n",
    "from folium.plugins import HeatMap\n",
    "from shapely.geometry import Point"
   ]
  },
  {
   "cell_type": "markdown",
   "id": "cd6ce55b",
   "metadata": {},
   "source": [
    "Carregando os datasets"
   ]
  },
  {
   "cell_type": "code",
   "execution_count": 201,
   "id": "81e191c0",
   "metadata": {},
   "outputs": [],
   "source": [
    "od23_path = \"../../data/OD/ODS/od23_all.csv\" \n",
    "od = pd.read_csv(od23_path)\n",
    "\n",
    "od_districts_shapefile_path = \"../../data/OD/OD-2023/002_Site Metro Mapas_190225/Shape/Distritos_2023_region.shp\" \n",
    "od_districts = geopandas.read_file(od_districts_shapefile_path)\n",
    "\n",
    "od_zones_shapefile_path = \"../../data/OD/OD-2023/002_Site Metro Mapas_190225/Shape/Zonas_2023.shp\" \n",
    "od_zones = geopandas.read_file(od_zones_shapefile_path)"
   ]
  },
  {
   "cell_type": "markdown",
   "id": "850c4768",
   "metadata": {},
   "source": [
    "Filtrando zonas OD que pertencem ao município de SP"
   ]
  },
  {
   "cell_type": "code",
   "execution_count": 202,
   "id": "f6702e31",
   "metadata": {},
   "outputs": [],
   "source": [
    "od_zones = od_zones.query('NumeroMuni == 36')"
   ]
  },
  {
   "cell_type": "markdown",
   "id": "60a1ff02",
   "metadata": {},
   "source": [
    "Convertendo CRS"
   ]
  },
  {
   "cell_type": "code",
   "execution_count": 203,
   "id": "730bab64",
   "metadata": {},
   "outputs": [],
   "source": [
    "od_districts = od_districts.to_crs(\"EPSG:4326\")\n",
    "od_zones = od_zones.to_crs(\"EPSG:4326\")"
   ]
  },
  {
   "cell_type": "code",
   "execution_count": 204,
   "id": "c526025e",
   "metadata": {},
   "outputs": [
    {
     "data": {
      "text/html": [
       "<div>\n",
       "<style scoped>\n",
       "    .dataframe tbody tr th:only-of-type {\n",
       "        vertical-align: middle;\n",
       "    }\n",
       "\n",
       "    .dataframe tbody tr th {\n",
       "        vertical-align: top;\n",
       "    }\n",
       "\n",
       "    .dataframe thead th {\n",
       "        text-align: right;\n",
       "    }\n",
       "</style>\n",
       "<table border=\"1\" class=\"dataframe\">\n",
       "  <thead>\n",
       "    <tr style=\"text-align: right;\">\n",
       "      <th></th>\n",
       "      <th>NumeroDist</th>\n",
       "      <th>NomeDistri</th>\n",
       "      <th>Area_ha</th>\n",
       "      <th>geometry</th>\n",
       "    </tr>\n",
       "  </thead>\n",
       "  <tbody>\n",
       "    <tr>\n",
       "      <th>0</th>\n",
       "      <td>1</td>\n",
       "      <td>Água Rasa</td>\n",
       "      <td>715.05</td>\n",
       "      <td>POLYGON Z ((-46.55407 -23.5685 0, -46.55413 -2...</td>\n",
       "    </tr>\n",
       "    <tr>\n",
       "      <th>1</th>\n",
       "      <td>2</td>\n",
       "      <td>Alto de Pinheiros</td>\n",
       "      <td>751.26</td>\n",
       "      <td>POLYGON Z ((-46.69236 -23.54638 0, -46.69283 -...</td>\n",
       "    </tr>\n",
       "    <tr>\n",
       "      <th>2</th>\n",
       "      <td>3</td>\n",
       "      <td>Anhanguera</td>\n",
       "      <td>3339.95</td>\n",
       "      <td>POLYGON Z ((-46.76109 -23.4274 0, -46.76114 -2...</td>\n",
       "    </tr>\n",
       "    <tr>\n",
       "      <th>3</th>\n",
       "      <td>4</td>\n",
       "      <td>Aricanduva</td>\n",
       "      <td>686.26</td>\n",
       "      <td>POLYGON Z ((-46.5018 -23.57948 0, -46.5018 -23...</td>\n",
       "    </tr>\n",
       "    <tr>\n",
       "      <th>4</th>\n",
       "      <td>5</td>\n",
       "      <td>Artur Alvim</td>\n",
       "      <td>653.04</td>\n",
       "      <td>POLYGON Z ((-46.47327 -23.54036 0, -46.47328 -...</td>\n",
       "    </tr>\n",
       "  </tbody>\n",
       "</table>\n",
       "</div>"
      ],
      "text/plain": [
       "   NumeroDist         NomeDistri  Area_ha  \\\n",
       "0           1          Água Rasa   715.05   \n",
       "1           2  Alto de Pinheiros   751.26   \n",
       "2           3         Anhanguera  3339.95   \n",
       "3           4         Aricanduva   686.26   \n",
       "4           5        Artur Alvim   653.04   \n",
       "\n",
       "                                            geometry  \n",
       "0  POLYGON Z ((-46.55407 -23.5685 0, -46.55413 -2...  \n",
       "1  POLYGON Z ((-46.69236 -23.54638 0, -46.69283 -...  \n",
       "2  POLYGON Z ((-46.76109 -23.4274 0, -46.76114 -2...  \n",
       "3  POLYGON Z ((-46.5018 -23.57948 0, -46.5018 -23...  \n",
       "4  POLYGON Z ((-46.47327 -23.54036 0, -46.47328 -...  "
      ]
     },
     "execution_count": 204,
     "metadata": {},
     "output_type": "execute_result"
    }
   ],
   "source": [
    "od_districts.head()"
   ]
  },
  {
   "cell_type": "markdown",
   "id": "3d8b4c25",
   "metadata": {},
   "source": [
    "Filtrando viagens que originaram-se no município de São Paulo e pedestres"
   ]
  },
  {
   "cell_type": "code",
   "execution_count": 205,
   "id": "9b515044",
   "metadata": {},
   "outputs": [],
   "source": [
    "pedestrians_sp = od.query(\"MUNI_O == 36 and MODOPRIN == 17\") # apenas SP e pedestres"
   ]
  },
  {
   "cell_type": "markdown",
   "id": "5f7531dc",
   "metadata": {},
   "source": [
    "Filtrando registros com coordenadas não válidas"
   ]
  },
  {
   "cell_type": "code",
   "execution_count": 206,
   "id": "8571a9a2",
   "metadata": {},
   "outputs": [],
   "source": [
    "pedestrians_coords = (\n",
    "    pedestrians_sp[[\"CO_O_X\", \"CO_O_Y\", \"FE_VIA\"]]\n",
    "    .dropna()\n",
    "    .query(\"CO_O_X != 0 and CO_O_Y != 0\")  # remover coords nulas\n",
    ")"
   ]
  },
  {
   "cell_type": "markdown",
   "id": "056b9253",
   "metadata": {},
   "source": [
    "Cálculo da representatividade do ponto em relação ao total de viagens a pé "
   ]
  },
  {
   "cell_type": "code",
   "execution_count": 207,
   "id": "5921292d",
   "metadata": {},
   "outputs": [],
   "source": [
    "total_viagens = pedestrians_coords[\"FE_VIA\"].sum()\n",
    "pedestrians_coords[\"weight\"] = pedestrians_coords[\"FE_VIA\"] / total_viagens"
   ]
  },
  {
   "cell_type": "markdown",
   "id": "1f7ed782",
   "metadata": {},
   "source": [
    "## Mapa de calor"
   ]
  },
  {
   "cell_type": "code",
   "execution_count": 208,
   "id": "31c042d6",
   "metadata": {},
   "outputs": [],
   "source": [
    "# Criando mapa base centralizado em São Paulo\n",
    "sp_center = [-23.55, -46.63]\n",
    "m = folium.Map(location=sp_center, zoom_start=11, tiles=\"CartoDB positron\")"
   ]
  },
  {
   "cell_type": "markdown",
   "id": "836cf470",
   "metadata": {},
   "source": [
    "Cria mapa de calor com origens dos pedestres de SP"
   ]
  },
  {
   "cell_type": "code",
   "execution_count": 209,
   "id": "29d6337c",
   "metadata": {},
   "outputs": [
    {
     "data": {
      "application/vnd.microsoft.datawrangler.viewer.v0+json": {
       "columns": [
        {
         "name": "index",
         "rawType": "int64",
         "type": "integer"
        },
        {
         "name": "CO_O_X",
         "rawType": "float64",
         "type": "float"
        },
        {
         "name": "CO_O_Y",
         "rawType": "float64",
         "type": "float"
        },
        {
         "name": "weight",
         "rawType": "float64",
         "type": "float"
        }
       ],
       "ref": "0fe9e131-1614-4be8-be29-02347f727415",
       "rows": [
        [
         "7",
         "-23.565856006340013",
         "-46.65109319136804",
         "8.632049717098348e-06"
        ],
        [
         "13",
         "-23.54923094448015",
         "-46.63746604043218",
         "1.4318565881442725e-05"
        ],
        [
         "14",
         "-23.54440659352724",
         "-46.643665178852224",
         "1.4318565881442725e-05"
        ],
        [
         "18",
         "-23.569669020026307",
         "-46.64577228461221",
         "1.4318565881442725e-05"
        ],
        [
         "19",
         "-23.55231716112832",
         "-46.63165640019417",
         "2.8473491009954594e-06"
        ]
       ],
       "shape": {
        "columns": 3,
        "rows": 5
       }
      },
      "text/html": [
       "<div>\n",
       "<style scoped>\n",
       "    .dataframe tbody tr th:only-of-type {\n",
       "        vertical-align: middle;\n",
       "    }\n",
       "\n",
       "    .dataframe tbody tr th {\n",
       "        vertical-align: top;\n",
       "    }\n",
       "\n",
       "    .dataframe thead th {\n",
       "        text-align: right;\n",
       "    }\n",
       "</style>\n",
       "<table border=\"1\" class=\"dataframe\">\n",
       "  <thead>\n",
       "    <tr style=\"text-align: right;\">\n",
       "      <th></th>\n",
       "      <th>CO_O_X</th>\n",
       "      <th>CO_O_Y</th>\n",
       "      <th>weight</th>\n",
       "    </tr>\n",
       "  </thead>\n",
       "  <tbody>\n",
       "    <tr>\n",
       "      <th>7</th>\n",
       "      <td>-23.565856</td>\n",
       "      <td>-46.651093</td>\n",
       "      <td>0.000009</td>\n",
       "    </tr>\n",
       "    <tr>\n",
       "      <th>13</th>\n",
       "      <td>-23.549231</td>\n",
       "      <td>-46.637466</td>\n",
       "      <td>0.000014</td>\n",
       "    </tr>\n",
       "    <tr>\n",
       "      <th>14</th>\n",
       "      <td>-23.544407</td>\n",
       "      <td>-46.643665</td>\n",
       "      <td>0.000014</td>\n",
       "    </tr>\n",
       "    <tr>\n",
       "      <th>18</th>\n",
       "      <td>-23.569669</td>\n",
       "      <td>-46.645772</td>\n",
       "      <td>0.000014</td>\n",
       "    </tr>\n",
       "    <tr>\n",
       "      <th>19</th>\n",
       "      <td>-23.552317</td>\n",
       "      <td>-46.631656</td>\n",
       "      <td>0.000003</td>\n",
       "    </tr>\n",
       "  </tbody>\n",
       "</table>\n",
       "</div>"
      ],
      "text/plain": [
       "       CO_O_X     CO_O_Y    weight\n",
       "7  -23.565856 -46.651093  0.000009\n",
       "13 -23.549231 -46.637466  0.000014\n",
       "14 -23.544407 -46.643665  0.000014\n",
       "18 -23.569669 -46.645772  0.000014\n",
       "19 -23.552317 -46.631656  0.000003"
      ]
     },
     "execution_count": 209,
     "metadata": {},
     "output_type": "execute_result"
    }
   ],
   "source": [
    "# Adicionando camada de calor ponderada por FE_VIA\n",
    "heat_data = pedestrians_coords[[\"CO_O_X\", \"CO_O_Y\", \"weight\"]].copy()\n",
    "\n",
    "heat_map = HeatMap(heat_data.values.tolist(), radius=8, blur=15, max_zoom=1).add_to(m)\n",
    "\n",
    "heat_data.head()"
   ]
  },
  {
   "cell_type": "markdown",
   "id": "6ab07a12",
   "metadata": {},
   "source": [
    "Adiciona polígonos das zonas OD como camada interativa"
   ]
  },
  {
   "cell_type": "code",
   "execution_count": 210,
   "id": "e2b83800",
   "metadata": {},
   "outputs": [
    {
     "data": {
      "text/plain": [
       "<folium.features.GeoJson at 0x71e75c732d80>"
      ]
     },
     "execution_count": 210,
     "metadata": {},
     "output_type": "execute_result"
    }
   ],
   "source": [
    "folium.GeoJson(\n",
    "    od_zones,\n",
    "    name=\"Zonas OD\",\n",
    "    style_function=lambda feature: {\n",
    "        \"fillColor\": \"transparent\",\n",
    "        \"color\": \"green\",\n",
    "        \"weight\": 1,\n",
    "        \"fillOpacity\": 0.1,\n",
    "    },\n",
    "    tooltip=folium.GeoJsonTooltip(\n",
    "        fields=[\"NumeroZona\", \"NomeZona\"],\n",
    "        aliases=[\"Zona:\", \"Nome:\"],\n",
    "        sticky=False\n",
    "    )\n",
    ").add_to(m)"
   ]
  },
  {
   "cell_type": "markdown",
   "id": "4b5f88b8",
   "metadata": {},
   "source": [
    "Intersects entre pontos e distritos para remover distritos que não pertencem ao município de São Paulo"
   ]
  },
  {
   "cell_type": "code",
   "execution_count": 211,
   "id": "191f433f",
   "metadata": {},
   "outputs": [
    {
     "name": "stdout",
     "output_type": "stream",
     "text": [
      "Número de distritos antes: 134\n",
      "Número de distritos em SP (com viagens a pé): 100\n"
     ]
    }
   ],
   "source": [
    "# GeoDataFrame de pontos a partir das coordenadas de pedestres\n",
    "gdf_points = geopandas.GeoDataFrame(\n",
    "    pedestrians_coords,\n",
    "    geometry=geopandas.points_from_xy(pedestrians_coords[\"CO_O_Y\"], pedestrians_coords[\"CO_O_X\"]),\n",
    "    crs=\"EPSG:4326\"\n",
    ")\n",
    "\n",
    "# spatial join: pontos x distritos\n",
    "points_in_districts = geopandas.sjoin(gdf_points, od_districts, how=\"inner\", predicate=\"intersects\")\n",
    "\n",
    "# apenas os distritos que tiveram interseção\n",
    "od_districts_sp = od_districts.loc[\n",
    "    od_districts.index.isin(points_in_districts[\"index_right\"].unique())\n",
    "].copy()\n",
    "\n",
    "print(f\"Número de distritos antes: {len(od_districts)}\")\n",
    "print(f\"Número de distritos em SP (com viagens a pé): {len(od_districts_sp)}\")\n"
   ]
  },
  {
   "cell_type": "markdown",
   "id": "1dd18d60",
   "metadata": {},
   "source": [
    "Remover municípios que restaram: 'Diadema', 'Guarulhos', 'Osasco', 'São Caetano do Sul'"
   ]
  },
  {
   "cell_type": "code",
   "execution_count": 212,
   "id": "7de87443",
   "metadata": {},
   "outputs": [],
   "source": [
    "od_districts_sp = od_districts_sp.query(\n",
    "    \"NomeDistri not in ['Diadema', 'Guarulhos', 'Osasco', 'São Caetano do Sul']\"\n",
    ")"
   ]
  },
  {
   "cell_type": "markdown",
   "id": "17e5b45f",
   "metadata": {},
   "source": [
    "Adiciona polígonos dos distritos como camada interativa"
   ]
  },
  {
   "cell_type": "code",
   "execution_count": 213,
   "id": "06440620",
   "metadata": {},
   "outputs": [
    {
     "data": {
      "text/plain": [
       "<folium.features.GeoJson at 0x71e764ccce00>"
      ]
     },
     "execution_count": 213,
     "metadata": {},
     "output_type": "execute_result"
    }
   ],
   "source": [
    "folium.GeoJson(\n",
    "    od_districts_sp,\n",
    "    name=\"Distritos\",\n",
    "    style_function=lambda feature: {\n",
    "        \"fillColor\": \"transparent\",\n",
    "        \"color\": \"red\",\n",
    "        \"weight\": 1,\n",
    "        \"fillOpacity\": 0.05,\n",
    "    },\n",
    "    tooltip=folium.GeoJsonTooltip(\n",
    "        fields=[\"NumeroDist\", \"NomeDistri\"],\n",
    "        aliases=[\"Distrito:\", \"Nome:\"],\n",
    "        sticky=False\n",
    "    ),\n",
    "    show=False\n",
    ").add_to(m)"
   ]
  },
  {
   "cell_type": "markdown",
   "id": "6fedde55",
   "metadata": {},
   "source": [
    "Salva o mapa"
   ]
  },
  {
   "cell_type": "code",
   "execution_count": 214,
   "id": "96750daa",
   "metadata": {},
   "outputs": [],
   "source": [
    "# Controle de camadas\n",
    "folium.LayerControl().add_to(m)\n",
    "\n",
    "m.save(\"../built_maps/ped_heat_map.html\")"
   ]
  }
 ],
 "metadata": {
  "kernelspec": {
   "display_name": ".venv (3.12.3)",
   "language": "python",
   "name": "python3"
  },
  "language_info": {
   "codemirror_mode": {
    "name": "ipython",
    "version": 3
   },
   "file_extension": ".py",
   "mimetype": "text/x-python",
   "name": "python",
   "nbconvert_exporter": "python",
   "pygments_lexer": "ipython3",
   "version": "3.12.3"
  }
 },
 "nbformat": 4,
 "nbformat_minor": 5
}
