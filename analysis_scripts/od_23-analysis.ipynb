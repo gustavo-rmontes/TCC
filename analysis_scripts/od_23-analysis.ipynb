{
 "cells": [
  {
   "cell_type": "markdown",
   "metadata": {},
   "source": [
    "# Análise OD-2023\n",
    "## Overview\n",
    "As seguintes análises foram feitas:\n",
    "- **Análise comparativa dos meios de transporte da OD 23** (quais os meios mais/menos utilizados) \n",
    "- **Caracterização do Perfil do Pedestre - perfil demográfico**\n",
    "  - Distribuição por sexo\n",
    "  - Distribuição por idade\n",
    "  - Distribuição por grau de instrução\n",
    "  - Distribuição por condição de atividade\n",
    "  - Distribuição por renda individual\n",
    "  - Relação entre renda individual e grau de instrução\n",
    "- **Análise Específica do Comportamento como Pedestre**\n",
    "  - Razões para caminhar\n",
    "  - Motivos de viagem (destino)\n",
    "- **Padrões de deslocamento**\n",
    "  - Distribuição de distâncias percorridas\n",
    "  - Relação entre distância e motivo da viagem (destino)\n",
    "\n",
    "### TODO\n",
    "- Comparar região metropolitana e municipal (verificar se coordenadas de origem e destino estão dentro da zona municipal)\n",
    "- Comparar OD-17 vs OD-23"
   ]
  },
  {
   "cell_type": "markdown",
   "metadata": {},
   "source": [
    "### Sumário das análises feitas até agora\n",
    "**Sumário - Análise do perfil demográfico dos pedestres**\n",
    "1. Distribuição por Sexo\n",
    "- *Feminino*: 56,02%\n",
    "- *Masculino*: 43,92%\n",
    "\n",
    "2. Distribuição por Faixa Etária\n",
    "- Idade média: 32,5 ano\n",
    "- Mediana (Q2): 31 anos\n",
    "- Faixa etária predominante: *31 a 50 anos*, com 28,57%\n",
    "- Segunda maior faixa: *0 a 12 anos*, com 24,10%\n",
    "- Menor faixa: *65 anos ou mais*, representando apenas 3,58%\n",
    "\n",
    "3. Distribuição por Raça/Cor\n",
    "- *Branca*: 49,01% (maior proporção)\n",
    "- *Parda*: 38,96%\n",
    "- *Preta*: 10,03%\n",
    "- *Amarela*: 1,21%\n",
    "- *Indígena*: 0,29% (menor proporção)\n",
    "\n",
    "4. Distribuição por Grau de Instrução\n",
    "- Faixa predominante: *Ensino médio completo ou superior incompleto* (29,06%)\n",
    "- Faixa menos representada: *Superior completo* (11,92%)\n",
    "\n",
    "5. Distribuição por Condição de Atividade\n",
    "- Principal grupo: Pessoas com trabalho regular (37,73%)\n",
    "- Segundo maior grupo: Estudantes (33,48%)\n",
    "\n",
    "6. Distribuição da Renda Individual\n",
    "- Renda média: R$ 1.643,54\n",
    "- 3º quartil (Q3): R$ 1.900,00\n",
    "\n",
    "7. Renda Individual Média por Grau de Instrução (Q95)\n",
    "- *Superior completo*: R$ 7.203,04\n",
    "- *Médio completo / Superior incompleto*: R$ 1.718,64\n",
    "\n",
    "**Sumário - Análise comportamental do pedestre**\n",
    "1. Distribuição dos Motivos para a Escolha do Deslocamento a Pé\n",
    "- Motivo mais frequente: *Pequena distância* (93,75%)\n",
    "- Segundo motivo mais frequente: *Condução cara* (2,33%)\n",
    "\n",
    "2. Distribuição dos Motivos de Destino dos Pedestres\n",
    "- Destino mais comum: *Residência* (47,39%)\n",
    "- Segundo mais comum: *Educação* (30,31%)\n",
    "- Terceiro mais comum: *Trabalho* (14,71%)\n",
    "\n",
    "3. Distribuição da Distância Percorrida pelos Pedestres\n",
    "- Faixa mais frequente: *Menor que 500 metros* (55,42%)\n",
    "- Segunda faixa mais frequente: *Entre 500m e 1000m* (28,44%)\n",
    "\n",
    "4. Relação entre a Distância Percorrida e o Motivo da Viagem\n",
    "- Maior distância média: *Procurar emprego* (~1300 metros)\n",
    "- Menor distância média: *Refeição* (~510 metros)\n"
   ]
  },
  {
   "cell_type": "code",
   "execution_count": null,
   "metadata": {},
   "outputs": [],
   "source": [
    "import pandas as pd\n",
    "import seaborn as sns\n",
    "import matplotlib.pyplot as plt\n",
    "from utils.models import meios_transporte, criterio_br"
   ]
  },
  {
   "cell_type": "code",
   "execution_count": null,
   "metadata": {},
   "outputs": [],
   "source": [
    "data_path = \"../data/OD/OD-2023/od23_all.csv\"\n",
    "df = pd.read_csv(data_path)\n",
    "# df.columns"
   ]
  },
  {
   "cell_type": "code",
   "execution_count": null,
   "metadata": {},
   "outputs": [],
   "source": [
    "df.head()"
   ]
  },
  {
   "cell_type": "markdown",
   "metadata": {},
   "source": [
    "## Comparação dos meios de transporte (OD-2023)"
   ]
  },
  {
   "cell_type": "markdown",
   "metadata": {},
   "source": [
    "Colunas importantes:\n",
    "- FE_VIA: fator de viagem\n",
    "- MODOPRIN: modo principal de viagem da pessoa"
   ]
  },
  {
   "cell_type": "code",
   "execution_count": null,
   "metadata": {},
   "outputs": [],
   "source": [
    "print(meios_transporte)"
   ]
  },
  {
   "cell_type": "code",
   "execution_count": null,
   "metadata": {},
   "outputs": [],
   "source": [
    "meios_fatorexp = df.groupby('MODOPRIN')['FE_VIA'].sum()\n",
    "meios_fatorexp = meios_fatorexp.sort_values()"
   ]
  },
  {
   "cell_type": "code",
   "execution_count": null,
   "metadata": {},
   "outputs": [],
   "source": [
    "meios_fatorexp.index = meios_fatorexp.index.map(lambda x: meios_transporte.get(x, \"Desconhecido\"))"
   ]
  },
  {
   "cell_type": "code",
   "execution_count": null,
   "metadata": {},
   "outputs": [],
   "source": [
    "plt.figure(figsize=(12, 8))\n",
    "meios_fatorexp.plot(kind='barh', color='skyblue', edgecolor='black')\n",
    "\n",
    "plt.xlabel('Soma de FE_VIA (em milhões)')\n",
    "plt.ylabel('Meios de Transporte')\n",
    "plt.title('Distribuição de Viagens por Meio de Transporte')\n",
    "\n",
    "for index, value in enumerate(meios_fatorexp):\n",
    "    plt.text(value, index, f'{value/1e6:.2f}M', va='center')  \n",
    "\n",
    "plt.xticks(ticks=plt.xticks()[0], labels=[f'{int(x/1e6)}M' for x in plt.xticks()[0]])\n",
    "\n",
    "plt.tight_layout()  \n",
    "plt.show()"
   ]
  },
  {
   "cell_type": "code",
   "execution_count": null,
   "metadata": {},
   "outputs": [],
   "source": [
    "meios_fatorexp_normalizado = (meios_fatorexp / meios_fatorexp.sum()) * 100\n",
    "\n",
    "plt.figure(figsize=(12, 8))\n",
    "meios_fatorexp_normalizado.plot(kind='barh', color='skyblue', edgecolor='black')\n",
    "\n",
    "plt.xlabel('Percentual (%)')\n",
    "plt.ylabel('Meios de Transporte')\n",
    "plt.title('Distribuição Percentual de Viagens por Meio de Transporte')\n",
    "\n",
    "for index, value in enumerate(meios_fatorexp_normalizado):\n",
    "    plt.text(value + 0.1, index, f'{value:.1f}%', va='center')\n",
    "\n",
    "plt.tight_layout()\n",
    "plt.show()"
   ]
  },
  {
   "cell_type": "markdown",
   "metadata": {},
   "source": [
    "5 meios de transporte mais representativos"
   ]
  },
  {
   "cell_type": "code",
   "execution_count": null,
   "metadata": {},
   "outputs": [],
   "source": [
    "meios_fatorexp_normalizado_head = meios_fatorexp_normalizado.sort_values(ascending=False).head()\n",
    "meios_fatorexp_normalizado_head = meios_fatorexp_normalizado_head.sort_values(ascending=True)\n",
    "\n",
    "# Substitua o nome longo pelo nome curto\n",
    "meios_fatorexp_normalizado_head.index = meios_fatorexp_normalizado_head.index.str.replace(\n",
    "    \"Ônibus/micro-ônibus/van do município de São Paulo\", \"OMOV da cidade de SP\"\n",
    ")\n",
    "\n",
    "plt.figure(figsize=(10, 8))\n",
    "\n",
    "meios_fatorexp_normalizado_head.plot(kind='barh', color='skyblue', edgecolor='black')\n",
    "plt.xlabel('Percentual (%)')\n",
    "plt.ylabel('Meios de Transporte')\n",
    "plt.title('Distribuição Percentual de Viagens por Meio de Transporte')\n",
    "\n",
    "for index, value in enumerate(meios_fatorexp_normalizado_head):\n",
    "    plt.text(value + 0.1, index, f'{value:.1f}%', va='center')\n",
    "\n",
    "plt.tight_layout()\n",
    "plt.show()"
   ]
  },
  {
   "cell_type": "markdown",
   "metadata": {},
   "source": [
    "### Análise comparativa percentual entre os meios de transporte\n",
    "\n",
    "Com os gráficos acima, observa-se que os meios de transporte mais utilizados são, em ordem decrescente: a pé, dirigindo automóvel, e ônibus(e derivados) do município de São Paulo.\n",
    "\n",
    "- A pé - 27.7%\n",
    "- Dirigindo automóvel - 21.0% \n",
    "- Ônibus(e derivados) do município de São Paulo - 10.7%"
   ]
  },
  {
   "cell_type": "markdown",
   "metadata": {},
   "source": [
    "## Caracterização do Perfil do Pedestre"
   ]
  },
  {
   "cell_type": "markdown",
   "metadata": {},
   "source": [
    "Tabelas de contingência entre sexo e modo de transporte"
   ]
  },
  {
   "cell_type": "code",
   "execution_count": null,
   "metadata": {},
   "outputs": [],
   "source": [
    "pd.crosstab(df['SEXO'], df['MODOPRIN'], normalize='index')"
   ]
  },
  {
   "cell_type": "markdown",
   "metadata": {},
   "source": [
    "Filtrando apenas viagens a pé"
   ]
  },
  {
   "cell_type": "code",
   "execution_count": null,
   "metadata": {},
   "outputs": [],
   "source": [
    "# Filtrando pedestres\n",
    "pedestrians = df.query('MODOPRIN == 17').copy()"
   ]
  },
  {
   "cell_type": "markdown",
   "metadata": {},
   "source": [
    "### Pré-processamento dos Dados\n",
    "**Categorização:**\n",
    "- Faixas etárias\n",
    "- Distâncias percorridas\n",
    "- Critério BR\n",
    "- Sexo\n",
    "- Raça"
   ]
  },
  {
   "cell_type": "code",
   "execution_count": null,
   "metadata": {},
   "outputs": [],
   "source": [
    "# Categorização da distância (em metros)\n",
    "bins_distancia = [0, 500, 1000, 2000, 5000, float('inf')]\n",
    "labels_distancia = ['Muito curta (<500m)', 'Curta (500-1000m)', 'Média (1001-2000m)', \n",
    "                   'Longa (2001-5000m)', 'Muito longa (>5000m)']\n",
    "\n",
    "pedestrians['CAT_DISTANCIA'] = pd.cut(pedestrians['DISTANCIA'], bins=bins_distancia, labels=labels_distancia)"
   ]
  },
  {
   "cell_type": "code",
   "execution_count": null,
   "metadata": {},
   "outputs": [],
   "source": [
    "# Categorização de idade\n",
    "bins_idade = [0, 12, 18, 30, 50, 65, 120]\n",
    "labels_idade = ['Criança (0-12)', 'Adolescente (13-18)', 'Jovem (19-30)', \n",
    "               'Adulto (31-50)', 'Adulto 50+ (51-65)', 'Idoso (65+)']\n",
    "\n",
    "pedestrians['CAT_IDADE'] = pd.cut(pedestrians['IDADE'], bins=bins_idade, labels=labels_idade)"
   ]
  },
  {
   "cell_type": "code",
   "execution_count": null,
   "metadata": {},
   "outputs": [],
   "source": [
    "# Mapeamento dos critérios econômicos\n",
    "pedestrians['CLASSE_ECON'] = pedestrians['CRITERIOBR'].map(criterio_br)\n",
    "pedestrians['CLASSE_ECON'].value_counts()"
   ]
  },
  {
   "cell_type": "code",
   "execution_count": null,
   "metadata": {},
   "outputs": [],
   "source": [
    "# Mapeamento do sexo\n",
    "sexo_labels = {1: 'Masculino', 2: 'Feminino'}\n",
    "pedestrians['SEXO_LABEL'] = pedestrians['SEXO'].map(sexo_labels)"
   ]
  },
  {
   "cell_type": "code",
   "execution_count": null,
   "metadata": {},
   "outputs": [],
   "source": [
    "# Mapeamento da raça\n",
    "raca_labels = {1:\"Branca\", 2:\"Preta\", 3:\"Amarela\", 4:\"Parda\", 5:\"Indígena\", 6:\"Sem declaração\"}\n",
    "pedestrians['RACA_LABEL'] = pedestrians['RAÇA'].map(raca_labels)"
   ]
  },
  {
   "cell_type": "markdown",
   "metadata": {},
   "source": [
    "Peso (FE_PESS) total de pedestres"
   ]
  },
  {
   "cell_type": "code",
   "execution_count": null,
   "metadata": {},
   "outputs": [],
   "source": [
    "pedestrians_weight = pedestrians['FE_VIA'].sum()"
   ]
  },
  {
   "cell_type": "markdown",
   "metadata": {},
   "source": [
    "### Análise Descritiva Básica\n",
    "**Perfil demográfico**\n",
    "- Distribuição por sexo (SEXO)\n",
    "- Distribuição por idade (IDADE)\n",
    "- Distribuição por raça (RAÇA)\n",
    "- Distribuição por grau de instrução (GRAU_INS)\n",
    "\n",
    "**Características socioeconômicas**\n",
    "- Distribuição por condição de atividade (CD_ATIVI)\n",
    "- Distribuição de renda (VL_REN_I)\n",
    "- Relação entre renda e modo pedestre"
   ]
  },
  {
   "cell_type": "code",
   "execution_count": null,
   "metadata": {},
   "outputs": [],
   "source": [
    "sexo_dist = pedestrians.groupby('SEXO_LABEL')['FE_VIA'].sum() / pedestrians_weight * 100\n",
    "print(\"Distribuição por sexo (%):\\n\", sexo_dist.round(2))"
   ]
  },
  {
   "cell_type": "code",
   "execution_count": null,
   "metadata": {},
   "outputs": [],
   "source": [
    "sexo_dist_normalized = sexo_dist / sexo_dist.sum() * 100\n",
    "sexo_dist_normalized.plot(kind='bar', title='Distribuição por Sexo dos Pedestres', ylabel='%')\n",
    "plt.xticks(rotation=0)\n",
    "plt.tight_layout()\n",
    "plt.show()"
   ]
  },
  {
   "cell_type": "code",
   "execution_count": null,
   "metadata": {},
   "outputs": [],
   "source": [
    "idade_stats = pedestrians['IDADE'].describe()\n",
    "print(\"\\nEstatísticas de idade (pedestres):\\n\", idade_stats.round(2))"
   ]
  },
  {
   "cell_type": "code",
   "execution_count": null,
   "metadata": {},
   "outputs": [],
   "source": [
    "idade_cat_dist = (pedestrians.groupby('CAT_IDADE', observed=False)['FE_VIA'].sum() / pedestrians_weight * 100).reindex(labels_idade)\n",
    "idade_cat_dist.plot(kind='bar', edgecolor='black')\n",
    "\n",
    "plt.title('Distribuição por Idade de Pedestres')\n",
    "plt.xlabel('Faixa Etária')\n",
    "plt.ylabel('Percentual')\n",
    "plt.xticks(rotation=45)\n",
    "plt.tight_layout()\n",
    "plt.show()"
   ]
  },
  {
   "cell_type": "code",
   "execution_count": null,
   "metadata": {},
   "outputs": [],
   "source": [
    "print(idade_cat_dist.round(2))"
   ]
  },
  {
   "cell_type": "code",
   "execution_count": null,
   "metadata": {},
   "outputs": [],
   "source": [
    "raca_dist = pedestrians.groupby('RACA_LABEL')['FE_VIA'].sum() / pedestrians_weight * 100\n",
    "print(\"Distribuição por raça (%):\\n\", raca_dist.round(2))"
   ]
  },
  {
   "cell_type": "code",
   "execution_count": null,
   "metadata": {},
   "outputs": [],
   "source": [
    "raca_dist_normalized = raca_dist / raca_dist.sum() * 100\n",
    "raca_dist_normalized.plot(kind='bar', title='Distribuição por Raça dos Pedestres', ylabel='%', xlabel=\"Raça\")\n",
    "plt.xticks(rotation=0)\n",
    "plt.tight_layout()\n",
    "plt.show()"
   ]
  },
  {
   "cell_type": "code",
   "execution_count": null,
   "metadata": {},
   "outputs": [],
   "source": [
    "grau_labels = {\n",
    "    1: 'Fundamental I Incompleto',\n",
    "    2: 'Fundamental I Comp. / Fund II Incomp.',\n",
    "    3: 'Fundamental II Comp. / Médio Incomp.',\n",
    "    4: 'Médio Comp. / Sup. Incompleto',\n",
    "    5: 'Superior Completo'\n",
    "}\n",
    "pedestrians['GRAU_LABEL'] = pedestrians['GRAU_INS'].map(grau_labels)\n",
    "\n",
    "grau_dist = pedestrians.groupby('GRAU_LABEL')['FE_VIA'].sum()\n",
    "\n",
    "grau_dist_normalized = grau_dist / grau_dist.sum() * 100\n",
    "\n",
    "grau_dist_normalized = grau_dist_normalized.sort_values(ascending=False)\n",
    "\n",
    "grau_dist_normalized.plot(kind='barh', title='Grau de Instrução dos Pedestres', xlabel='Percentual', ylabel='Grau de instrução')\n",
    "plt.tight_layout()\n",
    "plt.show()\n"
   ]
  },
  {
   "cell_type": "code",
   "execution_count": null,
   "metadata": {},
   "outputs": [],
   "source": [
    "print(grau_dist_normalized.round(2))"
   ]
  },
  {
   "cell_type": "code",
   "execution_count": null,
   "metadata": {},
   "outputs": [],
   "source": [
    "atividade_labels = {\n",
    "    1: 'Trabalho regular',\n",
    "    2: 'Bico',\n",
    "    3: 'Licença médica',\n",
    "    4: 'Aposentado',\n",
    "    5: 'Sem trabalho',\n",
    "    6: 'Nunca trabalhou',\n",
    "    7: 'Dona de casa',\n",
    "    8: 'Estudante'\n",
    "}\n",
    "pedestrians['ATIVI_LABEL'] = pedestrians['CD_ATIVI'].map(atividade_labels)\n",
    "\n",
    "ativi_dist = pedestrians.groupby('ATIVI_LABEL')['FE_VIA'].sum()\n",
    "\n",
    "ativi_dist_normalized = ativi_dist / ativi_dist.sum() * 100\n",
    "\n",
    "ativi_dist_normalized = ativi_dist_normalized.sort_values(ascending=False)\n",
    "\n",
    "ativi_dist_normalized.plot(kind='bar', title='Condição de Atividade dos Pedestres (%)', ylabel='Percentual')\n",
    "plt.xticks(rotation=45, ha='right')\n",
    "plt.tight_layout()\n",
    "plt.show()\n"
   ]
  },
  {
   "cell_type": "code",
   "execution_count": null,
   "metadata": {},
   "outputs": [],
   "source": [
    "print(ativi_dist_normalized.round(2))"
   ]
  },
  {
   "cell_type": "code",
   "execution_count": null,
   "metadata": {},
   "outputs": [],
   "source": [
    "renda_stats = pedestrians['VL_REN_I'].describe()\n",
    "p95_renda_stats = pedestrians['VL_REN_I'].quantile(0.95)\n",
    "print(\"\\nEstatísticas da renda individual (pedestres):\\n\", renda_stats.round(2))"
   ]
  },
  {
   "cell_type": "code",
   "execution_count": null,
   "metadata": {},
   "outputs": [],
   "source": [
    "plt.figure(figsize=(8, 5))\n",
    "sns.violinplot(data=pedestrians, x='VL_REN_I')\n",
    "plt.title('Violinplot da Renda Individual de Pedestres')\n",
    "plt.xlabel('Renda (R$)')\n",
    "plt.xlim(0, p95_renda_stats)\n",
    "plt.tight_layout()\n",
    "plt.show()"
   ]
  },
  {
   "cell_type": "code",
   "execution_count": null,
   "metadata": {},
   "outputs": [],
   "source": [
    "renda_grau = pedestrians.groupby('GRAU_LABEL')['VL_REN_I'].mean().sort_values()\n",
    "renda_grau.plot(kind='barh', title='Renda Média por Grau de Instrução de Pedestres', xlabel='Renda Média (R$)', ylabel='Grau de instrução')\n",
    "plt.tight_layout()\n",
    "plt.show()"
   ]
  },
  {
   "cell_type": "code",
   "execution_count": null,
   "metadata": {},
   "outputs": [],
   "source": [
    "print(renda_grau.round(2))"
   ]
  },
  {
   "cell_type": "markdown",
   "metadata": {},
   "source": [
    "**Sumário - Análise do perfil demográfico dos pedestres**\n",
    "1. Distribuição por Sexo\n",
    "- *Feminino*: 56,02%\n",
    "- *Masculino*: 43,92%\n",
    "\n",
    "2. Distribuição por Faixa Etária\n",
    "- Idade média: 32,5 ano\n",
    "- Mediana (Q2): 31 anos\n",
    "- Faixa etária predominante: *31 a 50 anos*, com 28,57%\n",
    "- Segunda maior faixa: *0 a 12 anos*, com 24,10%\n",
    "- Menor faixa: *65 anos ou mais*, representando apenas 3,58%\n",
    "\n",
    "3. Distribuição por Raça/Cor\n",
    "- *Branca*: 49,01% (maior proporção)\n",
    "- *Parda*: 38,96%\n",
    "- *Preta*: 10,03%\n",
    "- *Amarela*: 1,21%\n",
    "- *Indígena*: 0,29% (menor proporção)\n",
    "\n",
    "4. Distribuição por Grau de Instrução\n",
    "- Faixa predominante: *Ensino médio completo ou superior incompleto* (29,06%)\n",
    "- Faixa menos representada: *Superior completo* (11,92%)\n",
    "\n",
    "5. Distribuição por Condição de Atividade\n",
    "- Principal grupo: Pessoas com trabalho regular (37,73%)\n",
    "- Segundo maior grupo: Estudantes (33,48%)\n",
    "\n",
    "6. Distribuição da Renda Individual\n",
    "- Renda média: R$ 1.643,54\n",
    "- 3º quartil (Q3): R$ 1.900,00\n",
    "\n",
    "7. Renda Individual Média por Grau de Instrução (Q95)\n",
    "- *Superior completo*: R$ 7.203,04\n",
    "- *Médio completo / Superior incompleto*: R$ 1.718,64"
   ]
  },
  {
   "cell_type": "markdown",
   "metadata": {},
   "source": [
    "### Análise Específica do Comportamento como Pedestre\n",
    "**Motivações**\n",
    "- Razões para caminhar (PE_BICI)\n",
    "- Motivos de viagem (MOTIVO_D)\n",
    "\n",
    "**Padrões de deslocamento**\n",
    "- Distribuição de distâncias percorridas (DISTANCIA)\n",
    "- Relação entre distância e motivo da viagem (MOTIVO_D)\n",
    "- Relação entre distância e características demográficas"
   ]
  },
  {
   "cell_type": "markdown",
   "metadata": {},
   "source": [
    "**Análise da Escolha pelo Meio A Pé (PE_BICI)**"
   ]
  },
  {
   "cell_type": "code",
   "execution_count": null,
   "metadata": {},
   "outputs": [],
   "source": [
    "pe_bici_labels = {1:\"Pequena distância\", 2:\"Condução cara\", 3:\"Ponto/Estação distante\", 4:\"Condução demora para passar\", 5:\"Viagem demorada\", 6:\"Condução lotada\", 7:\"Atividade física\", 8:\"Medo de contágio\", 9:\"Outros motivos\"}\n",
    "pedestrians[\"PE_BICI_LABEL\"] = pedestrians[\"PE_BICI\"].map(pe_bici_labels)"
   ]
  },
  {
   "cell_type": "code",
   "execution_count": null,
   "metadata": {},
   "outputs": [],
   "source": [
    "pe_bici_dist = pedestrians.groupby('PE_BICI_LABEL')['FE_VIA'].sum() / pedestrians_weight * 100\n",
    "print(\"Distribuição por PE_BICI (%):\\n\", pe_bici_dist.round(2))"
   ]
  },
  {
   "cell_type": "code",
   "execution_count": null,
   "metadata": {},
   "outputs": [],
   "source": [
    "pe_bici_dist_normalized = pe_bici_dist / pe_bici_dist.sum() * 100\n",
    "pe_bici_dist_normalized = pe_bici_dist_normalized.sort_values(ascending=False)\n",
    "\n",
    "plt.figure(figsize=(10, 6))\n",
    "pe_bici_dist_normalized.plot(\n",
    "    kind='bar',\n",
    "    title='Distribuição dos Motivos Declarados para a Escolha do Deslocamento a Pé',\n",
    "    ylabel='%',\n",
    "    xlabel=\"Motivos Declarados\"\n",
    ")\n",
    "plt.xticks(rotation=45, ha='right')\n",
    "plt.tight_layout()\n",
    "plt.show()"
   ]
  },
  {
   "cell_type": "code",
   "execution_count": null,
   "metadata": {},
   "outputs": [],
   "source": [
    "pe_bici_dist_normalized_head = pe_bici_dist_normalized.sort_values(ascending=False).head()\n",
    "pe_bici_dist_normalized_head = pe_bici_dist_normalized_head.sort_values(ascending=False)\n",
    "\n",
    "plt.figure(figsize=(10, 6))\n",
    "pe_bici_dist_normalized_head.plot(\n",
    "    kind='bar',\n",
    "    title='Distribuição dos Motivos Declarados para a Escolha do Deslocamento a Pé',\n",
    "    ylabel='%',\n",
    "    xlabel=\"Motivos Declarados\"\n",
    ")\n",
    "plt.xticks(rotation=45, ha='right')\n",
    "plt.tight_layout()\n",
    "plt.show()"
   ]
  },
  {
   "cell_type": "markdown",
   "metadata": {},
   "source": [
    "**Distribuição dos Motivos de deslocamento ao Destino (MOTIVO_D)**"
   ]
  },
  {
   "cell_type": "code",
   "execution_count": null,
   "metadata": {},
   "outputs": [],
   "source": [
    "motivo_labels = {1:\"Trabalho Indústria\", 2:\"Trabalho Comércio\", 3:\"Trabalho Serviços\", 4:\"Escola/Educação\", 5:\"Compras\", 6:\"Médico/Dentista/Saúde\", 7:\"Recreação/Visitas/Lazer\", 8:\"Residência\", 9:\"Procurar Emprego\", 10:\"Assuntos Pessoais\", 11:\"Refeição\"\n",
    "}\n",
    "pedestrians[\"MOTIVO_LABEL\"] = pedestrians[\"MOTIVO_D\"].map(motivo_labels)"
   ]
  },
  {
   "cell_type": "code",
   "execution_count": null,
   "metadata": {},
   "outputs": [],
   "source": [
    "motivo_d_dist = pedestrians.groupby('MOTIVO_LABEL')['FE_VIA'].sum() / pedestrians_weight * 100\n",
    "motivo_d_dist = motivo_d_dist.sort_values(ascending=False)\n",
    "print(\"Distribuição por motivo de deslocamento ao destino (%):\\n\", motivo_d_dist.round(2))"
   ]
  },
  {
   "cell_type": "code",
   "execution_count": null,
   "metadata": {},
   "outputs": [],
   "source": [
    "motivo_d_dist_normalized = motivo_d_dist / motivo_d_dist.sum() * 100\n",
    "motivo_d_dist_normalized = motivo_d_dist_normalized.sort_values(ascending=False)\n",
    "\n",
    "plt.figure(figsize=(10, 6))\n",
    "motivo_d_dist_normalized.plot(\n",
    "    kind='bar',\n",
    "    title='Distribuição dos Motivos o Deslocamento ao Destino',\n",
    "    ylabel='%',\n",
    "    xlabel=\"Motivos Declarados\"\n",
    ")\n",
    "plt.xticks(rotation=45, ha='right')\n",
    "plt.tight_layout()\n",
    "plt.show()"
   ]
  },
  {
   "cell_type": "markdown",
   "metadata": {},
   "source": [
    "**Distribuição de distâncias percorridas (DISTANCIA)**"
   ]
  },
  {
   "cell_type": "code",
   "execution_count": null,
   "metadata": {},
   "outputs": [],
   "source": [
    "distancia_distribution = pedestrians.groupby('CAT_DISTANCIA', observed=False)['FE_VIA'].sum() / pedestrians_weight * 100\n",
    "print(\"Distribuição por motivo de deslocamento ao destino (%):\\n\", distancia_distribution.round(2))"
   ]
  },
  {
   "cell_type": "code",
   "execution_count": null,
   "metadata": {},
   "outputs": [],
   "source": [
    "distancia_distribution_normalized = distancia_distribution / distancia_distribution.sum() * 100\n",
    "distancia_distribution_normalized = distancia_distribution_normalized.sort_values(ascending=False)\n",
    "\n",
    "plt.figure(figsize=(10, 6))\n",
    "distancia_distribution_normalized.plot(\n",
    "    kind='bar',\n",
    "    title='Distribuição dos Motivos o Deslocamento ao Destino',\n",
    "    ylabel='%',\n",
    "    xlabel=\"Motivos Declarados\"\n",
    ")\n",
    "plt.xticks(rotation=45, ha='right')\n",
    "plt.tight_layout()\n",
    "plt.show()"
   ]
  },
  {
   "cell_type": "markdown",
   "metadata": {},
   "source": [
    "**Relação entre distância e motivo da viagem**"
   ]
  },
  {
   "cell_type": "code",
   "execution_count": null,
   "metadata": {},
   "outputs": [],
   "source": [
    "distancia_motivo = pedestrians.groupby('MOTIVO_LABEL')['DISTANCIA'].mean().sort_values(ascending=False)\n",
    "print(distancia_motivo.round(2))"
   ]
  },
  {
   "cell_type": "code",
   "execution_count": null,
   "metadata": {},
   "outputs": [],
   "source": [
    "distancia_motivo.plot(kind='barh', title='Distância Média por Motivo ao Destino de Pedestres', xlabel='Distância Média (m)', ylabel=\"Motivo ao Destino\")\n",
    "plt.tight_layout()\n",
    "plt.show()"
   ]
  },
  {
   "cell_type": "markdown",
   "metadata": {},
   "source": [
    "**Sumário - Análise comportamental do pedestre**\n",
    "1. Distribuição dos Motivos para a Escolha do Deslocamento a Pé\n",
    "- Motivo mais frequente: *Pequena distância* (93,75%)\n",
    "- Segundo motivo mais frequente: *Condução cara* (2,33%)\n",
    "\n",
    "2. Distribuição dos Motivos de Destino dos Pedestres\n",
    "- Destino mais comum: *Residência* (47,39%)\n",
    "- Segundo mais comum: *Educação* (30,31%)\n",
    "- Terceiro mais comum: *Trabalho* (14,71%)\n",
    "\n",
    "3. Distribuição da Distância Percorrida pelos Pedestres\n",
    "- Faixa mais frequente: *Menor que 500 metros* (55,42%)\n",
    "- Segunda faixa mais frequente: *Entre 500m e 1000m* (28,44%)\n",
    "\n",
    "4. Relação entre a Distância Percorrida e o Motivo da Viagem\n",
    "- Maior distância média: *Procurar emprego* (~1300 metros)\n",
    "- Menor distância média: *Refeição* (~510 metros)"
   ]
  }
 ],
 "metadata": {
  "kernelspec": {
   "display_name": ".venv",
   "language": "python",
   "name": "python3"
  },
  "language_info": {
   "codemirror_mode": {
    "name": "ipython",
    "version": 3
   },
   "file_extension": ".py",
   "mimetype": "text/x-python",
   "name": "python",
   "nbconvert_exporter": "python",
   "pygments_lexer": "ipython3",
   "version": "3.12.3"
  }
 },
 "nbformat": 4,
 "nbformat_minor": 2
}
