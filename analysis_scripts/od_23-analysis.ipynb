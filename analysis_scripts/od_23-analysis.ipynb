{
 "cells": [
  {
   "cell_type": "markdown",
   "metadata": {},
   "source": [
    "# Análise OD-2023\n",
    "\n",
    "As seguintes análises foram feitas:\n",
    "- Análise comparativa dos meios de transporte da OD 23 (quais os meios mais/menos utilizados) "
   ]
  },
  {
   "cell_type": "code",
   "execution_count": null,
   "metadata": {},
   "outputs": [],
   "source": [
    "import pandas as pd\n",
    "import seaborn as sns\n",
    "import matplotlib.pyplot as plt\n",
    "from utils.models import meios_transporte, criterio_br"
   ]
  },
  {
   "cell_type": "code",
   "execution_count": null,
   "metadata": {},
   "outputs": [],
   "source": [
    "data_path = \"../data/OD/OD-2023/od23_all.csv\"\n",
    "df = pd.read_csv(data_path)\n",
    "# df.columns"
   ]
  },
  {
   "cell_type": "code",
   "execution_count": null,
   "metadata": {},
   "outputs": [],
   "source": [
    "df.head()"
   ]
  },
  {
   "cell_type": "markdown",
   "metadata": {},
   "source": [
    "## Comparação dos meios de transporte (OD-2023)"
   ]
  },
  {
   "cell_type": "markdown",
   "metadata": {},
   "source": [
    "Colunas importantes:\n",
    "- FE_PESS: fator de expansão da pessoa\n",
    "- MODOPRIN: modo principal de viagem da pessoa"
   ]
  },
  {
   "cell_type": "code",
   "execution_count": null,
   "metadata": {},
   "outputs": [],
   "source": [
    "print(meios_transporte)"
   ]
  },
  {
   "cell_type": "code",
   "execution_count": null,
   "metadata": {},
   "outputs": [],
   "source": [
    "meios_fatorexp = df.groupby('MODOPRIN')['FE_PESS'].sum()\n",
    "meios_fatorexp = meios_fatorexp.sort_values()"
   ]
  },
  {
   "cell_type": "code",
   "execution_count": null,
   "metadata": {},
   "outputs": [],
   "source": [
    "meios_fatorexp.index = meios_fatorexp.index.map(lambda x: meios_transporte.get(x, \"Desconhecido\"))"
   ]
  },
  {
   "cell_type": "code",
   "execution_count": null,
   "metadata": {},
   "outputs": [],
   "source": [
    "plt.figure(figsize=(12, 8))\n",
    "meios_fatorexp.plot(kind='barh', color='skyblue', edgecolor='black')\n",
    "\n",
    "plt.xlabel('Soma de FE_PESS (em milhões)')\n",
    "plt.ylabel('Meios de Transporte')\n",
    "plt.title('Distribuição de FE_PESS por Meio de Transporte')\n",
    "\n",
    "for index, value in enumerate(meios_fatorexp):\n",
    "    plt.text(value, index, f'{value/1e6:.2f}M', va='center')  \n",
    "\n",
    "plt.xticks(ticks=plt.xticks()[0], labels=[f'{int(x/1e6)}M' for x in plt.xticks()[0]])\n",
    "\n",
    "plt.tight_layout()  \n",
    "plt.show()"
   ]
  },
  {
   "cell_type": "code",
   "execution_count": null,
   "metadata": {},
   "outputs": [],
   "source": [
    "meios_fatorexp_normalizado = (meios_fatorexp / meios_fatorexp.sum()) * 100\n",
    "\n",
    "plt.figure(figsize=(12, 8))\n",
    "meios_fatorexp_normalizado.plot(kind='barh', color='skyblue', edgecolor='black')\n",
    "\n",
    "plt.xlabel('Percentual (%)')\n",
    "plt.ylabel('Meios de Transporte')\n",
    "plt.title('Distribuição Percentual de FE_PESS por Meio de Transporte')\n",
    "\n",
    "for index, value in enumerate(meios_fatorexp_normalizado):\n",
    "    plt.text(value + 0.1, index, f'{value:.1f}%', va='center')\n",
    "\n",
    "plt.tight_layout()\n",
    "plt.show()"
   ]
  },
  {
   "cell_type": "markdown",
   "metadata": {},
   "source": [
    "### Análise comparativa percentual entre os meios de transporte\n",
    "\n",
    "Com os gráficos acima, observa-se que os meios de transporte mais utilizados são, em ordem decrescente: a pé, dirigindo automóvel, e ônibus(e derivados) do município de São Paulo.\n",
    "\n",
    "- A pé - 27.7%\n",
    "- Dirigindo automóvel - 21.0% \n",
    "- Ônibus(e derivados) do município de São Paulo - 10.7%"
   ]
  },
  {
   "cell_type": "markdown",
   "metadata": {},
   "source": [
    "## Caracterização do Perfil do Pedestre\n",
    "\n",
    "Colunas importantes:\n",
    "- FE_PESS: fator expansão da pessoa ('peso da linha')\n",
    "- MODOPRIN: modo principal\n",
    "\n",
    "01: Metrô, 02: Trem, 03:Monotrilho, 04: Ônibus/micro-ônibus/van do município de São Paulo, 05: Ônibus/micro-ônibus/van de outros municípios, 06: Ônibus/micro-ônibus/van metropolitano, 07: Transporte Fretado, 08: Transporte Escolar, 09: Dirigindo Automóvel, 10: Passageiro de Automóvel, 11: Táxi Convencional, 12: Táxi não Convencional / aplicativo, 13: Dirigindo Moto, 14: Passageiro de Moto, 15: Passageiro de Mototáxi, 16: Bicicleta, 17: A Pé, 18: Outros\n",
    "\n",
    "- IDADE\n",
    "- SEXO\n",
    "\n",
    "1: Masculino, 2: Feminino, 3: Não respondeu\n",
    "\n",
    "\n",
    "- ESTUDA: estuda atualmente\n",
    "\n",
    "1: Não, 2: Creche/Pré-Escola, 3: 1º Grau /Fundamental, 4: 2º Grau/Médio, 5: Superior/Universitário, 6: Outros\n",
    "\n",
    "- GRAU_INS: grau de instrução\n",
    "\n",
    "1: Não Alfabetizado/Fundamental I Incompleto, 2: Fundamental I Completo/Fundamental II Incompleto, 3: Fundamental II Completo/Médio Incompleto, 4: Médio Completo/Superior Incompleto, 5: Superior Completo\n",
    "\n",
    "- CD_ATIVI: condição atividade (trabalho regular, bico...)\n",
    "\n",
    "1: Tem trabalho regular, 2: Faz bico, 3: Em Licença Médica, 4: Aposentado/Pensionista, 5: Sem Trabalho, 6: Nunca Trabalhou, 7: Dona de Casa, 8: Estudante\n",
    "\n",
    "- VL_REN_I: valor da renda individual\n",
    "\n",
    "- MOTIVO_D: motivo no destino\n",
    "\n",
    "1: Trabalho Indústria, 2: Trabalho Comércio, 3: Trabalho Serviços, 4: Escola/Educação, 5: Compras, 6: Médico/Dentista/Saúde, 7: Recreação/Visitas/Lazer, 8: Residência, 9: Procurar Emprego, 10: Assuntos Pessoais, 11: Refeição\n",
    "\n",
    "- PE_BICI: por que viajou a pé ou bicicleta\n",
    "\n",
    "1: Pequena distância, 2: Condução cara, 3: Ponto/Estação distante, 4: Condução demora para passar, 5: Viagem demorada, 6: Condução lotada, 7: Atividade física, 8: Medo de contágio, 9: Outros motivos\n",
    "\n",
    "- DISTANCIA: distância da viagem em metros\n",
    "\n",
    "- CRITERIOBR: Critério de Classificação Econômica Brasil\n",
    "\n",
    "1: A, 2: B1, 3: B2, 4: C1, 5: C2, 6:  D e E"
   ]
  },
  {
   "cell_type": "markdown",
   "metadata": {},
   "source": [
    "Correlação entre variáveis"
   ]
  },
  {
   "cell_type": "code",
   "execution_count": null,
   "metadata": {},
   "outputs": [],
   "source": [
    "df[['IDADE', 'VL_REN_I', 'DISTANCIA', 'FE_PESS']].corr(method='pearson')"
   ]
  },
  {
   "cell_type": "code",
   "execution_count": null,
   "metadata": {},
   "outputs": [],
   "source": [
    "df[['IDADE', 'VL_REN_I', 'DISTANCIA', 'FE_PESS']].corr(method='spearman')"
   ]
  },
  {
   "cell_type": "markdown",
   "metadata": {},
   "source": [
    "Tabelas de contingência entre sexo e modo de transporte"
   ]
  },
  {
   "cell_type": "code",
   "execution_count": null,
   "metadata": {},
   "outputs": [],
   "source": [
    "pd.crosstab(df['SEXO'], df['MODOPRIN'], normalize='index')"
   ]
  },
  {
   "cell_type": "markdown",
   "metadata": {},
   "source": [
    "Definição do Objeto de Estudo - pedestres"
   ]
  },
  {
   "cell_type": "code",
   "execution_count": null,
   "metadata": {},
   "outputs": [],
   "source": [
    "# Filtrando pedestres\n",
    "pedestrians = df.query('MODOPRIN == 17')"
   ]
  },
  {
   "cell_type": "markdown",
   "metadata": {},
   "source": [
    "### Pré-processamento dos Dados\n",
    "Criação de categorias: Faixas etárias e Distâncias percorridas\n",
    "\n",
    "Categorização do Criterio BR e Sexo"
   ]
  },
  {
   "cell_type": "code",
   "execution_count": null,
   "metadata": {},
   "outputs": [],
   "source": [
    "# Categorização da distância (em metros)\n",
    "bins_distancia = [0, 500, 1000, 2000, 5000, float('inf')]\n",
    "labels_distancia = ['Muito curta (<500m)', 'Curta (500-1000m)', 'Média (1001-2000m)', \n",
    "                   'Longa (2001-5000m)', 'Muito longa (>5000m)']\n",
    "\n",
    "pedestrians['CAT_DISTANCIA'] = pd.cut(pedestrians['DISTANCIA'], bins=bins_distancia, labels=labels_distancia)"
   ]
  },
  {
   "cell_type": "code",
   "execution_count": null,
   "metadata": {},
   "outputs": [],
   "source": [
    "# Categorização de idade\n",
    "bins_idade = [0, 12, 18, 30, 50, 65, 120]\n",
    "labels_idade = ['Criança (0-12)', 'Adolescente (13-18)', 'Jovem (19-30)', \n",
    "               'Adulto (31-50)', 'Adulto 50+ (51-65)', 'Idoso (65+)']\n",
    "\n",
    "pedestrians['CAT_IDADE'] = pd.cut(pedestrians['IDADE'], bins=bins_idade, labels=labels_idade)"
   ]
  },
  {
   "cell_type": "code",
   "execution_count": null,
   "metadata": {},
   "outputs": [],
   "source": [
    "# Mapeamento dos critérios econômicos\n",
    "pedestrians['CLASSE_ECON'] = pedestrians['CRITERIOBR'].map(criterio_br)\n",
    "pedestrians['CLASSE_ECON'].value_counts()"
   ]
  },
  {
   "cell_type": "code",
   "execution_count": null,
   "metadata": {},
   "outputs": [],
   "source": [
    "# Mapeamento do sexo\n",
    "sexo_labels = {1: 'Masculino', 2: 'Feminino'}\n",
    "pedestrians['SEXO_LABEL'] = pedestrians['SEXO'].map(sexo_labels)"
   ]
  },
  {
   "cell_type": "markdown",
   "metadata": {},
   "source": [
    "### Análise Descritiva Básica\n",
    "**Perfil demográfico**\n",
    "- Distribuição por sexo (SEXO)\n",
    "- Distribuição por idade (IDADE)\n",
    "- Distribuição por grau de instrução (GRAU_INS)\n",
    "\n",
    "**Características socioeconômicas**\n",
    "- Distribuição por condição de atividade (CD_ATIVI)\n",
    "- Distribuição de renda (VL_REN_I)\n",
    "- Relação entre renda e modo pedestre"
   ]
  },
  {
   "cell_type": "code",
   "execution_count": null,
   "metadata": {},
   "outputs": [],
   "source": [
    "sexo_dist = pedestrians.groupby('SEXO_LABEL')['FE_PESS'].sum() \n",
    "# print(\"Distribuição por sexo (%):\\n\", sexo_dist)\n",
    "sexo_dist.plot(kind='bar', title='Distribuição por Sexo (Pedestres)', ylabel='%')\n",
    "plt.xticks(rotation=0)\n",
    "plt.tight_layout()\n",
    "plt.show()"
   ]
  },
  {
   "cell_type": "code",
   "execution_count": null,
   "metadata": {},
   "outputs": [],
   "source": [
    "idade_stats = pedestrians['IDADE'].describe()\n",
    "print(\"\\nEstatísticas de idade (pedestres):\\n\", idade_stats)\n",
    "\n",
    "plt.hist(pedestrians['IDADE'], bins=15, weights=pedestrians['FE_PESS'], edgecolor='black')\n",
    "plt.title('Distribuição da Idade (Pedestres)')\n",
    "plt.xlabel('Idade')\n",
    "plt.ylabel('Número expandido de pessoas')\n",
    "plt.tight_layout()\n",
    "plt.show()"
   ]
  },
  {
   "cell_type": "code",
   "execution_count": null,
   "metadata": {},
   "outputs": [],
   "source": [
    "grau_labels = {\n",
    "    1: 'Fundamental I Incompleto',\n",
    "    2: 'Fundamental I Comp. / Fund II Incomp.',\n",
    "    3: 'Fundamental II Comp. / Médio Incomp.',\n",
    "    4: 'Médio Comp. / Sup. Incompleto',\n",
    "    5: 'Superior Completo'\n",
    "}\n",
    "pedestrians['GRAU_LABEL'] = pedestrians['GRAU_INS'].map(grau_labels)\n",
    "\n",
    "grau_dist = pedestrians.groupby('GRAU_LABEL')['FE_PESS'].sum().sort_values(ascending=False)\n",
    "grau_dist.plot(kind='barh', title='Grau de Instrução dos Pedestres', xlabel='Pessoas (expandidas)')\n",
    "plt.tight_layout()\n",
    "plt.show()\n"
   ]
  },
  {
   "cell_type": "code",
   "execution_count": null,
   "metadata": {},
   "outputs": [],
   "source": [
    "atividade_labels = {\n",
    "    1: 'Trabalho regular',\n",
    "    2: 'Bico',\n",
    "    3: 'Licença médica',\n",
    "    4: 'Aposentado',\n",
    "    5: 'Sem trabalho',\n",
    "    6: 'Nunca trabalhou',\n",
    "    7: 'Dona de casa',\n",
    "    8: 'Estudante'\n",
    "}\n",
    "pedestrians['ATIVI_LABEL'] = pedestrians['CD_ATIVI'].map(atividade_labels)\n",
    "\n",
    "ativi_dist = pedestrians.groupby('ATIVI_LABEL')['FE_PESS'].sum().sort_values(ascending=False)\n",
    "ativi_dist.plot(kind='bar', title='Condição de Atividade dos Pedestres', ylabel='Pessoas (expandidas)')\n",
    "plt.xticks(rotation=45, ha='right')\n",
    "plt.tight_layout()\n",
    "plt.show()\n"
   ]
  },
  {
   "cell_type": "code",
   "execution_count": null,
   "metadata": {},
   "outputs": [],
   "source": [
    "renda_stats = pedestrians['VL_REN_I'].describe()\n",
    "# print(\"\\nEstatísticas da renda individual (pedestres):\\n\", renda_stats)\n",
    "\n",
    "plt.figure(figsize=(8, 5))\n",
    "sns.boxplot(data=pedestrians, x='VL_REN_I')\n",
    "plt.title('Boxplot da Renda Individual dos Pedestres')\n",
    "plt.xlabel('Renda (R$)')\n",
    "plt.tight_layout()\n",
    "plt.show()"
   ]
  },
  {
   "cell_type": "code",
   "execution_count": null,
   "metadata": {},
   "outputs": [],
   "source": [
    "renda_grau = pedestrians.groupby('GRAU_LABEL')['VL_REN_I'].mean().sort_values()\n",
    "renda_grau.plot(kind='barh', title='Renda Média por Grau de Instrução (Pedestres)', xlabel='Renda Média (R$)')\n",
    "plt.tight_layout()\n",
    "plt.show()"
   ]
  },
  {
   "cell_type": "markdown",
   "metadata": {},
   "source": [
    "### Análise Específica do Comportamento como Pedestre\n",
    "**Motivações**\n",
    "- Razões para caminhar (PE_BICI)\n",
    "- Motivos de viagem (MOTIVO_D)\n",
    "\n",
    "**Padrões de deslocamento**\n",
    "- Distribuição de distâncias percorridas (DISTANCIA)\n",
    "- Relação entre distância e motivo da viagem\n",
    "- Relação entre distância e características demográficas"
   ]
  }
 ],
 "metadata": {
  "kernelspec": {
   "display_name": ".venv",
   "language": "python",
   "name": "python3"
  },
  "language_info": {
   "codemirror_mode": {
    "name": "ipython",
    "version": 3
   },
   "file_extension": ".py",
   "mimetype": "text/x-python",
   "name": "python",
   "nbconvert_exporter": "python",
   "pygments_lexer": "ipython3",
   "version": "3.12.3"
  }
 },
 "nbformat": 4,
 "nbformat_minor": 2
}
