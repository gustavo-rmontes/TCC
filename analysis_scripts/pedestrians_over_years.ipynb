{
 "cells": [
  {
   "cell_type": "markdown",
   "id": "72074f7e",
   "metadata": {},
   "source": [
    "# Análise Comparativa da Evolução Modal entre as Pesquisas Origem-Destino (OD)\n",
    "\n",
    "## Overview\n",
    "Este notebook compara a distribuição modal (%) entre as diferentes edições da pesquisa OD, identificando tendências e variações no uso dos meios de transporte ao longo dos anos."
   ]
  },
  {
   "cell_type": "code",
   "execution_count": 9,
   "id": "b50be5ea",
   "metadata": {},
   "outputs": [],
   "source": [
    "import pandas as pd\n",
    "import matplotlib.pyplot as plt\n",
    "import seaborn as sns\n",
    "from utils.converter_dbf_to_csv import convert_dbf_to_csv"
   ]
  },
  {
   "cell_type": "code",
   "execution_count": 10,
   "id": "ce4e00e4",
   "metadata": {},
   "outputs": [],
   "source": [
    "od_23_path = \"../data/OD/OD-2023/od23_all.csv\"\n",
    "od_17_path = \"../data/OD/OD-2017/Banco de Dados-OD2017/od_2017.csv\"\n",
    "od_07_path = \"../data/OD/OD-2007/Banco de Dados-OD2007/OD_2007_v2d.dbf\"\n",
    "od_97_path = \"../data/OD/OD-1997/Banco de Dados/Domiciliar/OD97Zona.dbf\"\n",
    "od_87_path = \"../data/OD/OD-1987/Banco de Dados/OD_1987.dbf\"\n",
    "od_77_path = \"../data/OD/OD-1977/Banco de Dados/od77_CD.dbf\""
   ]
  },
  {
   "cell_type": "code",
   "execution_count": 12,
   "id": "3883e671",
   "metadata": {},
   "outputs": [
    {
     "ename": "ValueError",
     "evalue": "invalid date b'********'",
     "output_type": "error",
     "traceback": [
      "\u001b[31m---------------------------------------------------------------------------\u001b[39m",
      "\u001b[31mValueError\u001b[39m                                Traceback (most recent call last)",
      "\u001b[36mFile \u001b[39m\u001b[32m~/projects/me/tcc/TCC/.venv/lib/python3.12/site-packages/dbfread/field_parser.py:92\u001b[39m, in \u001b[36mFieldParser.parseD\u001b[39m\u001b[34m(self, field, data)\u001b[39m\n\u001b[32m     91\u001b[39m \u001b[38;5;28;01mtry\u001b[39;00m:\n\u001b[32m---> \u001b[39m\u001b[32m92\u001b[39m     \u001b[38;5;28;01mreturn\u001b[39;00m datetime.date(\u001b[38;5;28;43mint\u001b[39;49m\u001b[43m(\u001b[49m\u001b[43mdata\u001b[49m\u001b[43m[\u001b[49m\u001b[43m:\u001b[49m\u001b[32;43m4\u001b[39;49m\u001b[43m]\u001b[49m\u001b[43m)\u001b[49m, \u001b[38;5;28mint\u001b[39m(data[\u001b[32m4\u001b[39m:\u001b[32m6\u001b[39m]), \u001b[38;5;28mint\u001b[39m(data[\u001b[32m6\u001b[39m:\u001b[32m8\u001b[39m]))\n\u001b[32m     93\u001b[39m \u001b[38;5;28;01mexcept\u001b[39;00m \u001b[38;5;167;01mValueError\u001b[39;00m:\n",
      "\u001b[31mValueError\u001b[39m: invalid literal for int() with base 10: b'****'",
      "\nDuring handling of the above exception, another exception occurred:\n",
      "\u001b[31mValueError\u001b[39m                                Traceback (most recent call last)",
      "\u001b[36mCell\u001b[39m\u001b[36m \u001b[39m\u001b[32mIn[12]\u001b[39m\u001b[32m, line 1\u001b[39m\n\u001b[32m----> \u001b[39m\u001b[32m1\u001b[39m \u001b[43mconvert_dbf_to_csv\u001b[49m\u001b[43m(\u001b[49m\u001b[43mod_07_path\u001b[49m\u001b[43m,\u001b[49m\u001b[43m \u001b[49m\u001b[33;43m\"\u001b[39;49m\u001b[33;43m07\u001b[39;49m\u001b[33;43m\"\u001b[39;49m\u001b[43m)\u001b[49m\n\u001b[32m      2\u001b[39m convert_dbf_to_csv(od_97_path, \u001b[33m\"\u001b[39m\u001b[33m97\u001b[39m\u001b[33m\"\u001b[39m)\n\u001b[32m      3\u001b[39m convert_dbf_to_csv(od_87_path, \u001b[33m\"\u001b[39m\u001b[33m87\u001b[39m\u001b[33m\"\u001b[39m)\n",
      "\u001b[36mFile \u001b[39m\u001b[32m~/projects/me/tcc/TCC/analysis_scripts/utils/converter_dbf_to_csv.py:14\u001b[39m, in \u001b[36mconvert_dbf_to_csv\u001b[39m\u001b[34m(dbf_od_path, od_year)\u001b[39m\n\u001b[32m      6\u001b[39m \u001b[38;5;250m\u001b[39m\u001b[33;03m\"\"\"\u001b[39;00m\n\u001b[32m      7\u001b[39m \u001b[33;03mConvert a DBF file to CSV format and save it to data/OD/ODs_clean \u001b[39;00m\n\u001b[32m      8\u001b[39m \n\u001b[32m   (...)\u001b[39m\u001b[32m     11\u001b[39m \u001b[33;03m    od_year (str): Year of the OD research.\u001b[39;00m\n\u001b[32m     12\u001b[39m \u001b[33;03m\"\"\"\u001b[39;00m\n\u001b[32m     13\u001b[39m dbf = DBF(dbf_od_path)\n\u001b[32m---> \u001b[39m\u001b[32m14\u001b[39m df = \u001b[43mpd\u001b[49m\u001b[43m.\u001b[49m\u001b[43mDataFrame\u001b[49m\u001b[43m(\u001b[49m\u001b[38;5;28;43miter\u001b[39;49m\u001b[43m(\u001b[49m\u001b[43mdbf\u001b[49m\u001b[43m)\u001b[49m\u001b[43m)\u001b[49m\n\u001b[32m     16\u001b[39m clean_folder = \u001b[33m'\u001b[39m\u001b[33m../../data/OD/ODs_clean\u001b[39m\u001b[33m'\u001b[39m\n\u001b[32m     17\u001b[39m df.to_csv(\u001b[33m'\u001b[39m\u001b[33mOD_\u001b[39m\u001b[33m'\u001b[39m+od_year+\u001b[33m'\u001b[39m\u001b[33m.csv\u001b[39m\u001b[33m'\u001b[39m, index=\u001b[38;5;28;01mFalse\u001b[39;00m)\n",
      "\u001b[36mFile \u001b[39m\u001b[32m~/projects/me/tcc/TCC/.venv/lib/python3.12/site-packages/pandas/core/frame.py:843\u001b[39m, in \u001b[36mDataFrame.__init__\u001b[39m\u001b[34m(self, data, index, columns, dtype, copy)\u001b[39m\n\u001b[32m    841\u001b[39m         data = np.asarray(data)\n\u001b[32m    842\u001b[39m     \u001b[38;5;28;01melse\u001b[39;00m:\n\u001b[32m--> \u001b[39m\u001b[32m843\u001b[39m         data = \u001b[38;5;28;43mlist\u001b[39;49m\u001b[43m(\u001b[49m\u001b[43mdata\u001b[49m\u001b[43m)\u001b[49m\n\u001b[32m    844\u001b[39m \u001b[38;5;28;01mif\u001b[39;00m \u001b[38;5;28mlen\u001b[39m(data) > \u001b[32m0\u001b[39m:\n\u001b[32m    845\u001b[39m     \u001b[38;5;28;01mif\u001b[39;00m is_dataclass(data[\u001b[32m0\u001b[39m]):\n",
      "\u001b[36mFile \u001b[39m\u001b[32m~/projects/me/tcc/TCC/.venv/lib/python3.12/site-packages/dbfread/dbf.py:315\u001b[39m, in \u001b[36mDBF._iter_records\u001b[39m\u001b[34m(self, record_type)\u001b[39m\n\u001b[32m    311\u001b[39m         items = [(field.name, read(field.length)) \\\n\u001b[32m    312\u001b[39m                  \u001b[38;5;28;01mfor\u001b[39;00m field \u001b[38;5;129;01min\u001b[39;00m \u001b[38;5;28mself\u001b[39m.fields]\n\u001b[32m    313\u001b[39m     \u001b[38;5;28;01melse\u001b[39;00m:\n\u001b[32m    314\u001b[39m         items = [(field.name,\n\u001b[32m--> \u001b[39m\u001b[32m315\u001b[39m                   \u001b[43mparse\u001b[49m\u001b[43m(\u001b[49m\u001b[43mfield\u001b[49m\u001b[43m,\u001b[49m\u001b[43m \u001b[49m\u001b[43mread\u001b[49m\u001b[43m(\u001b[49m\u001b[43mfield\u001b[49m\u001b[43m.\u001b[49m\u001b[43mlength\u001b[49m\u001b[43m)\u001b[49m\u001b[43m)\u001b[49m) \\\n\u001b[32m    316\u001b[39m                  \u001b[38;5;28;01mfor\u001b[39;00m field \u001b[38;5;129;01min\u001b[39;00m \u001b[38;5;28mself\u001b[39m.fields]\n\u001b[32m    318\u001b[39m     \u001b[38;5;28;01myield\u001b[39;00m \u001b[38;5;28mself\u001b[39m.recfactory(items)\n\u001b[32m    320\u001b[39m \u001b[38;5;28;01melif\u001b[39;00m sep \u001b[38;5;129;01min\u001b[39;00m (\u001b[33mb\u001b[39m\u001b[33m'\u001b[39m\u001b[38;5;130;01m\\x1a\u001b[39;00m\u001b[33m'\u001b[39m, \u001b[33mb\u001b[39m\u001b[33m'\u001b[39m\u001b[33m'\u001b[39m):\n\u001b[32m    321\u001b[39m     \u001b[38;5;66;03m# End of records.\u001b[39;00m\n",
      "\u001b[36mFile \u001b[39m\u001b[32m~/projects/me/tcc/TCC/.venv/lib/python3.12/site-packages/dbfread/field_parser.py:79\u001b[39m, in \u001b[36mFieldParser.parse\u001b[39m\u001b[34m(self, field, data)\u001b[39m\n\u001b[32m     77\u001b[39m     \u001b[38;5;28;01mraise\u001b[39;00m \u001b[38;5;167;01mValueError\u001b[39;00m(\u001b[33m'\u001b[39m\u001b[33mUnknown field type: \u001b[39m\u001b[38;5;132;01m{!r}\u001b[39;00m\u001b[33m'\u001b[39m.format(field.type))\n\u001b[32m     78\u001b[39m \u001b[38;5;28;01melse\u001b[39;00m:\n\u001b[32m---> \u001b[39m\u001b[32m79\u001b[39m     \u001b[38;5;28;01mreturn\u001b[39;00m \u001b[43mfunc\u001b[49m\u001b[43m(\u001b[49m\u001b[43mfield\u001b[49m\u001b[43m,\u001b[49m\u001b[43m \u001b[49m\u001b[43mdata\u001b[49m\u001b[43m)\u001b[49m\n",
      "\u001b[36mFile \u001b[39m\u001b[32m~/projects/me/tcc/TCC/.venv/lib/python3.12/site-packages/dbfread/field_parser.py:99\u001b[39m, in \u001b[36mFieldParser.parseD\u001b[39m\u001b[34m(self, field, data)\u001b[39m\n\u001b[32m     97\u001b[39m     \u001b[38;5;28;01mreturn\u001b[39;00m \u001b[38;5;28;01mNone\u001b[39;00m\n\u001b[32m     98\u001b[39m \u001b[38;5;28;01melse\u001b[39;00m:\n\u001b[32m---> \u001b[39m\u001b[32m99\u001b[39m     \u001b[38;5;28;01mraise\u001b[39;00m \u001b[38;5;167;01mValueError\u001b[39;00m(\u001b[33m'\u001b[39m\u001b[33minvalid date \u001b[39m\u001b[38;5;132;01m{!r}\u001b[39;00m\u001b[33m'\u001b[39m.format(data))\n",
      "\u001b[31mValueError\u001b[39m: invalid date b'********'"
     ]
    }
   ],
   "source": [
    "convert_dbf_to_csv(od_07_path, \"07\")\n",
    "convert_dbf_to_csv(od_97_path, \"97\")\n",
    "convert_dbf_to_csv(od_87_path, \"87\")\n",
    "convert_dbf_to_csv(od_77_path, \"77\") "
   ]
  }
 ],
 "metadata": {
  "kernelspec": {
   "display_name": ".venv",
   "language": "python",
   "name": "python3"
  },
  "language_info": {
   "codemirror_mode": {
    "name": "ipython",
    "version": 3
   },
   "file_extension": ".py",
   "mimetype": "text/x-python",
   "name": "python",
   "nbconvert_exporter": "python",
   "pygments_lexer": "ipython3",
   "version": "3.12.3"
  }
 },
 "nbformat": 4,
 "nbformat_minor": 5
}
