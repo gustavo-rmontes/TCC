{
 "cells": [
  {
   "cell_type": "markdown",
   "id": "72074f7e",
   "metadata": {},
   "source": [
    "# Análise Comparativa da Evolução Modal entre as Pesquisas Origem-Destino (OD)\n",
    "\n",
    "## Overview\n",
    "Este notebook compara a distribuição modal (%) entre as diferentes edições da pesquisa OD, identificando tendências e variações no uso dos meios de transporte ao longo dos anos."
   ]
  },
  {
   "cell_type": "code",
   "execution_count": 58,
   "id": "b50be5ea",
   "metadata": {},
   "outputs": [],
   "source": [
    "import pandas as pd\n",
    "import matplotlib.pyplot as plt\n",
    "import seaborn as sns"
   ]
  },
  {
   "cell_type": "code",
   "execution_count": 56,
   "id": "ce4e00e4",
   "metadata": {},
   "outputs": [],
   "source": [
    "od_23_path = \"../data/OD/ODS/od23_all.csv\"\n",
    "od_17_path = \"../data/OD/ODS/od_2017.csv\"\n",
    "od_07_path = \"../data/OD/ODS/OD_2007.csv\"\n",
    "od_97_path = \"../data/OD/ODS/OD_1997.csv\"\n",
    "od_87_path = \"../data/OD/ODS/OD_1987.csv\"\n",
    "od_77_path = \"../data/OD/ODS/OD_1977.csv\""
   ]
  }
 ],
 "metadata": {
  "kernelspec": {
   "display_name": ".venv",
   "language": "python",
   "name": "python3"
  },
  "language_info": {
   "codemirror_mode": {
    "name": "ipython",
    "version": 3
   },
   "file_extension": ".py",
   "mimetype": "text/x-python",
   "name": "python",
   "nbconvert_exporter": "python",
   "pygments_lexer": "ipython3",
   "version": "3.12.3"
  }
 },
 "nbformat": 4,
 "nbformat_minor": 5
}
